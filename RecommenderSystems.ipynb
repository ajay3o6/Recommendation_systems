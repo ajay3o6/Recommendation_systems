{
 "cells": [
  {
   "cell_type": "code",
   "execution_count": 2,
   "metadata": {
    "id": "s2tzcnx7z8y7"
   },
   "outputs": [],
   "source": [
    "import numpy as np \n",
    "import pandas as pd\n",
    "import matplotlib.pyplot as plt\n",
    "import seaborn as sns\n",
    "from sklearn.model_selection import train_test_split\n",
    "%matplotlib inline\n",
    "\n"
   ]
  },
  {
   "cell_type": "code",
   "execution_count": 3,
   "metadata": {
    "colab": {
     "base_uri": "https://localhost:8080/",
     "height": 73,
     "resources": {
      "http://localhost:8080/nbextensions/google.colab/files.js": {
       "data": "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",
       "headers": [
        [
         "content-type",
         "application/javascript"
        ]
       ],
       "ok": true,
       "status": 200,
       "status_text": ""
      }
     }
    },
    "id": "2sFZJo480Dy8",
    "outputId": "bf660de4-6ce9-426e-a384-1830e112f8f3"
   },
   "outputs": [
    {
     "data": {
      "text/html": [
       "\n",
       "     <input type=\"file\" id=\"files-8f1b2317-e0bd-406f-9d3b-8ad83b07d313\" name=\"files[]\" multiple disabled\n",
       "        style=\"border:none\" />\n",
       "     <output id=\"result-8f1b2317-e0bd-406f-9d3b-8ad83b07d313\">\n",
       "      Upload widget is only available when the cell has been executed in the\n",
       "      current browser session. Please rerun this cell to enable.\n",
       "      </output>\n",
       "      <script src=\"/nbextensions/google.colab/files.js\"></script> "
      ],
      "text/plain": [
       "<IPython.core.display.HTML object>"
      ]
     },
     "metadata": {
      "tags": []
     },
     "output_type": "display_data"
    },
    {
     "name": "stdout",
     "output_type": "stream",
     "text": [
      "Saving ratings_Electronics.csv to ratings_Electronics.csv\n"
     ]
    }
   ],
   "source": [
    "from google.colab import files\n",
    "uploaded = files.upload()"
   ]
  },
  {
   "cell_type": "code",
   "execution_count": 4,
   "metadata": {
    "id": "t5qM2yGf0TOW"
   },
   "outputs": [],
   "source": [
    "import io\n",
    "data = pd.read_csv(io.BytesIO(uploaded['ratings_Electronics.csv']),names=['UserID','ProdID','Rating','Time'])"
   ]
  },
  {
   "cell_type": "code",
   "execution_count": 5,
   "metadata": {
    "colab": {
     "base_uri": "https://localhost:8080/",
     "height": 415
    },
    "id": "XP-x_XiiHjI-",
    "outputId": "cf3b9934-2355-4b6c-aaa0-88522f976e02"
   },
   "outputs": [
    {
     "data": {
      "text/html": [
       "<div>\n",
       "<style scoped>\n",
       "    .dataframe tbody tr th:only-of-type {\n",
       "        vertical-align: middle;\n",
       "    }\n",
       "\n",
       "    .dataframe tbody tr th {\n",
       "        vertical-align: top;\n",
       "    }\n",
       "\n",
       "    .dataframe thead th {\n",
       "        text-align: right;\n",
       "    }\n",
       "</style>\n",
       "<table border=\"1\" class=\"dataframe\">\n",
       "  <thead>\n",
       "    <tr style=\"text-align: right;\">\n",
       "      <th></th>\n",
       "      <th>UserID</th>\n",
       "      <th>ProdID</th>\n",
       "      <th>Rating</th>\n",
       "      <th>Time</th>\n",
       "    </tr>\n",
       "  </thead>\n",
       "  <tbody>\n",
       "    <tr>\n",
       "      <th>0</th>\n",
       "      <td>AKM1MP6P0OYPR</td>\n",
       "      <td>132793040</td>\n",
       "      <td>5</td>\n",
       "      <td>1365811200</td>\n",
       "    </tr>\n",
       "    <tr>\n",
       "      <th>1</th>\n",
       "      <td>A2CX7LUOHB2NDG</td>\n",
       "      <td>321732944</td>\n",
       "      <td>5</td>\n",
       "      <td>1341100800</td>\n",
       "    </tr>\n",
       "    <tr>\n",
       "      <th>2</th>\n",
       "      <td>A2NWSAGRHCP8N5</td>\n",
       "      <td>439886341</td>\n",
       "      <td>1</td>\n",
       "      <td>1367193600</td>\n",
       "    </tr>\n",
       "    <tr>\n",
       "      <th>3</th>\n",
       "      <td>A2WNBOD3WNDNKT</td>\n",
       "      <td>439886341</td>\n",
       "      <td>3</td>\n",
       "      <td>1374451200</td>\n",
       "    </tr>\n",
       "    <tr>\n",
       "      <th>4</th>\n",
       "      <td>A1GI0U4ZRJA8WN</td>\n",
       "      <td>439886341</td>\n",
       "      <td>1</td>\n",
       "      <td>1334707200</td>\n",
       "    </tr>\n",
       "    <tr>\n",
       "      <th>...</th>\n",
       "      <td>...</td>\n",
       "      <td>...</td>\n",
       "      <td>...</td>\n",
       "      <td>...</td>\n",
       "    </tr>\n",
       "    <tr>\n",
       "      <th>1048571</th>\n",
       "      <td>A1H16CBCNEL4G3</td>\n",
       "      <td>B000IF51UQ</td>\n",
       "      <td>5</td>\n",
       "      <td>1356739200</td>\n",
       "    </tr>\n",
       "    <tr>\n",
       "      <th>1048572</th>\n",
       "      <td>A1C2OANTC49AQI</td>\n",
       "      <td>B000IF51UQ</td>\n",
       "      <td>5</td>\n",
       "      <td>1382486400</td>\n",
       "    </tr>\n",
       "    <tr>\n",
       "      <th>1048573</th>\n",
       "      <td>A2JL0387FDDFS</td>\n",
       "      <td>B000IF51UQ</td>\n",
       "      <td>5</td>\n",
       "      <td>1340409600</td>\n",
       "    </tr>\n",
       "    <tr>\n",
       "      <th>1048574</th>\n",
       "      <td>A2KIYE5RF0OEMY</td>\n",
       "      <td>B000IF51UQ</td>\n",
       "      <td>4</td>\n",
       "      <td>1391212800</td>\n",
       "    </tr>\n",
       "    <tr>\n",
       "      <th>1048575</th>\n",
       "      <td>A1G9Q5UJ5Y7DES</td>\n",
       "      <td>B000IF51UQ</td>\n",
       "      <td>2</td>\n",
       "      <td>1390780800</td>\n",
       "    </tr>\n",
       "  </tbody>\n",
       "</table>\n",
       "<p>1048576 rows × 4 columns</p>\n",
       "</div>"
      ],
      "text/plain": [
       "                 UserID      ProdID  Rating        Time\n",
       "0         AKM1MP6P0OYPR   132793040       5  1365811200\n",
       "1        A2CX7LUOHB2NDG   321732944       5  1341100800\n",
       "2        A2NWSAGRHCP8N5   439886341       1  1367193600\n",
       "3        A2WNBOD3WNDNKT   439886341       3  1374451200\n",
       "4        A1GI0U4ZRJA8WN   439886341       1  1334707200\n",
       "...                 ...         ...     ...         ...\n",
       "1048571  A1H16CBCNEL4G3  B000IF51UQ       5  1356739200\n",
       "1048572  A1C2OANTC49AQI  B000IF51UQ       5  1382486400\n",
       "1048573   A2JL0387FDDFS  B000IF51UQ       5  1340409600\n",
       "1048574  A2KIYE5RF0OEMY  B000IF51UQ       4  1391212800\n",
       "1048575  A1G9Q5UJ5Y7DES  B000IF51UQ       2  1390780800\n",
       "\n",
       "[1048576 rows x 4 columns]"
      ]
     },
     "execution_count": 5,
     "metadata": {
      "tags": []
     },
     "output_type": "execute_result"
    }
   ],
   "source": [
    "data"
   ]
  },
  {
   "cell_type": "code",
   "execution_count": 6,
   "metadata": {
    "colab": {
     "base_uri": "https://localhost:8080/"
    },
    "id": "AUeKF39zHn9R",
    "outputId": "ddbc36bc-bf71-4fd8-cf1d-f872e7c1490a"
   },
   "outputs": [
    {
     "name": "stdout",
     "output_type": "stream",
     "text": [
      "<class 'pandas.core.frame.DataFrame'>\n",
      "RangeIndex: 1048576 entries, 0 to 1048575\n",
      "Data columns (total 4 columns):\n",
      " #   Column  Non-Null Count    Dtype \n",
      "---  ------  --------------    ----- \n",
      " 0   UserID  1048576 non-null  object\n",
      " 1   ProdID  1048576 non-null  object\n",
      " 2   Rating  1048576 non-null  int64 \n",
      " 3   Time    1048576 non-null  int64 \n",
      "dtypes: int64(2), object(2)\n",
      "memory usage: 32.0+ MB\n"
     ]
    }
   ],
   "source": [
    "data.info()\n"
   ]
  },
  {
   "cell_type": "code",
   "execution_count": 7,
   "metadata": {
    "colab": {
     "base_uri": "https://localhost:8080/"
    },
    "id": "q5C5sP6jH5on",
    "outputId": "ae3f4c9e-4eed-4564-f216-bac42b09e70b"
   },
   "outputs": [
    {
     "data": {
      "text/plain": [
       "(1048576, 4)"
      ]
     },
     "execution_count": 7,
     "metadata": {
      "tags": []
     },
     "output_type": "execute_result"
    }
   ],
   "source": [
    "data.shape\n"
   ]
  },
  {
   "cell_type": "code",
   "execution_count": 8,
   "metadata": {
    "colab": {
     "base_uri": "https://localhost:8080/",
     "height": 294
    },
    "id": "UN2Rx41rH8hs",
    "outputId": "a7ceac98-86e0-499f-e670-daa7992bc308"
   },
   "outputs": [
    {
     "data": {
      "text/html": [
       "<div>\n",
       "<style scoped>\n",
       "    .dataframe tbody tr th:only-of-type {\n",
       "        vertical-align: middle;\n",
       "    }\n",
       "\n",
       "    .dataframe tbody tr th {\n",
       "        vertical-align: top;\n",
       "    }\n",
       "\n",
       "    .dataframe thead th {\n",
       "        text-align: right;\n",
       "    }\n",
       "</style>\n",
       "<table border=\"1\" class=\"dataframe\">\n",
       "  <thead>\n",
       "    <tr style=\"text-align: right;\">\n",
       "      <th></th>\n",
       "      <th>Rating</th>\n",
       "      <th>Time</th>\n",
       "    </tr>\n",
       "  </thead>\n",
       "  <tbody>\n",
       "    <tr>\n",
       "      <th>count</th>\n",
       "      <td>1.048576e+06</td>\n",
       "      <td>1.048576e+06</td>\n",
       "    </tr>\n",
       "    <tr>\n",
       "      <th>mean</th>\n",
       "      <td>3.973380e+00</td>\n",
       "      <td>1.248822e+09</td>\n",
       "    </tr>\n",
       "    <tr>\n",
       "      <th>std</th>\n",
       "      <td>1.399329e+00</td>\n",
       "      <td>1.091615e+08</td>\n",
       "    </tr>\n",
       "    <tr>\n",
       "      <th>min</th>\n",
       "      <td>1.000000e+00</td>\n",
       "      <td>9.127296e+08</td>\n",
       "    </tr>\n",
       "    <tr>\n",
       "      <th>25%</th>\n",
       "      <td>3.000000e+00</td>\n",
       "      <td>1.169078e+09</td>\n",
       "    </tr>\n",
       "    <tr>\n",
       "      <th>50%</th>\n",
       "      <td>5.000000e+00</td>\n",
       "      <td>1.250035e+09</td>\n",
       "    </tr>\n",
       "    <tr>\n",
       "      <th>75%</th>\n",
       "      <td>5.000000e+00</td>\n",
       "      <td>1.355789e+09</td>\n",
       "    </tr>\n",
       "    <tr>\n",
       "      <th>max</th>\n",
       "      <td>5.000000e+00</td>\n",
       "      <td>1.406074e+09</td>\n",
       "    </tr>\n",
       "  </tbody>\n",
       "</table>\n",
       "</div>"
      ],
      "text/plain": [
       "             Rating          Time\n",
       "count  1.048576e+06  1.048576e+06\n",
       "mean   3.973380e+00  1.248822e+09\n",
       "std    1.399329e+00  1.091615e+08\n",
       "min    1.000000e+00  9.127296e+08\n",
       "25%    3.000000e+00  1.169078e+09\n",
       "50%    5.000000e+00  1.250035e+09\n",
       "75%    5.000000e+00  1.355789e+09\n",
       "max    5.000000e+00  1.406074e+09"
      ]
     },
     "execution_count": 8,
     "metadata": {
      "tags": []
     },
     "output_type": "execute_result"
    }
   ],
   "source": [
    "data.describe()"
   ]
  },
  {
   "cell_type": "code",
   "execution_count": 9,
   "metadata": {
    "id": "21sg_ZHBIBdy"
   },
   "outputs": [],
   "source": [
    "data=data.drop('Time',axis=1)"
   ]
  },
  {
   "cell_type": "code",
   "execution_count": 10,
   "metadata": {
    "colab": {
     "base_uri": "https://localhost:8080/",
     "height": 415
    },
    "id": "OAAiV0XLIftZ",
    "outputId": "438c8c91-038d-4448-c8fb-216b4a5cbb17"
   },
   "outputs": [
    {
     "data": {
      "text/html": [
       "<div>\n",
       "<style scoped>\n",
       "    .dataframe tbody tr th:only-of-type {\n",
       "        vertical-align: middle;\n",
       "    }\n",
       "\n",
       "    .dataframe tbody tr th {\n",
       "        vertical-align: top;\n",
       "    }\n",
       "\n",
       "    .dataframe thead th {\n",
       "        text-align: right;\n",
       "    }\n",
       "</style>\n",
       "<table border=\"1\" class=\"dataframe\">\n",
       "  <thead>\n",
       "    <tr style=\"text-align: right;\">\n",
       "      <th></th>\n",
       "      <th>UserID</th>\n",
       "      <th>ProdID</th>\n",
       "      <th>Rating</th>\n",
       "    </tr>\n",
       "  </thead>\n",
       "  <tbody>\n",
       "    <tr>\n",
       "      <th>0</th>\n",
       "      <td>AKM1MP6P0OYPR</td>\n",
       "      <td>132793040</td>\n",
       "      <td>5</td>\n",
       "    </tr>\n",
       "    <tr>\n",
       "      <th>1</th>\n",
       "      <td>A2CX7LUOHB2NDG</td>\n",
       "      <td>321732944</td>\n",
       "      <td>5</td>\n",
       "    </tr>\n",
       "    <tr>\n",
       "      <th>2</th>\n",
       "      <td>A2NWSAGRHCP8N5</td>\n",
       "      <td>439886341</td>\n",
       "      <td>1</td>\n",
       "    </tr>\n",
       "    <tr>\n",
       "      <th>3</th>\n",
       "      <td>A2WNBOD3WNDNKT</td>\n",
       "      <td>439886341</td>\n",
       "      <td>3</td>\n",
       "    </tr>\n",
       "    <tr>\n",
       "      <th>4</th>\n",
       "      <td>A1GI0U4ZRJA8WN</td>\n",
       "      <td>439886341</td>\n",
       "      <td>1</td>\n",
       "    </tr>\n",
       "    <tr>\n",
       "      <th>...</th>\n",
       "      <td>...</td>\n",
       "      <td>...</td>\n",
       "      <td>...</td>\n",
       "    </tr>\n",
       "    <tr>\n",
       "      <th>1048571</th>\n",
       "      <td>A1H16CBCNEL4G3</td>\n",
       "      <td>B000IF51UQ</td>\n",
       "      <td>5</td>\n",
       "    </tr>\n",
       "    <tr>\n",
       "      <th>1048572</th>\n",
       "      <td>A1C2OANTC49AQI</td>\n",
       "      <td>B000IF51UQ</td>\n",
       "      <td>5</td>\n",
       "    </tr>\n",
       "    <tr>\n",
       "      <th>1048573</th>\n",
       "      <td>A2JL0387FDDFS</td>\n",
       "      <td>B000IF51UQ</td>\n",
       "      <td>5</td>\n",
       "    </tr>\n",
       "    <tr>\n",
       "      <th>1048574</th>\n",
       "      <td>A2KIYE5RF0OEMY</td>\n",
       "      <td>B000IF51UQ</td>\n",
       "      <td>4</td>\n",
       "    </tr>\n",
       "    <tr>\n",
       "      <th>1048575</th>\n",
       "      <td>A1G9Q5UJ5Y7DES</td>\n",
       "      <td>B000IF51UQ</td>\n",
       "      <td>2</td>\n",
       "    </tr>\n",
       "  </tbody>\n",
       "</table>\n",
       "<p>1048576 rows × 3 columns</p>\n",
       "</div>"
      ],
      "text/plain": [
       "                 UserID      ProdID  Rating\n",
       "0         AKM1MP6P0OYPR   132793040       5\n",
       "1        A2CX7LUOHB2NDG   321732944       5\n",
       "2        A2NWSAGRHCP8N5   439886341       1\n",
       "3        A2WNBOD3WNDNKT   439886341       3\n",
       "4        A1GI0U4ZRJA8WN   439886341       1\n",
       "...                 ...         ...     ...\n",
       "1048571  A1H16CBCNEL4G3  B000IF51UQ       5\n",
       "1048572  A1C2OANTC49AQI  B000IF51UQ       5\n",
       "1048573   A2JL0387FDDFS  B000IF51UQ       5\n",
       "1048574  A2KIYE5RF0OEMY  B000IF51UQ       4\n",
       "1048575  A1G9Q5UJ5Y7DES  B000IF51UQ       2\n",
       "\n",
       "[1048576 rows x 3 columns]"
      ]
     },
     "execution_count": 10,
     "metadata": {
      "tags": []
     },
     "output_type": "execute_result"
    }
   ],
   "source": [
    "data"
   ]
  },
  {
   "cell_type": "markdown",
   "metadata": {
    "id": "GGnn9TEhP4yS"
   },
   "source": [
    "The dimension 'Time' has been dropped as there can be no relevance for the recommendation systems."
   ]
  },
  {
   "cell_type": "code",
   "execution_count": 11,
   "metadata": {
    "colab": {
     "base_uri": "https://localhost:8080/"
    },
    "id": "2Bau87tvIk_M",
    "outputId": "3e0c858f-353f-46b7-feb5-bf230a07f357"
   },
   "outputs": [
    {
     "data": {
      "text/plain": [
       "UserID    0\n",
       "ProdID    0\n",
       "Rating    0\n",
       "dtype: int64"
      ]
     },
     "execution_count": 11,
     "metadata": {
      "tags": []
     },
     "output_type": "execute_result"
    }
   ],
   "source": [
    "data.isnull().sum()"
   ]
  },
  {
   "cell_type": "markdown",
   "metadata": {
    "id": "eJ4nhfcdP-n_"
   },
   "source": [
    "There are no missing values in the dataset"
   ]
  },
  {
   "cell_type": "code",
   "execution_count": 12,
   "metadata": {
    "colab": {
     "base_uri": "https://localhost:8080/",
     "height": 351
    },
    "id": "55JhypFEI2Kc",
    "outputId": "ee7e736e-015f-4bb4-c1d2-c7417137fa38"
   },
   "outputs": [
    {
     "name": "stderr",
     "output_type": "stream",
     "text": [
      "/usr/local/lib/python3.6/dist-packages/seaborn/_decorators.py:43: FutureWarning: Pass the following variable as a keyword arg: x. From version 0.12, the only valid positional argument will be `data`, and passing other arguments without an explicit keyword will result in an error or misinterpretation.\n",
      "  FutureWarning\n"
     ]
    },
    {
     "data": {
      "text/plain": [
       "<matplotlib.axes._subplots.AxesSubplot at 0x7f9937e1ac88>"
      ]
     },
     "execution_count": 12,
     "metadata": {
      "tags": []
     },
     "output_type": "execute_result"
    },
    {
     "data": {
      "image/png": "[encoded data removed]",
      "text/plain": [
       "<Figure size 432x288 with 1 Axes>"
      ]
     },
     "metadata": {
      "needs_background": "light",
      "tags": []
     },
     "output_type": "display_data"
    }
   ],
   "source": [
    "sns.countplot(data['Rating'])"
   ]
  },
  {
   "cell_type": "markdown",
   "metadata": {
    "id": "pkwuVzYhQFVO"
   },
   "source": [
    "The users have given a rating of 5 to most of the products( more than 5 lakh reviews)."
   ]
  },
  {
   "cell_type": "code",
   "execution_count": 13,
   "metadata": {
    "colab": {
     "base_uri": "https://localhost:8080/"
    },
    "id": "HBUN6O7dI7Fx",
    "outputId": "70aa5a6a-6df9-41fa-8bb8-db38aecf764d"
   },
   "outputs": [
    {
     "name": "stdout",
     "output_type": "stream",
     "text": [
      "Number of unique users 786330\n",
      "Number of unique products 61894\n"
     ]
    }
   ],
   "source": [
    "print(\"Number of unique users\" , len(np.unique(data.UserID)))\n",
    "print(\"Number of unique products\" , len(np.unique(data.ProdID)))"
   ]
  },
  {
   "cell_type": "code",
   "execution_count": 14,
   "metadata": {
    "colab": {
     "base_uri": "https://localhost:8080/"
    },
    "id": "Vyb2BV9BI9hF",
    "outputId": "60927a2a-762c-4f57-8e1c-715e971cff99"
   },
   "outputs": [
    {
     "data": {
      "text/plain": [
       "UserID\n",
       "A5JLAU2ARJ0BO            412\n",
       "A231WM2Z2JL0U3           249\n",
       "A25HBO5V8S8SEA           164\n",
       "A6FIAB28IS79             146\n",
       "AT6CZDCP4TRGA            128\n",
       "                        ... \n",
       "A3EEW1G63825UL             1\n",
       "A3EEVD827ZC4JY             1\n",
       "A3EEUZUBZQ4N4D             1\n",
       "A3EEUT0F9898GS             1\n",
       "A00037441I8XOQJSUWCAG      1\n",
       "Name: Rating, Length: 786330, dtype: int64"
      ]
     },
     "execution_count": 14,
     "metadata": {
      "tags": []
     },
     "output_type": "execute_result"
    }
   ],
   "source": [
    "rate_user=data.groupby(by='UserID')['Rating'].count().sort_values(ascending=False)\n",
    "rate_user"
   ]
  },
  {
   "cell_type": "code",
   "execution_count": 15,
   "metadata": {
    "colab": {
     "base_uri": "https://localhost:8080/"
    },
    "id": "E9UhY78GJCxw",
    "outputId": "74bfb240-3549-460c-c154-c38ca2137e6d"
   },
   "outputs": [
    {
     "data": {
      "text/plain": [
       "count    786330.000000\n",
       "mean          1.333506\n",
       "std           1.385612\n",
       "min           1.000000\n",
       "25%           1.000000\n",
       "50%           1.000000\n",
       "75%           1.000000\n",
       "max         412.000000\n",
       "Name: Rating, dtype: float64"
      ]
     },
     "execution_count": 15,
     "metadata": {
      "tags": []
     },
     "output_type": "execute_result"
    }
   ],
   "source": [
    "rate_user.describe()"
   ]
  },
  {
   "cell_type": "code",
   "execution_count": 16,
   "metadata": {
    "colab": {
     "base_uri": "https://localhost:8080/"
    },
    "id": "3v9JzJYEJKBq",
    "outputId": "7424b76f-4fcc-40d7-b61a-8a5a644cf3f3"
   },
   "outputs": [
    {
     "name": "stdout",
     "output_type": "stream",
     "text": [
      "Number of user who have give more than 40 reviews: 72\n"
     ]
    }
   ],
   "source": [
    "print(\"Number of user who have give more than 40 reviews:\", sum(rate_user>=40))"
   ]
  },
  {
   "cell_type": "markdown",
   "metadata": {
    "id": "sjUSePagbRjf"
   },
   "source": [
    "There are about 10,48,756 records with 7,86,330 unique users and 61,894 unique products with more than 5 lakh products being rated 5. All records being absolute - with no null values in them. With a single product having a maximum of 412 reviews and a minimum and average of 1 review. There are are about 72 users who have given more than 40 reviews. "
   ]
  },
  {
   "cell_type": "code",
   "execution_count": 17,
   "metadata": {
    "id": "UdXacUXyJNAw"
   },
   "outputs": [],
   "source": [
    "#Creating a dataset with products which have more than  40 ratings\n",
    "dat_40=data.groupby(\"ProdID\").filter(lambda x:x['Rating'].count() >=40)"
   ]
  },
  {
   "cell_type": "markdown",
   "metadata": {
    "id": "RYKHcfhSeka4"
   },
   "source": [
    "Creating a  sparse dataset with users who have given more than 40 reviews and the time variable is removed as it can be of no influence in the review."
   ]
  },
  {
   "cell_type": "code",
   "execution_count": null,
   "metadata": {
    "colab": {
     "base_uri": "https://localhost:8080/",
     "height": 415
    },
    "id": "4bw3r-1iJPWz",
    "outputId": "9c8476fb-49af-4887-beb7-d12b68060cf1"
   },
   "outputs": [
    {
     "data": {
      "text/html": [
       "<div>\n",
       "<style scoped>\n",
       "    .dataframe tbody tr th:only-of-type {\n",
       "        vertical-align: middle;\n",
       "    }\n",
       "\n",
       "    .dataframe tbody tr th {\n",
       "        vertical-align: top;\n",
       "    }\n",
       "\n",
       "    .dataframe thead th {\n",
       "        text-align: right;\n",
       "    }\n",
       "</style>\n",
       "<table border=\"1\" class=\"dataframe\">\n",
       "  <thead>\n",
       "    <tr style=\"text-align: right;\">\n",
       "      <th></th>\n",
       "      <th>UserID</th>\n",
       "      <th>ProdID</th>\n",
       "      <th>Rating</th>\n",
       "    </tr>\n",
       "  </thead>\n",
       "  <tbody>\n",
       "    <tr>\n",
       "      <th>183</th>\n",
       "      <td>A1BKC6B7YHYTVV</td>\n",
       "      <td>972683275</td>\n",
       "      <td>4</td>\n",
       "    </tr>\n",
       "    <tr>\n",
       "      <th>184</th>\n",
       "      <td>AWVFSIB42LHKJ</td>\n",
       "      <td>972683275</td>\n",
       "      <td>4</td>\n",
       "    </tr>\n",
       "    <tr>\n",
       "      <th>185</th>\n",
       "      <td>A36MQBNADRH8YY</td>\n",
       "      <td>972683275</td>\n",
       "      <td>5</td>\n",
       "    </tr>\n",
       "    <tr>\n",
       "      <th>186</th>\n",
       "      <td>A3SRXMPLAEZ6DP</td>\n",
       "      <td>972683275</td>\n",
       "      <td>4</td>\n",
       "    </tr>\n",
       "    <tr>\n",
       "      <th>187</th>\n",
       "      <td>A20XXTXWF2TCPY</td>\n",
       "      <td>972683275</td>\n",
       "      <td>5</td>\n",
       "    </tr>\n",
       "    <tr>\n",
       "      <th>...</th>\n",
       "      <td>...</td>\n",
       "      <td>...</td>\n",
       "      <td>...</td>\n",
       "    </tr>\n",
       "    <tr>\n",
       "      <th>1048571</th>\n",
       "      <td>A1H16CBCNEL4G3</td>\n",
       "      <td>B000IF51UQ</td>\n",
       "      <td>5</td>\n",
       "    </tr>\n",
       "    <tr>\n",
       "      <th>1048572</th>\n",
       "      <td>A1C2OANTC49AQI</td>\n",
       "      <td>B000IF51UQ</td>\n",
       "      <td>5</td>\n",
       "    </tr>\n",
       "    <tr>\n",
       "      <th>1048573</th>\n",
       "      <td>A2JL0387FDDFS</td>\n",
       "      <td>B000IF51UQ</td>\n",
       "      <td>5</td>\n",
       "    </tr>\n",
       "    <tr>\n",
       "      <th>1048574</th>\n",
       "      <td>A2KIYE5RF0OEMY</td>\n",
       "      <td>B000IF51UQ</td>\n",
       "      <td>4</td>\n",
       "    </tr>\n",
       "    <tr>\n",
       "      <th>1048575</th>\n",
       "      <td>A1G9Q5UJ5Y7DES</td>\n",
       "      <td>B000IF51UQ</td>\n",
       "      <td>2</td>\n",
       "    </tr>\n",
       "  </tbody>\n",
       "</table>\n",
       "<p>716305 rows × 3 columns</p>\n",
       "</div>"
      ],
      "text/plain": [
       "                 UserID      ProdID  Rating\n",
       "183      A1BKC6B7YHYTVV   972683275       4\n",
       "184       AWVFSIB42LHKJ   972683275       4\n",
       "185      A36MQBNADRH8YY   972683275       5\n",
       "186      A3SRXMPLAEZ6DP   972683275       4\n",
       "187      A20XXTXWF2TCPY   972683275       5\n",
       "...                 ...         ...     ...\n",
       "1048571  A1H16CBCNEL4G3  B000IF51UQ       5\n",
       "1048572  A1C2OANTC49AQI  B000IF51UQ       5\n",
       "1048573   A2JL0387FDDFS  B000IF51UQ       5\n",
       "1048574  A2KIYE5RF0OEMY  B000IF51UQ       4\n",
       "1048575  A1G9Q5UJ5Y7DES  B000IF51UQ       2\n",
       "\n",
       "[716305 rows x 3 columns]"
      ]
     },
     "execution_count": 81,
     "metadata": {
      "tags": []
     },
     "output_type": "execute_result"
    }
   ],
   "source": [
    "dat_40"
   ]
  },
  {
   "cell_type": "markdown",
   "metadata": {
    "id": "MY0dI69SQNAf"
   },
   "source": [
    "These are the users that  frequently review products thereby making their reviews more dependable. Hereafter will be using this dataframe"
   ]
  },
  {
   "cell_type": "code",
   "execution_count": null,
   "metadata": {
    "colab": {
     "base_uri": "https://localhost:8080/"
    },
    "id": "IE9Jk9zEJk0X",
    "outputId": "f1ed2c5e-445f-4261-ef02-61886de872b3"
   },
   "outputs": [
    {
     "data": {
      "text/plain": [
       "ProdID\n",
       "B0002L5R78    9487\n",
       "B0001FTVEK    5345\n",
       "B000I68BD4    4903\n",
       "B000BQ7GW8    4275\n",
       "B00007E7JU    3523\n",
       "              ... \n",
       "B00065ZK3G      40\n",
       "B0002KR2RM      40\n",
       "B00005444H      40\n",
       "B0000DBMHR      40\n",
       "B000EMWD9U      40\n",
       "Name: Rating, Length: 4682, dtype: int64"
      ]
     },
     "execution_count": 82,
     "metadata": {
      "tags": []
     },
     "output_type": "execute_result"
    }
   ],
   "source": [
    "rate_prod = dat_40.groupby(by='ProdID')['Rating'].count().sort_values(ascending=False)\n",
    "rate_prod"
   ]
  },
  {
   "cell_type": "code",
   "execution_count": null,
   "metadata": {
    "colab": {
     "base_uri": "https://localhost:8080/"
    },
    "id": "d-GRI-o-Jtqb",
    "outputId": "8430a05a-42b3-4e3f-bec9-03847e6ab3cd"
   },
   "outputs": [
    {
     "data": {
      "text/plain": [
       "ProdID\n",
       "1400501466    3.560000\n",
       "1400501520    4.243902\n",
       "1400501776    3.884892\n",
       "1400532620    3.684211\n",
       "1400532655    3.727273\n",
       "Name: Rating, dtype: float64"
      ]
     },
     "execution_count": 24,
     "metadata": {
      "tags": []
     },
     "output_type": "execute_result"
    }
   ],
   "source": [
    "dat_40.groupby('ProdID')['Rating'].mean().head()\n"
   ]
  },
  {
   "cell_type": "code",
   "execution_count": null,
   "metadata": {
    "id": "iME29FmAJv5Y"
   },
   "outputs": [],
   "source": [
    "rate_count = pd.DataFrame(dat_40.groupby('ProdID')['Rating'].mean())\n"
   ]
  },
  {
   "cell_type": "code",
   "execution_count": null,
   "metadata": {
    "colab": {
     "base_uri": "https://localhost:8080/",
     "height": 446
    },
    "id": "ALPArPMUJx_X",
    "outputId": "5d72369f-2412-4b81-ca25-216e0d81a50b"
   },
   "outputs": [
    {
     "data": {
      "text/html": [
       "<div>\n",
       "<style scoped>\n",
       "    .dataframe tbody tr th:only-of-type {\n",
       "        vertical-align: middle;\n",
       "    }\n",
       "\n",
       "    .dataframe tbody tr th {\n",
       "        vertical-align: top;\n",
       "    }\n",
       "\n",
       "    .dataframe thead th {\n",
       "        text-align: right;\n",
       "    }\n",
       "</style>\n",
       "<table border=\"1\" class=\"dataframe\">\n",
       "  <thead>\n",
       "    <tr style=\"text-align: right;\">\n",
       "      <th></th>\n",
       "      <th>Rating</th>\n",
       "      <th>rating_counts</th>\n",
       "    </tr>\n",
       "    <tr>\n",
       "      <th>ProdID</th>\n",
       "      <th></th>\n",
       "      <th></th>\n",
       "    </tr>\n",
       "  </thead>\n",
       "  <tbody>\n",
       "    <tr>\n",
       "      <th>1400501466</th>\n",
       "      <td>3.560000</td>\n",
       "      <td>250</td>\n",
       "    </tr>\n",
       "    <tr>\n",
       "      <th>1400501520</th>\n",
       "      <td>4.243902</td>\n",
       "      <td>82</td>\n",
       "    </tr>\n",
       "    <tr>\n",
       "      <th>1400501776</th>\n",
       "      <td>3.884892</td>\n",
       "      <td>139</td>\n",
       "    </tr>\n",
       "    <tr>\n",
       "      <th>1400532620</th>\n",
       "      <td>3.684211</td>\n",
       "      <td>171</td>\n",
       "    </tr>\n",
       "    <tr>\n",
       "      <th>1400532655</th>\n",
       "      <td>3.727273</td>\n",
       "      <td>484</td>\n",
       "    </tr>\n",
       "    <tr>\n",
       "      <th>...</th>\n",
       "      <td>...</td>\n",
       "      <td>...</td>\n",
       "    </tr>\n",
       "    <tr>\n",
       "      <th>B000IEN8QQ</th>\n",
       "      <td>4.531250</td>\n",
       "      <td>64</td>\n",
       "    </tr>\n",
       "    <tr>\n",
       "      <th>B000IEO964</th>\n",
       "      <td>4.533333</td>\n",
       "      <td>60</td>\n",
       "    </tr>\n",
       "    <tr>\n",
       "      <th>B000IF4788</th>\n",
       "      <td>4.189810</td>\n",
       "      <td>1001</td>\n",
       "    </tr>\n",
       "    <tr>\n",
       "      <th>B000IF4TPY</th>\n",
       "      <td>4.211538</td>\n",
       "      <td>156</td>\n",
       "    </tr>\n",
       "    <tr>\n",
       "      <th>B000IF51UQ</th>\n",
       "      <td>3.969697</td>\n",
       "      <td>66</td>\n",
       "    </tr>\n",
       "  </tbody>\n",
       "</table>\n",
       "<p>3813 rows × 2 columns</p>\n",
       "</div>"
      ],
      "text/plain": [
       "              Rating  rating_counts\n",
       "ProdID                             \n",
       "1400501466  3.560000            250\n",
       "1400501520  4.243902             82\n",
       "1400501776  3.884892            139\n",
       "1400532620  3.684211            171\n",
       "1400532655  3.727273            484\n",
       "...              ...            ...\n",
       "B000IEN8QQ  4.531250             64\n",
       "B000IEO964  4.533333             60\n",
       "B000IF4788  4.189810           1001\n",
       "B000IF4TPY  4.211538            156\n",
       "B000IF51UQ  3.969697             66\n",
       "\n",
       "[3813 rows x 2 columns]"
      ]
     },
     "execution_count": 26,
     "metadata": {
      "tags": []
     },
     "output_type": "execute_result"
    }
   ],
   "source": [
    "rate_count['rating_counts'] = pd.DataFrame(dat_40.groupby('ProdID')['Rating'].count())\n",
    "rate_count"
   ]
  },
  {
   "cell_type": "code",
   "execution_count": null,
   "metadata": {
    "colab": {
     "base_uri": "https://localhost:8080/"
    },
    "id": "yg4fE7GpJz0a",
    "outputId": "e3287413-0fab-4b40-caa4-c959e99527cc"
   },
   "outputs": [
    {
     "data": {
      "text/plain": [
       "9487"
      ]
     },
     "execution_count": 27,
     "metadata": {
      "tags": []
     },
     "output_type": "execute_result"
    }
   ],
   "source": [
    "rate_count['rating_counts'].max()"
   ]
  },
  {
   "cell_type": "code",
   "execution_count": null,
   "metadata": {
    "colab": {
     "base_uri": "https://localhost:8080/",
     "height": 351
    },
    "id": "FOpstknvJ3Ju",
    "outputId": "9e8bdce5-0cc4-4980-e5ad-eb8bf1dd37fa"
   },
   "outputs": [
    {
     "name": "stderr",
     "output_type": "stream",
     "text": [
      "/usr/local/lib/python3.6/dist-packages/seaborn/distributions.py:2551: FutureWarning: `distplot` is a deprecated function and will be removed in a future version. Please adapt your code to use either `displot` (a figure-level function with similar flexibility) or `histplot` (an axes-level function for histograms).\n",
      "  warnings.warn(msg, FutureWarning)\n"
     ]
    },
    {
     "data": {
      "text/plain": [
       "<matplotlib.axes._subplots.AxesSubplot at 0x7fc640dd7860>"
      ]
     },
     "execution_count": 28,
     "metadata": {
      "tags": []
     },
     "output_type": "execute_result"
    },
    {
     "data": {
      "image/png": "[encoded data removed]",
      "text/plain": [
       "<Figure size 432x288 with 1 Axes>"
      ]
     },
     "metadata": {
      "needs_background": "light",
      "tags": []
     },
     "output_type": "display_data"
    }
   ],
   "source": [
    "sns.distplot(rate_count.Rating,bins=50)"
   ]
  },
  {
   "cell_type": "code",
   "execution_count": null,
   "metadata": {
    "colab": {
     "base_uri": "https://localhost:8080/",
     "height": 352
    },
    "id": "Eb2Ict3-J5Tt",
    "outputId": "46b4aa34-b72d-428c-87e6-ce97a6b44a58"
   },
   "outputs": [
    {
     "name": "stderr",
     "output_type": "stream",
     "text": [
      "/usr/local/lib/python3.6/dist-packages/seaborn/distributions.py:2551: FutureWarning: `distplot` is a deprecated function and will be removed in a future version. Please adapt your code to use either `displot` (a figure-level function with similar flexibility) or `histplot` (an axes-level function for histograms).\n",
      "  warnings.warn(msg, FutureWarning)\n"
     ]
    },
    {
     "data": {
      "text/plain": [
       "<matplotlib.axes._subplots.AxesSubplot at 0x7fc63fcd4d68>"
      ]
     },
     "execution_count": 29,
     "metadata": {
      "tags": []
     },
     "output_type": "execute_result"
    },
    {
     "data": {
      "image/png": "[encoded data removed]",
      "text/plain": [
       "<Figure size 432x288 with 1 Axes>"
      ]
     },
     "metadata": {
      "needs_background": "light",
      "tags": []
     },
     "output_type": "display_data"
    }
   ],
   "source": [
    "sns.distplot(rate_count.rating_counts)"
   ]
  },
  {
   "cell_type": "code",
   "execution_count": null,
   "metadata": {
    "colab": {
     "base_uri": "https://localhost:8080/",
     "height": 357
    },
    "id": "6PvNvxsyJ7pU",
    "outputId": "7590cb7d-d53b-4d99-eab4-2e547d3e0400"
   },
   "outputs": [
    {
     "data": {
      "text/plain": [
       "<matplotlib.axes._subplots.AxesSubplot at 0x7fc63fd35160>"
      ]
     },
     "execution_count": 30,
     "metadata": {
      "tags": []
     },
     "output_type": "execute_result"
    },
    {
     "data": {
      "image/png": "[encoded data removed]",
      "text/plain": [
       "<Figure size 432x288 with 1 Axes>"
      ]
     },
     "metadata": {
      "needs_background": "light",
      "tags": []
     },
     "output_type": "display_data"
    }
   ],
   "source": [
    "popular_products = pd.DataFrame(dat_40.groupby('ProdID')['Rating'].count())\n",
    "most_popular = popular_products.sort_values('Rating', ascending=False)\n",
    "most_popular.head(30).plot(kind = \"bar\")"
   ]
  },
  {
   "cell_type": "markdown",
   "metadata": {
    "id": "EWf7WNw3UxxB"
   },
   "source": [
    "The Popular product is calculated with the most reviews and the highest rating, so the graph shows us the top 30 popular products."
   ]
  },
  {
   "cell_type": "code",
   "execution_count": null,
   "metadata": {
    "colab": {
     "base_uri": "https://localhost:8080/"
    },
    "id": "fu1W_mi--lsH",
    "outputId": "f194bb5b-2260-4559-875c-3a973158f59e"
   },
   "outputs": [
    {
     "name": "stdout",
     "output_type": "stream",
     "text": [
      "Collecting surprise\n",
      "  Downloading https://files.pythonhosted.org/packages/61/de/e5cba8682201fcf9c3719a6fdda95693468ed061945493dea2dd37c5618b/surprise-0.1-py2.py3-none-any.whl\n",
      "Collecting scikit-surprise\n",
      "\u001b[?25l  Downloading https://files.pythonhosted.org/packages/97/37/5d334adaf5ddd65da99fc65f6507e0e4599d092ba048f4302fe8775619e8/scikit-surprise-1.1.1.tar.gz (11.8MB)\n",
      "\u001b[K     |████████████████████████████████| 11.8MB 3.2MB/s \n",
      "\u001b[?25hRequirement already satisfied: joblib>=0.11 in /usr/local/lib/python3.6/dist-packages (from scikit-surprise->surprise) (0.17.0)\n",
      "Requirement already satisfied: numpy>=1.11.2 in /usr/local/lib/python3.6/dist-packages (from scikit-surprise->surprise) (1.18.5)\n",
      "Requirement already satisfied: scipy>=1.0.0 in /usr/local/lib/python3.6/dist-packages (from scikit-surprise->surprise) (1.4.1)\n",
      "Requirement already satisfied: six>=1.10.0 in /usr/local/lib/python3.6/dist-packages (from scikit-surprise->surprise) (1.15.0)\n",
      "Building wheels for collected packages: scikit-surprise\n",
      "  Building wheel for scikit-surprise (setup.py) ... \u001b[?25l\u001b[?25hdone\n",
      "  Created wheel for scikit-surprise: filename=scikit_surprise-1.1.1-cp36-cp36m-linux_x86_64.whl size=1670927 sha256=c75516c57290c94350101f3f3ae8fe20c6ff306e675bb30c2fed92e689f568ac\n",
      "  Stored in directory: /root/.cache/pip/wheels/78/9c/3d/41b419c9d2aff5b6e2b4c0fc8d25c538202834058f9ed110d0\n",
      "Successfully built scikit-surprise\n",
      "Installing collected packages: scikit-surprise, surprise\n",
      "Successfully installed scikit-surprise-1.1.1 surprise-0.1\n"
     ]
    }
   ],
   "source": [
    "pip install surprise"
   ]
  },
  {
   "cell_type": "code",
   "execution_count": null,
   "metadata": {
    "id": "GmR8A5yXJ-Sw"
   },
   "outputs": [],
   "source": [
    "from surprise import KNNWithMeans\n",
    "from surprise import Dataset\n",
    "from surprise import accuracy\n",
    "from surprise import Reader\n",
    "import os\n",
    "from surprise.model_selection import train_test_split"
   ]
  },
  {
   "cell_type": "markdown",
   "metadata": {
    "id": "rcYwbFDNQBOG"
   },
   "source": [
    "Splitting the dataset using the surprise package with 70% as trainng set and 30% as test set.\n"
   ]
  },
  {
   "cell_type": "code",
   "execution_count": null,
   "metadata": {
    "id": "zsDk0uPtQBod"
   },
   "outputs": [],
   "source": [
    "reader = Reader(rating_scale=(1, 5))\n",
    "data = Dataset.load_from_df(dat_40,reader)"
   ]
  },
  {
   "cell_type": "code",
   "execution_count": null,
   "metadata": {
    "id": "VBCLWWBrT0ip"
   },
   "outputs": [],
   "source": [
    "trainset, testset = train_test_split(data, test_size=0.3,random_state=1)"
   ]
  },
  {
   "cell_type": "markdown",
   "metadata": {
    "id": "y0HlEMMgProR"
   },
   "source": [
    "### Collabarative Filtering Model"
   ]
  },
  {
   "cell_type": "code",
   "execution_count": null,
   "metadata": {
    "colab": {
     "base_uri": "https://localhost:8080/"
    },
    "id": "NpZ86naM_kDo",
    "outputId": "1b3891f1-fdfa-4f72-ce2f-bb5f8b6f0e87"
   },
   "outputs": [
    {
     "name": "stdout",
     "output_type": "stream",
     "text": [
      "Estimating biases using als...\n",
      "Computing the pearson_baseline similarity matrix...\n",
      "Done computing similarity matrix.\n"
     ]
    },
    {
     "data": {
      "text/plain": [
       "<surprise.prediction_algorithms.knns.KNNWithMeans at 0x7fc63fac31d0>"
      ]
     },
     "execution_count": 38,
     "metadata": {
      "tags": []
     },
     "output_type": "execute_result"
    }
   ],
   "source": [
    "# Use user_based true/false to switch between user-based or item-based collaborative filtering\n",
    "\n",
    "algo = KNNWithMeans(k=5, sim_options={'name': 'pearson_baseline', 'user_based': False})\n",
    "algo.fit(trainset)"
   ]
  },
  {
   "cell_type": "code",
   "execution_count": null,
   "metadata": {
    "id": "fskb8Xcw_xqv"
   },
   "outputs": [],
   "source": [
    "# running the trained model against the testset\n",
    "test_pred = algo.test(testset)"
   ]
  },
  {
   "cell_type": "code",
   "execution_count": null,
   "metadata": {
    "colab": {
     "base_uri": "https://localhost:8080/"
    },
    "id": "-y8ryDp8_4LP",
    "outputId": "58ea27d9-da58-4610-8b59-311d805413c3"
   },
   "outputs": [
    {
     "data": {
      "text/plain": [
       "[Prediction(uid='AEPK482YTX7UL', iid='B000068CS0', r_ui=5.0, est=4.04954041832258, details={'was_impossible': True, 'reason': 'User and/or item is unknown.'}),\n",
       " Prediction(uid='AM1FWZ76OVLER', iid='B000HS3O2G', r_ui=1.0, est=4.04954041832258, details={'was_impossible': True, 'reason': 'User and/or item is unknown.'}),\n",
       " Prediction(uid='A23LG3G7EBG2HU', iid='B00001P4ZH', r_ui=4.0, est=4.466032608695652, details={'actual_k': 0, 'was_impossible': False}),\n",
       " Prediction(uid='AKBG8GQ380TOL', iid='B000067RVJ', r_ui=3.0, est=4.04954041832258, details={'was_impossible': True, 'reason': 'User and/or item is unknown.'}),\n",
       " Prediction(uid='AKI52RJUE6QOT', iid='B000EUGX70', r_ui=4.0, est=4.04954041832258, details={'was_impossible': True, 'reason': 'User and/or item is unknown.'}),\n",
       " Prediction(uid='A31Y9YNTTGPJNI', iid='B000I13TBS', r_ui=5.0, est=4.04954041832258, details={'was_impossible': True, 'reason': 'User and/or item is unknown.'}),\n",
       " Prediction(uid='A2DM55M17M1OWY', iid='B000BHQCP4', r_ui=2.0, est=4.04954041832258, details={'was_impossible': True, 'reason': 'User and/or item is unknown.'}),\n",
       " Prediction(uid='A236UVQZSVSKE0', iid='B000HKIPVE', r_ui=5.0, est=4.04954041832258, details={'was_impossible': True, 'reason': 'User and/or item is unknown.'}),\n",
       " Prediction(uid='A1KK2Q9PSR6NSX', iid='B000A8JYB8', r_ui=4.0, est=3.96875, details={'actual_k': 0, 'was_impossible': False}),\n",
       " Prediction(uid='A309QGZCS32EWJ', iid='B00007E7C8', r_ui=5.0, est=4.04954041832258, details={'was_impossible': True, 'reason': 'User and/or item is unknown.'}),\n",
       " Prediction(uid='A2IM8UWNU1HNOG', iid='B00083Y0YG', r_ui=5.0, est=4.04954041832258, details={'was_impossible': True, 'reason': 'User and/or item is unknown.'}),\n",
       " Prediction(uid='A6L9KOTK81C0X', iid='B000GHXTBO', r_ui=5.0, est=4.375, details={'actual_k': 0, 'was_impossible': False}),\n",
       " Prediction(uid='A1HM9SAU8TV134', iid='B0002YE686', r_ui=5.0, est=4.145459999763323, details={'actual_k': 3, 'was_impossible': False}),\n",
       " Prediction(uid='A3LR3GA9N30D3B', iid='B000GGKOG8', r_ui=2.0, est=4.04954041832258, details={'was_impossible': True, 'reason': 'User and/or item is unknown.'}),\n",
       " Prediction(uid='APZYTWB8K1GNQ', iid='B000E43GOO', r_ui=4.0, est=4.04954041832258, details={'was_impossible': True, 'reason': 'User and/or item is unknown.'}),\n",
       " Prediction(uid='A3KZRH44F346W7', iid='B0002LEMWE', r_ui=4.0, est=4.04954041832258, details={'was_impossible': True, 'reason': 'User and/or item is unknown.'}),\n",
       " Prediction(uid='A269FH9V0X3593', iid='B000652SZO', r_ui=5.0, est=3.836283185840708, details={'actual_k': 0, 'was_impossible': False}),\n",
       " Prediction(uid='A41UGXM21LFMZ', iid='B00004Z0BO', r_ui=3.0, est=3.873873873873874, details={'actual_k': 0, 'was_impossible': False}),\n",
       " Prediction(uid='A3TVI6LC3J1VBU', iid='B0007MXZB2', r_ui=4.0, est=4.04954041832258, details={'was_impossible': True, 'reason': 'User and/or item is unknown.'}),\n",
       " Prediction(uid='A32VOI4ETEKGB9', iid='B0007LCKJQ', r_ui=5.0, est=4.04954041832258, details={'was_impossible': True, 'reason': 'User and/or item is unknown.'}),\n",
       " Prediction(uid='A1VI005LRLOKWT', iid='B000059MSI', r_ui=5.0, est=4.04954041832258, details={'was_impossible': True, 'reason': 'User and/or item is unknown.'}),\n",
       " Prediction(uid='A2EWESII2IDX9M', iid='B000167KPQ', r_ui=5.0, est=4.04954041832258, details={'was_impossible': True, 'reason': 'User and/or item is unknown.'}),\n",
       " Prediction(uid='A1HFJTHTGF112V', iid='B000BQ7GW8', r_ui=5.0, est=4.04954041832258, details={'was_impossible': True, 'reason': 'User and/or item is unknown.'}),\n",
       " Prediction(uid='AK3D1F2TEULT0', iid='9983891212', r_ui=5.0, est=4.04954041832258, details={'was_impossible': True, 'reason': 'User and/or item is unknown.'}),\n",
       " Prediction(uid='AG9PE35HRQ3KS', iid='B0006OCJ2W', r_ui=5.0, est=4.04954041832258, details={'was_impossible': True, 'reason': 'User and/or item is unknown.'}),\n",
       " Prediction(uid='AAYES17KF9ZPZ', iid='B0002AHT0M', r_ui=5.0, est=4.04954041832258, details={'was_impossible': True, 'reason': 'User and/or item is unknown.'}),\n",
       " Prediction(uid='A1G9UZIH0YNFZW', iid='B000GX484U', r_ui=4.0, est=4.04954041832258, details={'was_impossible': True, 'reason': 'User and/or item is unknown.'}),\n",
       " Prediction(uid='A1JT0IN757D4J2', iid='B00004TDSC', r_ui=4.0, est=4.04954041832258, details={'was_impossible': True, 'reason': 'User and/or item is unknown.'}),\n",
       " Prediction(uid='A2X297X3FP2DK8', iid='B0009RWK7K', r_ui=3.0, est=2.1944444444444446, details={'actual_k': 0, 'was_impossible': False}),\n",
       " Prediction(uid='A3OUI5R4O0XKXB', iid='B00004Z5PY', r_ui=5.0, est=4.04954041832258, details={'was_impossible': True, 'reason': 'User and/or item is unknown.'}),\n",
       " Prediction(uid='A3D90JZR5NU7SQ', iid='B000ABB4HC', r_ui=4.0, est=4.04954041832258, details={'was_impossible': True, 'reason': 'User and/or item is unknown.'}),\n",
       " Prediction(uid='AOK81W3TKINVA', iid='B000EIXX4S', r_ui=3.0, est=4.04954041832258, details={'was_impossible': True, 'reason': 'User and/or item is unknown.'}),\n",
       " Prediction(uid='A1F9A5DTM0799W', iid='B00009V332', r_ui=5.0, est=4.029535864978903, details={'actual_k': 0, 'was_impossible': False}),\n",
       " Prediction(uid='A8ZTW3BPGD2YE', iid='B0002KVQBA', r_ui=5.0, est=4.04954041832258, details={'was_impossible': True, 'reason': 'User and/or item is unknown.'}),\n",
       " Prediction(uid='A2KH7M5ABA9HBL', iid='B000IF4788', r_ui=5.0, est=4.212553495007133, details={'actual_k': 0, 'was_impossible': False}),\n",
       " Prediction(uid='A21MT58LPHIU8P', iid='B0002MQGOA', r_ui=1.0, est=4.04954041832258, details={'was_impossible': True, 'reason': 'User and/or item is unknown.'}),\n",
       " Prediction(uid='AWLKWESKDEWP', iid='B0009PAYY8', r_ui=5.0, est=4.04954041832258, details={'was_impossible': True, 'reason': 'User and/or item is unknown.'}),\n",
       " Prediction(uid='A1FE2QNFOG4QN5', iid='B000FJEYZS', r_ui=5.0, est=4.04954041832258, details={'was_impossible': True, 'reason': 'User and/or item is unknown.'}),\n",
       " Prediction(uid='A3M1POMPBRMIS0', iid='B000EXS1BS', r_ui=5.0, est=4.04954041832258, details={'was_impossible': True, 'reason': 'User and/or item is unknown.'}),\n",
       " Prediction(uid='AWZOJA5D1M3KL', iid='B0000B3E8U', r_ui=4.0, est=4.04954041832258, details={'was_impossible': True, 'reason': 'User and/or item is unknown.'}),\n",
       " Prediction(uid='A2WZOY7XPOQWHR', iid='B00007E7JU', r_ui=5.0, est=4.04954041832258, details={'was_impossible': True, 'reason': 'User and/or item is unknown.'}),\n",
       " Prediction(uid='A2LDT88R76XUSG', iid='B00006JQ06', r_ui=4.0, est=4.04954041832258, details={'was_impossible': True, 'reason': 'User and/or item is unknown.'}),\n",
       " Prediction(uid='A3067HCF5FXY7F', iid='B0002YE686', r_ui=5.0, est=4.04954041832258, details={'was_impossible': True, 'reason': 'User and/or item is unknown.'}),\n",
       " Prediction(uid='A3FCO94DLFT060', iid='B0009NEUOA', r_ui=5.0, est=4.111111111111111, details={'actual_k': 0, 'was_impossible': False}),\n",
       " Prediction(uid='A1TRN5E38TA16B', iid='B0009R5KMM', r_ui=5.0, est=4.04954041832258, details={'was_impossible': True, 'reason': 'User and/or item is unknown.'}),\n",
       " Prediction(uid='ABFB8RUXVLQDN', iid='B00007LTB6', r_ui=5.0, est=5, details={'actual_k': 1, 'was_impossible': False}),\n",
       " Prediction(uid='A29W0CS1KZOQUP', iid='B000CRFOMK', r_ui=5.0, est=4.04954041832258, details={'was_impossible': True, 'reason': 'User and/or item is unknown.'}),\n",
       " Prediction(uid='A36VZ9J1QOH46K', iid='B000088NO8', r_ui=1.0, est=4.04954041832258, details={'was_impossible': True, 'reason': 'User and/or item is unknown.'}),\n",
       " Prediction(uid='A28QOJWB4AON0Y', iid='B000EN0K94', r_ui=5.0, est=4.04954041832258, details={'was_impossible': True, 'reason': 'User and/or item is unknown.'}),\n",
       " Prediction(uid='A21299JHP56S98', iid='B0007N55NW', r_ui=4.0, est=4.099391480730223, details={'actual_k': 0, 'was_impossible': False}),\n",
       " Prediction(uid='A33CXIYC0ISPB3', iid='B000C77XSS', r_ui=1.0, est=4.04954041832258, details={'was_impossible': True, 'reason': 'User and/or item is unknown.'}),\n",
       " Prediction(uid='A2ZOMM1UA59B11', iid='B000065BPB', r_ui=3.0, est=4.391163793103448, details={'actual_k': 0, 'was_impossible': False}),\n",
       " Prediction(uid='A1DLJ45FFFZ3K2', iid='B000095SB4', r_ui=1.0, est=4.04954041832258, details={'was_impossible': True, 'reason': 'User and/or item is unknown.'}),\n",
       " Prediction(uid='A14RSB01IPUONU', iid='B0000BZYPD', r_ui=5.0, est=4.7011494252873565, details={'actual_k': 0, 'was_impossible': False}),\n",
       " Prediction(uid='A3R2KZ1NN7NHVN', iid='B000FDL3XU', r_ui=4.0, est=4.04954041832258, details={'was_impossible': True, 'reason': 'User and/or item is unknown.'}),\n",
       " Prediction(uid='A3FC2182Q2UXD0', iid='B0007RV3IE', r_ui=4.0, est=4.04954041832258, details={'was_impossible': True, 'reason': 'User and/or item is unknown.'}),\n",
       " Prediction(uid='ABZU4NOUS39PI', iid='B00006JPKA', r_ui=5.0, est=4.04954041832258, details={'was_impossible': True, 'reason': 'User and/or item is unknown.'}),\n",
       " Prediction(uid='A2Q9ORIBPMCZ40', iid='B0001PFQ08', r_ui=5.0, est=3.0207253886010363, details={'actual_k': 0, 'was_impossible': False}),\n",
       " Prediction(uid='A3IK786JE6UQV1', iid='B000652T8A', r_ui=1.0, est=4.04954041832258, details={'was_impossible': True, 'reason': 'User and/or item is unknown.'}),\n",
       " Prediction(uid='A37BHIA9FCSYOG', iid='B00005YXZE', r_ui=5.0, est=4.04954041832258, details={'was_impossible': True, 'reason': 'User and/or item is unknown.'}),\n",
       " Prediction(uid='A2WAKQSTSU3OUZ', iid='B000EY5F5C', r_ui=4.0, est=4.04954041832258, details={'was_impossible': True, 'reason': 'User and/or item is unknown.'}),\n",
       " Prediction(uid='A1PTZZ329O6P7O', iid='B00005T3EM', r_ui=5.0, est=4.04954041832258, details={'was_impossible': True, 'reason': 'User and/or item is unknown.'}),\n",
       " Prediction(uid='A1LMIJR8DNFC3X', iid='B0007QKMQY', r_ui=5.0, est=4.772980288487728, details={'actual_k': 2, 'was_impossible': False}),\n",
       " Prediction(uid='A1YV7FJGLKPXC', iid='B0002SQ3Z6', r_ui=5.0, est=4.04954041832258, details={'was_impossible': True, 'reason': 'User and/or item is unknown.'}),\n",
       " Prediction(uid='A1I1GX2FJW6GOQ', iid='B00005T6GZ', r_ui=5.0, est=5, details={'actual_k': 1, 'was_impossible': False}),\n",
       " Prediction(uid='A1IF9BE1M3FB08', iid='B000F3VHV8', r_ui=1.0, est=4.04954041832258, details={'was_impossible': True, 'reason': 'User and/or item is unknown.'}),\n",
       " Prediction(uid='A2KY1E3VVQUGSW', iid='B00076WOC4', r_ui=5.0, est=4.04954041832258, details={'was_impossible': True, 'reason': 'User and/or item is unknown.'}),\n",
       " Prediction(uid='A2O9WDSJQLVD1N', iid='B00006HOE3', r_ui=5.0, est=4.04954041832258, details={'was_impossible': True, 'reason': 'User and/or item is unknown.'}),\n",
       " Prediction(uid='A2HSNO2QRLC4S2', iid='B000AOTLP6', r_ui=5.0, est=4.04954041832258, details={'was_impossible': True, 'reason': 'User and/or item is unknown.'}),\n",
       " Prediction(uid='A1AHFNTFBPCLC7', iid='B00005T406', r_ui=5.0, est=4.04954041832258, details={'was_impossible': True, 'reason': 'User and/or item is unknown.'}),\n",
       " Prediction(uid='A196YK0LWCN1AP', iid='B000GISUAS', r_ui=3.0, est=4.04954041832258, details={'was_impossible': True, 'reason': 'User and/or item is unknown.'}),\n",
       " Prediction(uid='AXURUQUQ5U5RW', iid='B0007UQ6LK', r_ui=5.0, est=5, details={'actual_k': 1, 'was_impossible': False}),\n",
       " Prediction(uid='A296C2E8OURPVH', iid='B00008Z1PT', r_ui=5.0, est=3.982142857142857, details={'actual_k': 0, 'was_impossible': False}),\n",
       " Prediction(uid='AZBLSB05OFW7I', iid='B000I62PEU', r_ui=5.0, est=4.403225806451613, details={'actual_k': 0, 'was_impossible': False}),\n",
       " Prediction(uid='A3DHUMGMA7UG82', iid='B0002J2A48', r_ui=4.0, est=4.04954041832258, details={'was_impossible': True, 'reason': 'User and/or item is unknown.'}),\n",
       " Prediction(uid='A2L6BH090TX9O7', iid='B0002L5R78', r_ui=4.0, est=4.987150645418227, details={'actual_k': 1, 'was_impossible': False}),\n",
       " Prediction(uid='A335ACD1ZBA9LC', iid='B0001FV3AK', r_ui=5.0, est=4.04954041832258, details={'was_impossible': True, 'reason': 'User and/or item is unknown.'}),\n",
       " Prediction(uid='AHFMQZ70PVDYT', iid='B0007LJHVA', r_ui=5.0, est=4.04954041832258, details={'was_impossible': True, 'reason': 'User and/or item is unknown.'}),\n",
       " Prediction(uid='ADVMRZOSQ1M24', iid='B000HDJT4S', r_ui=5.0, est=4.04954041832258, details={'was_impossible': True, 'reason': 'User and/or item is unknown.'}),\n",
       " Prediction(uid='A3ILUSKYXX4P61', iid='B000HWS0Q2', r_ui=4.0, est=4.04954041832258, details={'was_impossible': True, 'reason': 'User and/or item is unknown.'}),\n",
       " Prediction(uid='AR960DQ8BFUKJ', iid='B0000633EO', r_ui=4.0, est=4.04954041832258, details={'was_impossible': True, 'reason': 'User and/or item is unknown.'}),\n",
       " Prediction(uid='A33LRSKIT1LQ5H', iid='B000BMBT5M', r_ui=5.0, est=4.04954041832258, details={'was_impossible': True, 'reason': 'User and/or item is unknown.'}),\n",
       " Prediction(uid='A3359V4T11CXKI', iid='B000ENRQ3M', r_ui=1.0, est=4.04954041832258, details={'was_impossible': True, 'reason': 'User and/or item is unknown.'}),\n",
       " Prediction(uid='AZ2HJFXC2RD1G', iid='B00006B7DA', r_ui=5.0, est=4.04954041832258, details={'was_impossible': True, 'reason': 'User and/or item is unknown.'}),\n",
       " Prediction(uid='AOZLM9VRG56FZ', iid='B0002JY712', r_ui=5.0, est=4.04954041832258, details={'was_impossible': True, 'reason': 'User and/or item is unknown.'}),\n",
       " Prediction(uid='A57HS20Q2TVI2', iid='B0007RV3IE', r_ui=5.0, est=3.3311148086522464, details={'actual_k': 0, 'was_impossible': False}),\n",
       " Prediction(uid='A31S8UM5HKOX5J', iid='B000I1ZWRC', r_ui=5.0, est=4.04954041832258, details={'was_impossible': True, 'reason': 'User and/or item is unknown.'}),\n",
       " Prediction(uid='AGKC7QBBFRD5O', iid='B00017LSPI', r_ui=5.0, est=4.603674540682415, details={'actual_k': 0, 'was_impossible': False}),\n",
       " Prediction(uid='AQQVPOL6VPVVN', iid='B0007XHLXO', r_ui=5.0, est=3.942105263157895, details={'actual_k': 0, 'was_impossible': False}),\n",
       " Prediction(uid='A219RASXGKNGU2', iid='B00003006R', r_ui=2.0, est=4.04954041832258, details={'was_impossible': True, 'reason': 'User and/or item is unknown.'}),\n",
       " Prediction(uid='A3D1VZCCL7VOLP', iid='B0007N55NW', r_ui=5.0, est=4.099391480730223, details={'actual_k': 0, 'was_impossible': False}),\n",
       " Prediction(uid='A2K7WL0X7CCS4J', iid='B00009UT18', r_ui=4.0, est=4.0588235294117645, details={'actual_k': 0, 'was_impossible': False}),\n",
       " Prediction(uid='A221TZLI66MX9L', iid='B00005OM4J', r_ui=5.0, est=4.04954041832258, details={'was_impossible': True, 'reason': 'User and/or item is unknown.'}),\n",
       " Prediction(uid='ARSEF6NCBL0ZU', iid='B00065XSP8', r_ui=2.0, est=4.04954041832258, details={'was_impossible': True, 'reason': 'User and/or item is unknown.'}),\n",
       " Prediction(uid='A2K1DHV8WZ30JM', iid='B000EOMXM0', r_ui=3.0, est=4.04954041832258, details={'was_impossible': True, 'reason': 'User and/or item is unknown.'}),\n",
       " Prediction(uid='A39PZCOAVR6XP4', iid='B000IF4TPY', r_ui=5.0, est=4.04954041832258, details={'was_impossible': True, 'reason': 'User and/or item is unknown.'}),\n",
       " Prediction(uid='A3OCYG0KBWAF0I', iid='B000HWS0Q2', r_ui=1.0, est=4.04954041832258, details={'was_impossible': True, 'reason': 'User and/or item is unknown.'}),\n",
       " Prediction(uid='ANTGMXTKB7SQS', iid='B000EPOPQG', r_ui=3.0, est=4.126984126984127, details={'actual_k': 0, 'was_impossible': False}),\n",
       " Prediction(uid='A2WWDM1E32LJIL', iid='B0002Y5WZM', r_ui=4.0, est=4.04954041832258, details={'was_impossible': True, 'reason': 'User and/or item is unknown.'}),\n",
       " Prediction(uid='A13HXCELBGSY4X', iid='B000EGQK6I', r_ui=4.0, est=4.04954041832258, details={'was_impossible': True, 'reason': 'User and/or item is unknown.'}),\n",
       " Prediction(uid='ADPO7ECSO3223', iid='B00006B91Z', r_ui=1.0, est=4.255813953488372, details={'actual_k': 0, 'was_impossible': False}),\n",
       " Prediction(uid='A1H1W1WBCSPSYX', iid='B0009F4OR6', r_ui=5.0, est=4.04954041832258, details={'was_impossible': True, 'reason': 'User and/or item is unknown.'}),\n",
       " Prediction(uid='AXLL4PRRT8KOO', iid='B0009N5MDI', r_ui=2.0, est=4.04954041832258, details={'was_impossible': True, 'reason': 'User and/or item is unknown.'}),\n",
       " Prediction(uid='A22SY0Z6MEVGM9', iid='B000F34IA0', r_ui=3.0, est=4.438775510204081, details={'actual_k': 0, 'was_impossible': False}),\n",
       " Prediction(uid='A2ETFNZR7O61DB', iid='B0006A7X36', r_ui=4.0, est=4.04954041832258, details={'was_impossible': True, 'reason': 'User and/or item is unknown.'}),\n",
       " Prediction(uid='A1OHP44IIU711W', iid='B00006I5O0', r_ui=5.0, est=4.04954041832258, details={'was_impossible': True, 'reason': 'User and/or item is unknown.'}),\n",
       " Prediction(uid='AESV9OK9CEC0F', iid='B000EVSLRO', r_ui=3.0, est=4.04954041832258, details={'was_impossible': True, 'reason': 'User and/or item is unknown.'}),\n",
       " Prediction(uid='A33VJHFQC9BRIT', iid='B000HZ9CCA', r_ui=4.0, est=4.04954041832258, details={'was_impossible': True, 'reason': 'User and/or item is unknown.'}),\n",
       " Prediction(uid='A3F5Q9NAZP6SWR', iid='B000F8WC4O', r_ui=5.0, est=4.04954041832258, details={'was_impossible': True, 'reason': 'User and/or item is unknown.'}),\n",
       " Prediction(uid='AFH30X10BQMPE', iid='B00007056H', r_ui=5.0, est=4.04954041832258, details={'was_impossible': True, 'reason': 'User and/or item is unknown.'}),\n",
       " Prediction(uid='A1U6175SAO9162', iid='B00066EK2W', r_ui=5.0, est=3.983425414364641, details={'actual_k': 0, 'was_impossible': False}),\n",
       " Prediction(uid='A2QRN9GZK0EJKG', iid='B00000JI4F', r_ui=4.0, est=4.04954041832258, details={'was_impossible': True, 'reason': 'User and/or item is unknown.'}),\n",
       " Prediction(uid='A13ELNABGIEV9M', iid='B0002343AS', r_ui=3.0, est=4.04954041832258, details={'was_impossible': True, 'reason': 'User and/or item is unknown.'}),\n",
       " Prediction(uid='A234LO1ERUL5SC', iid='B000AP05BO', r_ui=1.0, est=4.04954041832258, details={'was_impossible': True, 'reason': 'User and/or item is unknown.'}),\n",
       " Prediction(uid='A21AXV4MPPIZRB', iid='B000GISUAS', r_ui=3.0, est=4.04954041832258, details={'was_impossible': True, 'reason': 'User and/or item is unknown.'}),\n",
       " Prediction(uid='A3PYZH8BNVPQAV', iid='B000089GN3', r_ui=5.0, est=4.04954041832258, details={'was_impossible': True, 'reason': 'User and/or item is unknown.'}),\n",
       " Prediction(uid='A24VKKQ5LNPZ66', iid='B000069E1V', r_ui=5.0, est=3.9393939393939394, details={'actual_k': 0, 'was_impossible': False}),\n",
       " Prediction(uid='A2NVQEJQ893PZ6', iid='B000067RC4', r_ui=5.0, est=4.04954041832258, details={'was_impossible': True, 'reason': 'User and/or item is unknown.'}),\n",
       " Prediction(uid='A3RYBO6J2H28A3', iid='B0001JSSLI', r_ui=5.0, est=4.04954041832258, details={'was_impossible': True, 'reason': 'User and/or item is unknown.'}),\n",
       " Prediction(uid='A321EXJPHMSXJR', iid='B000BP50AY', r_ui=5.0, est=4.04954041832258, details={'was_impossible': True, 'reason': 'User and/or item is unknown.'}),\n",
       " Prediction(uid='APO1YIXLAYV4I', iid='B00009R98A', r_ui=5.0, est=4.04954041832258, details={'was_impossible': True, 'reason': 'User and/or item is unknown.'}),\n",
       " Prediction(uid='A33OBXCHNUOINQ', iid='B00007E7K9', r_ui=5.0, est=4.04954041832258, details={'was_impossible': True, 'reason': 'User and/or item is unknown.'}),\n",
       " Prediction(uid='A3MXR184XFCGE6', iid='B00081A2DQ', r_ui=5.0, est=4.04954041832258, details={'was_impossible': True, 'reason': 'User and/or item is unknown.'}),\n",
       " Prediction(uid='A2I67ICALD1AA4', iid='B0007QN18U', r_ui=4.0, est=4.11219512195122, details={'actual_k': 0, 'was_impossible': False}),\n",
       " Prediction(uid='A1LMIJR8DNFC3X', iid='B000A5LP5Y', r_ui=5.0, est=4.490566037735849, details={'actual_k': 0, 'was_impossible': False}),\n",
       " Prediction(uid='A2H28ONXP5CROW', iid='B000EVSLRO', r_ui=5.0, est=4.04954041832258, details={'was_impossible': True, 'reason': 'User and/or item is unknown.'}),\n",
       " Prediction(uid='A1EDS139BVIMHB', iid='B00023KG40', r_ui=5.0, est=3.6186046511627907, details={'actual_k': 0, 'was_impossible': False}),\n",
       " Prediction(uid='A2YG649MUIOEM4', iid='B000067RC4', r_ui=5.0, est=4.04954041832258, details={'was_impossible': True, 'reason': 'User and/or item is unknown.'}),\n",
       " Prediction(uid='A2RY8KZKCTSVD3', iid='B0000C3GWU', r_ui=5.0, est=4.04954041832258, details={'was_impossible': True, 'reason': 'User and/or item is unknown.'}),\n",
       " Prediction(uid='A2CR3DYNR74KSQ', iid='B00066EK36', r_ui=5.0, est=4.04954041832258, details={'was_impossible': True, 'reason': 'User and/or item is unknown.'}),\n",
       " Prediction(uid='A30CL0X4A7R0E6', iid='B000E1FYQA', r_ui=1.0, est=4.04954041832258, details={'was_impossible': True, 'reason': 'User and/or item is unknown.'}),\n",
       " Prediction(uid='A1CPRLSM3B5HN4', iid='B0002QYSA0', r_ui=5.0, est=4.04954041832258, details={'was_impossible': True, 'reason': 'User and/or item is unknown.'}),\n",
       " Prediction(uid='A5JLAU2ARJ0BO', iid='B0001A06GW', r_ui=4.0, est=2.4747878300466795, details={'actual_k': 2, 'was_impossible': False}),\n",
       " Prediction(uid='A1H6551SCFA9NL', iid='B00006HSML', r_ui=5.0, est=4.04954041832258, details={'was_impossible': True, 'reason': 'User and/or item is unknown.'}),\n",
       " Prediction(uid='A3I8MJYPTTRNTS', iid='B0001FTVDQ', r_ui=5.0, est=4.04954041832258, details={'was_impossible': True, 'reason': 'User and/or item is unknown.'}),\n",
       " Prediction(uid='A3L5S1X9YLL1VJ', iid='B000EA6WOE', r_ui=5.0, est=3.7454545454545456, details={'actual_k': 0, 'was_impossible': False}),\n",
       " Prediction(uid='AWQH8R76L17YN', iid='B00062PN6I', r_ui=5.0, est=4.04954041832258, details={'was_impossible': True, 'reason': 'User and/or item is unknown.'}),\n",
       " Prediction(uid='AK1O0LY4LB1PA', iid='B000F34FVM', r_ui=5.0, est=4.04954041832258, details={'was_impossible': True, 'reason': 'User and/or item is unknown.'}),\n",
       " Prediction(uid='A22S3LNP7BLF03', iid='B000065BPB', r_ui=5.0, est=4.04954041832258, details={'was_impossible': True, 'reason': 'User and/or item is unknown.'}),\n",
       " Prediction(uid='A1GGXW0SH2SZPX', iid='B00008OE5G', r_ui=4.0, est=4.04954041832258, details={'was_impossible': True, 'reason': 'User and/or item is unknown.'}),\n",
       " Prediction(uid='AL3YFYSYNJXKG', iid='B000HDZAUA', r_ui=5.0, est=4.04954041832258, details={'was_impossible': True, 'reason': 'User and/or item is unknown.'}),\n",
       " Prediction(uid='A3KVJAZ72T8H06', iid='B000E6G9RI', r_ui=3.0, est=4.04954041832258, details={'was_impossible': True, 'reason': 'User and/or item is unknown.'}),\n",
       " Prediction(uid='A3KJVO3Q15ZT1Y', iid='B0006B088W', r_ui=3.0, est=4.04954041832258, details={'was_impossible': True, 'reason': 'User and/or item is unknown.'}),\n",
       " Prediction(uid='A1N3SH43F9RW3G', iid='B00005A9AV', r_ui=5.0, est=4.04954041832258, details={'was_impossible': True, 'reason': 'User and/or item is unknown.'}),\n",
       " Prediction(uid='AVZ3EZBCP9MAZ', iid='B0002CZHN6', r_ui=5.0, est=4.04954041832258, details={'was_impossible': True, 'reason': 'User and/or item is unknown.'}),\n",
       " Prediction(uid='A2JMSP740S3HZX', iid='B000HDJY7K', r_ui=5.0, est=4.04954041832258, details={'was_impossible': True, 'reason': 'User and/or item is unknown.'}),\n",
       " Prediction(uid='A15GYQ3VIO70ZG', iid='B000652M6Y', r_ui=5.0, est=4.04954041832258, details={'was_impossible': True, 'reason': 'User and/or item is unknown.'}),\n",
       " Prediction(uid='A1OCBFSCGX5D3U', iid='B00009KH63', r_ui=3.0, est=4.04954041832258, details={'was_impossible': True, 'reason': 'User and/or item is unknown.'}),\n",
       " Prediction(uid='A2A5IS27B68PTN', iid='B0007N55NW', r_ui=5.0, est=4.04954041832258, details={'was_impossible': True, 'reason': 'User and/or item is unknown.'}),\n",
       " Prediction(uid='A1JXGTCBVWVJRN', iid='B000GLIIFW', r_ui=5.0, est=4.40625, details={'actual_k': 0, 'was_impossible': False}),\n",
       " Prediction(uid='A2J1XSYS2MZPYL', iid='B0006I1TRY', r_ui=5.0, est=4.04954041832258, details={'was_impossible': True, 'reason': 'User and/or item is unknown.'}),\n",
       " Prediction(uid='AW8BLKAXJXQ0T', iid='B0001A967W', r_ui=3.0, est=4.04954041832258, details={'was_impossible': True, 'reason': 'User and/or item is unknown.'}),\n",
       " Prediction(uid='A1ZXVKJTHKGA97', iid='B000EHWCDW', r_ui=5.0, est=4.235632183908046, details={'actual_k': 0, 'was_impossible': False}),\n",
       " Prediction(uid='AHBPDSDX56WZC', iid='B000A2AGYS', r_ui=5.0, est=4.04954041832258, details={'was_impossible': True, 'reason': 'User and/or item is unknown.'}),\n",
       " Prediction(uid='ASJ3GIUU0URZR', iid='B000BNHM0C', r_ui=5.0, est=4.04954041832258, details={'was_impossible': True, 'reason': 'User and/or item is unknown.'}),\n",
       " Prediction(uid='A7PCD3YESLIJ8', iid='B00005T3G0', r_ui=5.0, est=4.04954041832258, details={'was_impossible': True, 'reason': 'User and/or item is unknown.'}),\n",
       " Prediction(uid='ANR7K4A84M6NO', iid='B000A6PPOK', r_ui=4.0, est=4.04954041832258, details={'was_impossible': True, 'reason': 'User and/or item is unknown.'}),\n",
       " Prediction(uid='A330TFJAYI096C', iid='B00005NIMR', r_ui=5.0, est=4.04954041832258, details={'was_impossible': True, 'reason': 'User and/or item is unknown.'}),\n",
       " Prediction(uid='A3MSKPY1U2KYJT', iid='B000EVM5DK', r_ui=4.0, est=4.04954041832258, details={'was_impossible': True, 'reason': 'User and/or item is unknown.'}),\n",
       " Prediction(uid='A2NSLBYMNNYYWS', iid='B0002FO2IO', r_ui=5.0, est=4.04954041832258, details={'was_impossible': True, 'reason': 'User and/or item is unknown.'}),\n",
       " Prediction(uid='AWSYH57C1VAE3', iid='B0007Y791C', r_ui=5.0, est=4.04954041832258, details={'was_impossible': True, 'reason': 'User and/or item is unknown.'}),\n",
       " Prediction(uid='A225WHJNQFHDFE', iid='B000BZTKNC', r_ui=4.0, est=4.04954041832258, details={'was_impossible': True, 'reason': 'User and/or item is unknown.'}),\n",
       " Prediction(uid='A3Q78CS332NWQT', iid='B00008OE5G', r_ui=5.0, est=3.6832298136645965, details={'actual_k': 0, 'was_impossible': False}),\n",
       " Prediction(uid='A1KADQBN8K90YU', iid='B000BI2180', r_ui=4.0, est=4.0776006954505934, details={'actual_k': 1, 'was_impossible': False}),\n",
       " Prediction(uid='AGHOIDQEYJT8Q', iid='B00005ATMB', r_ui=5.0, est=4.04954041832258, details={'was_impossible': True, 'reason': 'User and/or item is unknown.'}),\n",
       " Prediction(uid='A1BBNQJLLJ6QED', iid='B00006JN3G', r_ui=5.0, est=4.314974182444062, details={'actual_k': 0, 'was_impossible': False}),\n",
       " Prediction(uid='A2EXYLOTSYY2O3', iid='B000HCUTU2', r_ui=3.0, est=4.048076923076923, details={'actual_k': 0, 'was_impossible': False}),\n",
       " Prediction(uid='AMDJB3FDFL8EE', iid='B0007RALGY', r_ui=4.0, est=4.04954041832258, details={'was_impossible': True, 'reason': 'User and/or item is unknown.'}),\n",
       " Prediction(uid='A1UQ4D0XWMJ0MC', iid='B000089GN2', r_ui=4.0, est=4.04954041832258, details={'was_impossible': True, 'reason': 'User and/or item is unknown.'}),\n",
       " Prediction(uid='A2XOBH2YGHD3SF', iid='B000ID7QNI', r_ui=5.0, est=4.04954041832258, details={'was_impossible': True, 'reason': 'User and/or item is unknown.'}),\n",
       " Prediction(uid='A2QDEN35HA3Q8', iid='B00004SABB', r_ui=5.0, est=4.04954041832258, details={'was_impossible': True, 'reason': 'User and/or item is unknown.'}),\n",
       " Prediction(uid='AJY9XR7U2C3AK', iid='B00006FXR9', r_ui=5.0, est=4.04954041832258, details={'was_impossible': True, 'reason': 'User and/or item is unknown.'}),\n",
       " Prediction(uid='A1181PW8ZG4G79', iid='B00007E7JU', r_ui=5.0, est=4.04954041832258, details={'was_impossible': True, 'reason': 'User and/or item is unknown.'}),\n",
       " Prediction(uid='A1BJTN5ASLVDLG', iid='B0001FV364', r_ui=5.0, est=4.04954041832258, details={'was_impossible': True, 'reason': 'User and/or item is unknown.'}),\n",
       " Prediction(uid='A24H6QYK8PSNL7', iid='B000FVGM38', r_ui=4.0, est=4.04954041832258, details={'was_impossible': True, 'reason': 'User and/or item is unknown.'}),\n",
       " Prediction(uid='A1D3SSG0X8GS3V', iid='B00006JN3G', r_ui=5.0, est=4.745025995915564, details={'actual_k': 1, 'was_impossible': False}),\n",
       " Prediction(uid='A23Z64ZS6SMJMQ', iid='B000BV8604', r_ui=5.0, est=3.7861771058315337, details={'actual_k': 0, 'was_impossible': False}),\n",
       " Prediction(uid='AXSKJ0HL93Q8Y', iid='B000ETXOC8', r_ui=4.0, est=4.04954041832258, details={'was_impossible': True, 'reason': 'User and/or item is unknown.'}),\n",
       " Prediction(uid='A2NUK3KSEKZGT1', iid='B0001D3K8A', r_ui=5.0, est=4.04954041832258, details={'was_impossible': True, 'reason': 'User and/or item is unknown.'}),\n",
       " Prediction(uid='A2I1B350SKH3XL', iid='B000EZV3T8', r_ui=5.0, est=4.04954041832258, details={'was_impossible': True, 'reason': 'User and/or item is unknown.'}),\n",
       " Prediction(uid='A1AIMSIZ7K3EHT', iid='B000BWRIE8', r_ui=3.0, est=4.04954041832258, details={'was_impossible': True, 'reason': 'User and/or item is unknown.'}),\n",
       " Prediction(uid='A1QWRPUG2MV5YB', iid='B000BZTKNC', r_ui=4.0, est=4.04954041832258, details={'was_impossible': True, 'reason': 'User and/or item is unknown.'}),\n",
       " Prediction(uid='A3F6SL8QNEVFFJ', iid='B000HAVVKG', r_ui=2.0, est=3.810055865921788, details={'actual_k': 0, 'was_impossible': False}),\n",
       " Prediction(uid='A2JG7OMKXZHPQN', iid='B000652M6Y', r_ui=5.0, est=4.04954041832258, details={'was_impossible': True, 'reason': 'User and/or item is unknown.'}),\n",
       " Prediction(uid='A3OXHLG6DIBRW8', iid='B00008VF63', r_ui=4.0, est=4.09375, details={'actual_k': 0, 'was_impossible': False}),\n",
       " Prediction(uid='AIA7ESRO7VE56', iid='B0002AHT0M', r_ui=4.0, est=3.574387947269303, details={'actual_k': 0, 'was_impossible': False}),\n",
       " Prediction(uid='A28ZAANF7FKJG4', iid='B00081GX8O', r_ui=1.0, est=4.04954041832258, details={'was_impossible': True, 'reason': 'User and/or item is unknown.'}),\n",
       " Prediction(uid='A2GET1UBM5OEY2', iid='B00006F2MW', r_ui=5.0, est=4.04954041832258, details={'was_impossible': True, 'reason': 'User and/or item is unknown.'}),\n",
       " Prediction(uid='AOPHKADL0UZ3E', iid='B00009V332', r_ui=4.0, est=4.04954041832258, details={'was_impossible': True, 'reason': 'User and/or item is unknown.'}),\n",
       " Prediction(uid='A3F3OZ1S2C3Y3Z', iid='B000E3ZFSA', r_ui=4.0, est=3.5930232558139537, details={'actual_k': 0, 'was_impossible': False}),\n",
       " Prediction(uid='AB2DRDQUIY7G8', iid='B000G3FNVM', r_ui=4.0, est=4.04954041832258, details={'was_impossible': True, 'reason': 'User and/or item is unknown.'}),\n",
       " Prediction(uid='A2ZXTB5R7MYH7Q', iid='B000FKKO74', r_ui=4.0, est=4.04954041832258, details={'was_impossible': True, 'reason': 'User and/or item is unknown.'}),\n",
       " Prediction(uid='A2U13AWGFDJZX4', iid='B0000TW3N8', r_ui=5.0, est=4.28125, details={'actual_k': 0, 'was_impossible': False}),\n",
       " Prediction(uid='A3CLGZU7IKO067', iid='B00009R94Q', r_ui=4.0, est=4.04954041832258, details={'was_impossible': True, 'reason': 'User and/or item is unknown.'}),\n",
       " Prediction(uid='A1PUEQ6B61I4R6', iid='B000EBRLHK', r_ui=5.0, est=3.1530612244897958, details={'actual_k': 0, 'was_impossible': False}),\n",
       " Prediction(uid='A1JJNC78T6V31K', iid='B00004WCGF', r_ui=5.0, est=4.04954041832258, details={'was_impossible': True, 'reason': 'User and/or item is unknown.'}),\n",
       " Prediction(uid='AMPC5XALWVV1P', iid='B0009YDP7W', r_ui=5.0, est=4.04954041832258, details={'was_impossible': True, 'reason': 'User and/or item is unknown.'}),\n",
       " Prediction(uid='A3L87LFUEWH8ZV', iid='B0002T3UPG', r_ui=4.0, est=3.1842105263157894, details={'actual_k': 0, 'was_impossible': False}),\n",
       " Prediction(uid='A2N71L5RNGB7FT', iid='B00005N6KG', r_ui=4.0, est=4.04954041832258, details={'was_impossible': True, 'reason': 'User and/or item is unknown.'}),\n",
       " Prediction(uid='A2H9KL7261HY7O', iid='B000GAS3A8', r_ui=5.0, est=4.133333333333334, details={'actual_k': 0, 'was_impossible': False}),\n",
       " Prediction(uid='A2J0D8EHQBF4KM', iid='B000EHUE7I', r_ui=4.0, est=4.401515151515151, details={'actual_k': 0, 'was_impossible': False}),\n",
       " Prediction(uid='AX9XA3MMPWUSF', iid='B00007EDZG', r_ui=1.0, est=4.04954041832258, details={'was_impossible': True, 'reason': 'User and/or item is unknown.'}),\n",
       " Prediction(uid='A2ML5RT6D3QC50', iid='B0009B0H08', r_ui=2.0, est=3.142857142857143, details={'actual_k': 0, 'was_impossible': False}),\n",
       " Prediction(uid='A27L0O60E60OKW', iid='B000AAM1YI', r_ui=1.0, est=4.04954041832258, details={'was_impossible': True, 'reason': 'User and/or item is unknown.'}),\n",
       " Prediction(uid='A3IOT04J9HE5Z5', iid='B00007E7JU', r_ui=5.0, est=4.04954041832258, details={'was_impossible': True, 'reason': 'User and/or item is unknown.'}),\n",
       " Prediction(uid='AMMM2Y0JQRLTT', iid='B00009PUM0', r_ui=5.0, est=4.04954041832258, details={'was_impossible': True, 'reason': 'User and/or item is unknown.'}),\n",
       " Prediction(uid='A3FVGK693BWCTA', iid='B00009EHJV', r_ui=4.0, est=4.04954041832258, details={'was_impossible': True, 'reason': 'User and/or item is unknown.'}),\n",
       " Prediction(uid='A1FH36WOZ0ZDXA', iid='B0007KQWGO', r_ui=5.0, est=4.04954041832258, details={'was_impossible': True, 'reason': 'User and/or item is unknown.'}),\n",
       " Prediction(uid='A1XK6QAYSADVLK', iid='B000EOPQ7E', r_ui=4.0, est=4.04954041832258, details={'was_impossible': True, 'reason': 'User and/or item is unknown.'}),\n",
       " Prediction(uid='A3GCOF8QS6LHL2', iid='B0002KR88A', r_ui=5.0, est=4.04954041832258, details={'was_impossible': True, 'reason': 'User and/or item is unknown.'}),\n",
       " Prediction(uid='A2TOCBLEE7NIXQ', iid='B000EXRSWG', r_ui=2.0, est=3.8275862068965516, details={'actual_k': 0, 'was_impossible': False}),\n",
       " Prediction(uid='A1JBRL6CD1SPOJ', iid='B0000AAAPF', r_ui=2.0, est=2.7433962264150944, details={'actual_k': 0, 'was_impossible': False}),\n",
       " Prediction(uid='AFJ0ZC0BL7NV3', iid='B00004Z5KA', r_ui=5.0, est=4.04954041832258, details={'was_impossible': True, 'reason': 'User and/or item is unknown.'}),\n",
       " Prediction(uid='AGBCCBRV88U92', iid='B000A36XZS', r_ui=4.0, est=4.04954041832258, details={'was_impossible': True, 'reason': 'User and/or item is unknown.'}),\n",
       " Prediction(uid='AAHL2GSPFPC97', iid='B000I1X6PM', r_ui=3.0, est=4.04954041832258, details={'was_impossible': True, 'reason': 'User and/or item is unknown.'}),\n",
       " Prediction(uid='A2OURVTY16L3CA', iid='B000A6PPOK', r_ui=3.0, est=4.04954041832258, details={'was_impossible': True, 'reason': 'User and/or item is unknown.'}),\n",
       " Prediction(uid='A338XEO4K0KBKZ', iid='B000ENRFNS', r_ui=5.0, est=4.04954041832258, details={'was_impossible': True, 'reason': 'User and/or item is unknown.'}),\n",
       " Prediction(uid='A1ULQRKRTONJFX', iid='B00009MK5M', r_ui=5.0, est=4.04954041832258, details={'was_impossible': True, 'reason': 'User and/or item is unknown.'}),\n",
       " Prediction(uid='A17Y0JTNDX4WK2', iid='B00006FMPP', r_ui=4.0, est=4.04954041832258, details={'was_impossible': True, 'reason': 'User and/or item is unknown.'}),\n",
       " Prediction(uid='A203Q5OOZ8T7U', iid='B00007E7JU', r_ui=5.0, est=4.04954041832258, details={'was_impossible': True, 'reason': 'User and/or item is unknown.'}),\n",
       " Prediction(uid='AUC0EXKGPCY0V', iid='B00002JXFH', r_ui=5.0, est=4.04954041832258, details={'was_impossible': True, 'reason': 'User and/or item is unknown.'}),\n",
       " Prediction(uid='A2J767G9CEQVBM', iid='B00007E7JU', r_ui=3.0, est=4.04954041832258, details={'was_impossible': True, 'reason': 'User and/or item is unknown.'}),\n",
       " Prediction(uid='ALSO9M2WGPOKM', iid='B000CRFI8A', r_ui=4.0, est=4.04954041832258, details={'was_impossible': True, 'reason': 'User and/or item is unknown.'}),\n",
       " Prediction(uid='AXFT9KJR7Q7KW', iid='B0007XHLXO', r_ui=1.0, est=3.942105263157895, details={'actual_k': 0, 'was_impossible': False}),\n",
       " Prediction(uid='A3EMOLONBAF1SW', iid='B00005ML7Q', r_ui=5.0, est=4.04954041832258, details={'was_impossible': True, 'reason': 'User and/or item is unknown.'}),\n",
       " Prediction(uid='A1VAF2UDS42J38', iid='B000CDLFRM', r_ui=4.0, est=4.04954041832258, details={'was_impossible': True, 'reason': 'User and/or item is unknown.'}),\n",
       " Prediction(uid='AHENEG27V0LBL', iid='B000095SB4', r_ui=5.0, est=4.04954041832258, details={'was_impossible': True, 'reason': 'User and/or item is unknown.'}),\n",
       " Prediction(uid='A1IKXCD8TOH32N', iid='B00020S7XK', r_ui=5.0, est=4.04954041832258, details={'was_impossible': True, 'reason': 'User and/or item is unknown.'}),\n",
       " Prediction(uid='A1PUXXIUYYKQP', iid='B00005LEN4', r_ui=5.0, est=4.04954041832258, details={'was_impossible': True, 'reason': 'User and/or item is unknown.'}),\n",
       " Prediction(uid='A1TM30JF94AH9R', iid='B000HSS78M', r_ui=5.0, est=4.2368421052631575, details={'actual_k': 0, 'was_impossible': False}),\n",
       " Prediction(uid='A1Y196FCAKOB8N', iid='B0007SM8OQ', r_ui=3.0, est=4.04954041832258, details={'was_impossible': True, 'reason': 'User and/or item is unknown.'}),\n",
       " Prediction(uid='A3AGSRX51W3ZMK', iid='B000EF1820', r_ui=1.0, est=4.04954041832258, details={'was_impossible': True, 'reason': 'User and/or item is unknown.'}),\n",
       " Prediction(uid='A1O0NU4FOQOYE2', iid='B000EHCUIY', r_ui=5.0, est=4.04954041832258, details={'was_impossible': True, 'reason': 'User and/or item is unknown.'}),\n",
       " Prediction(uid='A3UQMKKQTSJ7GD', iid='B0009HGVZW', r_ui=5.0, est=4.04954041832258, details={'was_impossible': True, 'reason': 'User and/or item is unknown.'}),\n",
       " Prediction(uid='A3KUGUU7O1U32D', iid='B000CLNHXY', r_ui=4.0, est=4.04954041832258, details={'was_impossible': True, 'reason': 'User and/or item is unknown.'}),\n",
       " Prediction(uid='A3P9RV81QT3B1U', iid='B000H2W4E6', r_ui=5.0, est=4.04954041832258, details={'was_impossible': True, 'reason': 'User and/or item is unknown.'}),\n",
       " Prediction(uid='A20KOYXN2J8AJA', iid='B00009UTCA', r_ui=5.0, est=4.04954041832258, details={'was_impossible': True, 'reason': 'User and/or item is unknown.'}),\n",
       " Prediction(uid='ADCWS3DRMTE6A', iid='B00009R6TA', r_ui=4.0, est=4.04954041832258, details={'was_impossible': True, 'reason': 'User and/or item is unknown.'}),\n",
       " Prediction(uid='A1J95TTG4AYBU8', iid='B0009YDP7W', r_ui=5.0, est=4.649425287356322, details={'actual_k': 0, 'was_impossible': False}),\n",
       " Prediction(uid='A2DTAPH61SAN3T', iid='B000AA2RCY', r_ui=5.0, est=4.04954041832258, details={'was_impossible': True, 'reason': 'User and/or item is unknown.'}),\n",
       " Prediction(uid='A1NKLCCK5NLARO', iid='B00001P4XA', r_ui=3.0, est=4.04954041832258, details={'was_impossible': True, 'reason': 'User and/or item is unknown.'}),\n",
       " Prediction(uid='A3UQ753YRW9K4G', iid='B0006BGV2Y', r_ui=4.0, est=4.04954041832258, details={'was_impossible': True, 'reason': 'User and/or item is unknown.'}),\n",
       " Prediction(uid='A1FMTHQVKKLKAB', iid='B00000DM9W', r_ui=5.0, est=4.04954041832258, details={'was_impossible': True, 'reason': 'User and/or item is unknown.'}),\n",
       " Prediction(uid='A3A8NRB9JSA9HP', iid='B00018MSNI', r_ui=5.0, est=4.04954041832258, details={'was_impossible': True, 'reason': 'User and/or item is unknown.'}),\n",
       " Prediction(uid='A1TIZYBPEQLK3D', iid='B000H866BM', r_ui=5.0, est=4.048484848484849, details={'actual_k': 0, 'was_impossible': False}),\n",
       " Prediction(uid='A29ZU66AUD8HLI', iid='B00008VWOJ', r_ui=5.0, est=4.04954041832258, details={'was_impossible': True, 'reason': 'User and/or item is unknown.'}),\n",
       " Prediction(uid='A1MLHTPH9XEYCX', iid='B000FVDD30', r_ui=5.0, est=4.04954041832258, details={'was_impossible': True, 'reason': 'User and/or item is unknown.'}),\n",
       " Prediction(uid='A1MGMCLBON0TE0', iid='B000ARIT5G', r_ui=5.0, est=4.04954041832258, details={'was_impossible': True, 'reason': 'User and/or item is unknown.'}),\n",
       " Prediction(uid='AARINFGPR6926', iid='B0002R5Y5M', r_ui=4.0, est=4.040816326530612, details={'actual_k': 0, 'was_impossible': False}),\n",
       " Prediction(uid='A26JYWFQ9Y25NL', iid='B000GIT002', r_ui=4.0, est=4.04954041832258, details={'was_impossible': True, 'reason': 'User and/or item is unknown.'}),\n",
       " Prediction(uid='A17H5PZSCO359O', iid='B000ESN9GA', r_ui=1.0, est=4.04954041832258, details={'was_impossible': True, 'reason': 'User and/or item is unknown.'}),\n",
       " Prediction(uid='ATZUC062KDEXO', iid='B000031KIM', r_ui=5.0, est=4.04954041832258, details={'was_impossible': True, 'reason': 'User and/or item is unknown.'}),\n",
       " Prediction(uid='A1S8U53R7XRGJE', iid='B00005LVWB', r_ui=1.0, est=4.04954041832258, details={'was_impossible': True, 'reason': 'User and/or item is unknown.'}),\n",
       " Prediction(uid='A2UDBHS7MZP06L', iid='B00000J0D5', r_ui=1.0, est=4.04954041832258, details={'was_impossible': True, 'reason': 'User and/or item is unknown.'}),\n",
       " Prediction(uid='A22B8CENMMRAAJ', iid='B000I23TTE', r_ui=3.0, est=4.04954041832258, details={'was_impossible': True, 'reason': 'User and/or item is unknown.'}),\n",
       " Prediction(uid='A1LAIHJ1CEN6HM', iid='B000ID7QNI', r_ui=2.0, est=4.04954041832258, details={'was_impossible': True, 'reason': 'User and/or item is unknown.'}),\n",
       " Prediction(uid='AD7P9VHSHWC43', iid='B000AUIM9G', r_ui=2.0, est=4.04954041832258, details={'was_impossible': True, 'reason': 'User and/or item is unknown.'}),\n",
       " Prediction(uid='A3NZTCUO588IR9', iid='B000BTH36E', r_ui=1.0, est=4.04954041832258, details={'was_impossible': True, 'reason': 'User and/or item is unknown.'}),\n",
       " Prediction(uid='A2FRHPFH7EEWL1', iid='B000I4T7VG', r_ui=4.0, est=4.04954041832258, details={'was_impossible': True, 'reason': 'User and/or item is unknown.'}),\n",
       " Prediction(uid='A2IASHAOG52UGI', iid='B00083JQY0', r_ui=5.0, est=4.04954041832258, details={'was_impossible': True, 'reason': 'User and/or item is unknown.'}),\n",
       " Prediction(uid='A2ML93WTQNK6BB', iid='B000136P8W', r_ui=5.0, est=4.04954041832258, details={'was_impossible': True, 'reason': 'User and/or item is unknown.'}),\n",
       " Prediction(uid='A2TSX43WUDBC7X', iid='B00006HYPD', r_ui=5.0, est=4.04954041832258, details={'was_impossible': True, 'reason': 'User and/or item is unknown.'}),\n",
       " Prediction(uid='A2BKUUG0XYM4EA', iid='B000I4RMOU', r_ui=5.0, est=3.6176470588235294, details={'actual_k': 0, 'was_impossible': False}),\n",
       " Prediction(uid='A1W2K4IA2FRAG6', iid='B000A5TAT2', r_ui=1.0, est=4.04954041832258, details={'was_impossible': True, 'reason': 'User and/or item is unknown.'}),\n",
       " Prediction(uid='A2I60HCAVEF3RC', iid='B000BFO4OC', r_ui=5.0, est=3.9368421052631577, details={'actual_k': 0, 'was_impossible': False}),\n",
       " Prediction(uid='A30297D0E87D4Q', iid='B000BQ7GW8', r_ui=5.0, est=4.04954041832258, details={'was_impossible': True, 'reason': 'User and/or item is unknown.'}),\n",
       " Prediction(uid='A3RNKK7R8U4QLC', iid='B0007WK8MQ', r_ui=5.0, est=4.04954041832258, details={'was_impossible': True, 'reason': 'User and/or item is unknown.'}),\n",
       " Prediction(uid='A1COUCTARALSBU', iid='B0002Y5WZC', r_ui=5.0, est=4.04954041832258, details={'was_impossible': True, 'reason': 'User and/or item is unknown.'}),\n",
       " Prediction(uid='A2WXB3TD9KCVDX', iid='B000066CCU', r_ui=5.0, est=3.9134615384615383, details={'actual_k': 0, 'was_impossible': False}),\n",
       " Prediction(uid='APVR47AL7Z7FQ', iid='B000065BPB', r_ui=5.0, est=4.04954041832258, details={'was_impossible': True, 'reason': 'User and/or item is unknown.'}),\n",
       " Prediction(uid='A2KB72MO99PZRX', iid='B000F1TD2A', r_ui=5.0, est=4.636363636363637, details={'actual_k': 0, 'was_impossible': False}),\n",
       " Prediction(uid='A30I0YP0FM131B', iid='B00066IJPQ', r_ui=4.0, est=3.6692913385826773, details={'actual_k': 0, 'was_impossible': False}),\n",
       " Prediction(uid='A38OSBR05CO0PX', iid='B000652M6Y', r_ui=4.0, est=4.04954041832258, details={'was_impossible': True, 'reason': 'User and/or item is unknown.'}),\n",
       " Prediction(uid='A122JWX97177D7', iid='B0007Z1M50', r_ui=5.0, est=4.04954041832258, details={'was_impossible': True, 'reason': 'User and/or item is unknown.'}),\n",
       " Prediction(uid='A1WYKY67C8QKXR', iid='B000EYRLXQ', r_ui=5.0, est=4.04954041832258, details={'was_impossible': True, 'reason': 'User and/or item is unknown.'}),\n",
       " Prediction(uid='A2FTF12GJ25R9L', iid='B0007Z9QMG', r_ui=4.0, est=3.7560975609756095, details={'actual_k': 0, 'was_impossible': False}),\n",
       " Prediction(uid='A3RCHVGCLWSSM4', iid='B00005LE76', r_ui=5.0, est=4.04954041832258, details={'was_impossible': True, 'reason': 'User and/or item is unknown.'}),\n",
       " Prediction(uid='A2GOMCE2PUB9S1', iid='B000CRFOMK', r_ui=5.0, est=4.04954041832258, details={'was_impossible': True, 'reason': 'User and/or item is unknown.'}),\n",
       " Prediction(uid='A36R7HLL644FKW', iid='B000EXS1BS', r_ui=3.0, est=4.04954041832258, details={'was_impossible': True, 'reason': 'User and/or item is unknown.'}),\n",
       " Prediction(uid='A1YAAI9IC50XLO', iid='B0002L5R78', r_ui=5.0, est=4.451191741308638, details={'actual_k': 0, 'was_impossible': False}),\n",
       " Prediction(uid='A2S29JTHOCGKSI', iid='B000AAZQM2', r_ui=5.0, est=4.04954041832258, details={'was_impossible': True, 'reason': 'User and/or item is unknown.'}),\n",
       " Prediction(uid='A26D8VXWKVEJXY', iid='B000EYRLXQ', r_ui=4.0, est=4.04954041832258, details={'was_impossible': True, 'reason': 'User and/or item is unknown.'}),\n",
       " Prediction(uid='A14Q2TSTDY6M44', iid='B000069EUW', r_ui=5.0, est=3.7772511848341233, details={'actual_k': 0, 'was_impossible': False}),\n",
       " Prediction(uid='A1ZRUYFJGXU6ZE', iid='B000EPJL1A', r_ui=5.0, est=4.257692307692308, details={'actual_k': 0, 'was_impossible': False}),\n",
       " Prediction(uid='A27ATDLO3LZ5OO', iid='B00009EHJV', r_ui=4.0, est=4.04954041832258, details={'was_impossible': True, 'reason': 'User and/or item is unknown.'}),\n",
       " Prediction(uid='A3EXOPBFD9KLS4', iid='B00000JSGF', r_ui=4.0, est=4.04954041832258, details={'was_impossible': True, 'reason': 'User and/or item is unknown.'}),\n",
       " Prediction(uid='A11HIGGJMZCY07', iid='B000EGQS5G', r_ui=5.0, est=4.04954041832258, details={'was_impossible': True, 'reason': 'User and/or item is unknown.'}),\n",
       " Prediction(uid='A11DD6ZDG48MQC', iid='B0009V140K', r_ui=5.0, est=4.04954041832258, details={'was_impossible': True, 'reason': 'User and/or item is unknown.'}),\n",
       " Prediction(uid='A34KLTCIKU9XFE', iid='B00077AA5Q', r_ui=1.0, est=4.04954041832258, details={'was_impossible': True, 'reason': 'User and/or item is unknown.'}),\n",
       " Prediction(uid='ARMWB0AO7IG8A', iid='B00065DGF0', r_ui=4.0, est=4.04954041832258, details={'was_impossible': True, 'reason': 'User and/or item is unknown.'}),\n",
       " Prediction(uid='A3DKC5WH3RCZDC', iid='B0007QCO6A', r_ui=5.0, est=4.04954041832258, details={'was_impossible': True, 'reason': 'User and/or item is unknown.'}),\n",
       " Prediction(uid='A28CEV8ZEJ8E3L', iid='B000062VUO', r_ui=5.0, est=4.04954041832258, details={'was_impossible': True, 'reason': 'User and/or item is unknown.'}),\n",
       " Prediction(uid='A1JDH9RAAA7UG3', iid='B00006B81E', r_ui=4.0, est=4.04954041832258, details={'was_impossible': True, 'reason': 'User and/or item is unknown.'}),\n",
       " Prediction(uid='A22TD7LE8VIYZU', iid='B000066CCU', r_ui=4.0, est=4.04954041832258, details={'was_impossible': True, 'reason': 'User and/or item is unknown.'}),\n",
       " Prediction(uid='A3T1AS79A36Z3R', iid='B000HZGQ9C', r_ui=5.0, est=4.04954041832258, details={'was_impossible': True, 'reason': 'User and/or item is unknown.'}),\n",
       " Prediction(uid='A2Q8QMXI85BMRK', iid='B000F9LRYO', r_ui=5.0, est=4.04954041832258, details={'was_impossible': True, 'reason': 'User and/or item is unknown.'}),\n",
       " Prediction(uid='A3OVN8W8EBWCMF', iid='B000FOYMKU', r_ui=2.0, est=4.04954041832258, details={'was_impossible': True, 'reason': 'User and/or item is unknown.'}),\n",
       " Prediction(uid='A1DVZ81S5K1PIB', iid='B0002E50MC', r_ui=4.0, est=4.04954041832258, details={'was_impossible': True, 'reason': 'User and/or item is unknown.'}),\n",
       " Prediction(uid='A2BHOUSAHZANI3', iid='B000FGEC94', r_ui=4.0, est=4.04954041832258, details={'was_impossible': True, 'reason': 'User and/or item is unknown.'}),\n",
       " Prediction(uid='A2VKDOBF4ZFRJM', iid='B000BKJZ9Q', r_ui=4.0, est=4.04954041832258, details={'was_impossible': True, 'reason': 'User and/or item is unknown.'}),\n",
       " Prediction(uid='A38RBW3T5JQ50D', iid='B0009V1BEY', r_ui=2.0, est=4.04954041832258, details={'was_impossible': True, 'reason': 'User and/or item is unknown.'}),\n",
       " Prediction(uid='A352OSRTDL0PU0', iid='B00081GX8O', r_ui=4.0, est=4.04954041832258, details={'was_impossible': True, 'reason': 'User and/or item is unknown.'}),\n",
       " Prediction(uid='A2MN36T93O5JFX', iid='B000AYKV4G', r_ui=5.0, est=3.707865168539326, details={'actual_k': 0, 'was_impossible': False}),\n",
       " Prediction(uid='A2590RXT09FKLD', iid='B00005NVPW', r_ui=5.0, est=4.04954041832258, details={'was_impossible': True, 'reason': 'User and/or item is unknown.'}),\n",
       " Prediction(uid='A3B9DG7J4UH9GM', iid='B000A1AQOO', r_ui=5.0, est=3.595744680851064, details={'actual_k': 0, 'was_impossible': False}),\n",
       " Prediction(uid='A2DGHX87BFHYMR', iid='B000AL7A0C', r_ui=4.0, est=4.04954041832258, details={'was_impossible': True, 'reason': 'User and/or item is unknown.'}),\n",
       " Prediction(uid='A15T2DJ9UIDL72', iid='B000CLNHXY', r_ui=5.0, est=4.641000275910336, details={'actual_k': 1, 'was_impossible': False}),\n",
       " Prediction(uid='A457CJYKRVGOV', iid='B0007U0IQE', r_ui=5.0, est=3.8979591836734695, details={'actual_k': 0, 'was_impossible': False}),\n",
       " Prediction(uid='A38SHOPZADNOLN', iid='B0009S5HQA', r_ui=5.0, est=4.472340425531915, details={'actual_k': 0, 'was_impossible': False}),\n",
       " Prediction(uid='A129HEFCS84UQV', iid='B00007E7JU', r_ui=5.0, est=4.047544458176552, details={'actual_k': 1, 'was_impossible': False}),\n",
       " Prediction(uid='AHNTN7C4AI4W6', iid='B00003CWDG', r_ui=1.0, est=4.104651162790698, details={'actual_k': 0, 'was_impossible': False}),\n",
       " Prediction(uid='A2QVSQLUDXYY0R', iid='B0009H5VVM', r_ui=5.0, est=4.04954041832258, details={'was_impossible': True, 'reason': 'User and/or item is unknown.'}),\n",
       " Prediction(uid='AV9VXU2QRJRVY', iid='B000ID7QNI', r_ui=5.0, est=4.557737627651218, details={'actual_k': 0, 'was_impossible': False}),\n",
       " Prediction(uid='A8495LRF6ABJG', iid='B000I68BD4', r_ui=1.0, est=4.04954041832258, details={'was_impossible': True, 'reason': 'User and/or item is unknown.'}),\n",
       " Prediction(uid='A1UN8HF1AY2KJF', iid='B00001P4XA', r_ui=3.0, est=2.2965927977839335, details={'actual_k': 1, 'was_impossible': False}),\n",
       " Prediction(uid='AHLD5MLSDIA1Y', iid='B00007E7JU', r_ui=5.0, est=4.8497068684679645, details={'actual_k': 2, 'was_impossible': False}),\n",
       " Prediction(uid='A1E97PKDKRKVL8', iid='B0001D3K3A', r_ui=1.0, est=4.04954041832258, details={'was_impossible': True, 'reason': 'User and/or item is unknown.'}),\n",
       " Prediction(uid='AK53IJLIY9FHC', iid='B00011KM38', r_ui=5.0, est=5, details={'actual_k': 1, 'was_impossible': False}),\n",
       " Prediction(uid='A278ERHWXSBIXQ', iid='B0000A1G05', r_ui=5.0, est=4.302631578947368, details={'actual_k': 0, 'was_impossible': False}),\n",
       " Prediction(uid='AAI8A912XBX63', iid='B00065ANY2', r_ui=5.0, est=4.107843137254902, details={'actual_k': 0, 'was_impossible': False}),\n",
       " Prediction(uid='A2BNXESS8UAP0B', iid='B0002MQGRM', r_ui=5.0, est=4.04954041832258, details={'was_impossible': True, 'reason': 'User and/or item is unknown.'}),\n",
       " Prediction(uid='A1168MU5RCDL2A', iid='B0002SQ2P2', r_ui=5.0, est=4.04954041832258, details={'was_impossible': True, 'reason': 'User and/or item is unknown.'}),\n",
       " Prediction(uid='A2X325AZZT4E68', iid='B00005T39Y', r_ui=5.0, est=4.04954041832258, details={'was_impossible': True, 'reason': 'User and/or item is unknown.'}),\n",
       " Prediction(uid='A1BB3FQ6929HM9', iid='B0006OCJ2W', r_ui=2.0, est=4.04954041832258, details={'was_impossible': True, 'reason': 'User and/or item is unknown.'}),\n",
       " Prediction(uid='A2MH5TES2MTWTF', iid='B00004SB92', r_ui=5.0, est=4.04954041832258, details={'was_impossible': True, 'reason': 'User and/or item is unknown.'}),\n",
       " Prediction(uid='A3QRBU6IQFAQPJ', iid='B0000E0ZM0', r_ui=4.0, est=4.04954041832258, details={'was_impossible': True, 'reason': 'User and/or item is unknown.'}),\n",
       " Prediction(uid='A1FAOXB8IJS99K', iid='972683275', r_ui=5.0, est=4.04954041832258, details={'was_impossible': True, 'reason': 'User and/or item is unknown.'}),\n",
       " Prediction(uid='A1L8LPR12DAJ0T', iid='B0000645RH', r_ui=1.0, est=4.04954041832258, details={'was_impossible': True, 'reason': 'User and/or item is unknown.'}),\n",
       " Prediction(uid='ANPA4YXPPOG9W', iid='B000189W8M', r_ui=4.0, est=4.04954041832258, details={'was_impossible': True, 'reason': 'User and/or item is unknown.'}),\n",
       " Prediction(uid='A3VNC9DFL9G2LP', iid='B00004SABB', r_ui=5.0, est=4.04954041832258, details={'was_impossible': True, 'reason': 'User and/or item is unknown.'}),\n",
       " Prediction(uid='A1VKB3DG8UGIGQ', iid='B0000A1WGL', r_ui=4.0, est=3.920353982300885, details={'actual_k': 0, 'was_impossible': False}),\n",
       " Prediction(uid='A2Y4QQTCIP2E0E', iid='B000A5TBM8', r_ui=5.0, est=3.9523809523809526, details={'actual_k': 0, 'was_impossible': False}),\n",
       " Prediction(uid='A35OSI6HGCI1UB', iid='B000067S60', r_ui=5.0, est=4.04954041832258, details={'was_impossible': True, 'reason': 'User and/or item is unknown.'}),\n",
       " Prediction(uid='A31OZ2TKSLIYPC', iid='B0000DYTDJ', r_ui=5.0, est=4.04954041832258, details={'was_impossible': True, 'reason': 'User and/or item is unknown.'}),\n",
       " Prediction(uid='A3L8S3BAS92KTP', iid='B000HZ8942', r_ui=3.0, est=4.04954041832258, details={'was_impossible': True, 'reason': 'User and/or item is unknown.'}),\n",
       " Prediction(uid='A1QZZ1XQMR8MUH', iid='B00007M1TZ', r_ui=5.0, est=4.04954041832258, details={'was_impossible': True, 'reason': 'User and/or item is unknown.'}),\n",
       " Prediction(uid='A22R5M64JLKQBM', iid='B000FBK3QK', r_ui=2.0, est=4.04954041832258, details={'was_impossible': True, 'reason': 'User and/or item is unknown.'}),\n",
       " Prediction(uid='A377DYI1X1CNEQ', iid='B0009WU65I', r_ui=5.0, est=4.04954041832258, details={'was_impossible': True, 'reason': 'User and/or item is unknown.'}),\n",
       " Prediction(uid='A27EFHUWHXQULT', iid='B000068O3C', r_ui=5.0, est=4.04954041832258, details={'was_impossible': True, 'reason': 'User and/or item is unknown.'}),\n",
       " Prediction(uid='ABK24ZQDEDX2X', iid='B0009Q56N6', r_ui=5.0, est=4.217741935483871, details={'actual_k': 0, 'was_impossible': False}),\n",
       " Prediction(uid='A2IX26184Q620Q', iid='B000CMS5B2', r_ui=4.0, est=4.04954041832258, details={'was_impossible': True, 'reason': 'User and/or item is unknown.'}),\n",
       " Prediction(uid='A319PCSS8T4NYY', iid='B0006ZQ4E0', r_ui=5.0, est=4.04954041832258, details={'was_impossible': True, 'reason': 'User and/or item is unknown.'}),\n",
       " Prediction(uid='A680RUE1FDO8B', iid='B000E4K2GO', r_ui=3.0, est=3.164705882352941, details={'actual_k': 0, 'was_impossible': False}),\n",
       " Prediction(uid='A3TFNYQLGTH4NJ', iid='B0006B3QY0', r_ui=4.0, est=4.04954041832258, details={'was_impossible': True, 'reason': 'User and/or item is unknown.'}),\n",
       " Prediction(uid='ADHR5QDBFP91Q', iid='B000EPLP3C', r_ui=4.0, est=3.884927066450567, details={'actual_k': 0, 'was_impossible': False}),\n",
       " Prediction(uid='ATWZC87XCUCZ6', iid='B00007E7JU', r_ui=3.0, est=4.04954041832258, details={'was_impossible': True, 'reason': 'User and/or item is unknown.'}),\n",
       " Prediction(uid='A35IE0RZVASI0L', iid='B0000DK3I4', r_ui=5.0, est=4.656488549618321, details={'actual_k': 0, 'was_impossible': False}),\n",
       " Prediction(uid='A27RVMX75BIIGK', iid='B0002MQGOK', r_ui=5.0, est=4.321678321678322, details={'actual_k': 0, 'was_impossible': False}),\n",
       " Prediction(uid='A3GZO3WXW4TY35', iid='B00006HMPK', r_ui=5.0, est=3.911290322580645, details={'actual_k': 0, 'was_impossible': False}),\n",
       " Prediction(uid='A1LT1SEO1AH1EP', iid='B000GDAY6Q', r_ui=5.0, est=4.04954041832258, details={'was_impossible': True, 'reason': 'User and/or item is unknown.'}),\n",
       " Prediction(uid='A1P0C4KN63K92I', iid='B0002BEQJ8', r_ui=5.0, est=4.516245487364621, details={'actual_k': 0, 'was_impossible': False}),\n",
       " Prediction(uid='A20FCRSETAEEQ5', iid='B0000BYDKO', r_ui=3.0, est=3.4265129682997117, details={'actual_k': 0, 'was_impossible': False}),\n",
       " Prediction(uid='A1RJZA5HP9TODZ', iid='B000067RC4', r_ui=5.0, est=4.04954041832258, details={'was_impossible': True, 'reason': 'User and/or item is unknown.'}),\n",
       " Prediction(uid='AHY3TNN866ASK', iid='B00005NIMJ', r_ui=3.0, est=4.04954041832258, details={'was_impossible': True, 'reason': 'User and/or item is unknown.'}),\n",
       " Prediction(uid='AO94EFJ7DRRLT', iid='B0007V5X4U', r_ui=4.0, est=4.04954041832258, details={'was_impossible': True, 'reason': 'User and/or item is unknown.'}),\n",
       " Prediction(uid='ASBDCGMXM18FI', iid='B000065BPB', r_ui=5.0, est=4.04954041832258, details={'was_impossible': True, 'reason': 'User and/or item is unknown.'}),\n",
       " Prediction(uid='AKRVSFCYG5GC7', iid='B00006LT11', r_ui=1.0, est=4.04954041832258, details={'was_impossible': True, 'reason': 'User and/or item is unknown.'}),\n",
       " Prediction(uid='A343X39OC8HUAI', iid='B00009R6SD', r_ui=5.0, est=4.04954041832258, details={'was_impossible': True, 'reason': 'User and/or item is unknown.'}),\n",
       " Prediction(uid='A3K9ZQ7C9009BT', iid='B00004THCZ', r_ui=5.0, est=4.225862068965517, details={'actual_k': 0, 'was_impossible': False}),\n",
       " Prediction(uid='A3GJKTCUR5F2GF', iid='B00026BQJ6', r_ui=5.0, est=4.04954041832258, details={'was_impossible': True, 'reason': 'User and/or item is unknown.'}),\n",
       " Prediction(uid='APJYYIKTAN8L0', iid='B000FVDD30', r_ui=1.0, est=4.04954041832258, details={'was_impossible': True, 'reason': 'User and/or item is unknown.'}),\n",
       " Prediction(uid='A1G3WC35648X3', iid='B00007GQLS', r_ui=5.0, est=4.04954041832258, details={'was_impossible': True, 'reason': 'User and/or item is unknown.'}),\n",
       " Prediction(uid='A3PW628EWFPKO0', iid='B0008GP880', r_ui=5.0, est=4.04954041832258, details={'was_impossible': True, 'reason': 'User and/or item is unknown.'}),\n",
       " Prediction(uid='A22EQ4X7UO1NU2', iid='B00020BJA8', r_ui=5.0, est=4.04954041832258, details={'was_impossible': True, 'reason': 'User and/or item is unknown.'}),\n",
       " Prediction(uid='A3GZ5AKUJBYPBG', iid='B000BTL0OA', r_ui=5.0, est=4.04954041832258, details={'was_impossible': True, 'reason': 'User and/or item is unknown.'}),\n",
       " Prediction(uid='A257UUXQ9KKXL9', iid='B000A5TAT2', r_ui=4.0, est=4.04954041832258, details={'was_impossible': True, 'reason': 'User and/or item is unknown.'}),\n",
       " Prediction(uid='A15MXB5POWA78E', iid='B0000BZL0G', r_ui=4.0, est=4.598039215686274, details={'actual_k': 0, 'was_impossible': False}),\n",
       " Prediction(uid='A37JV29W5U9L00', iid='B000BKJZ9Q', r_ui=4.0, est=4.04954041832258, details={'was_impossible': True, 'reason': 'User and/or item is unknown.'}),\n",
       " Prediction(uid='A22ILGS3U384SR', iid='B00007E7JU', r_ui=5.0, est=4.04954041832258, details={'was_impossible': True, 'reason': 'User and/or item is unknown.'}),\n",
       " Prediction(uid='A1SXO130ZKS2BZ', iid='B000BSJFJS', r_ui=4.0, est=4.04954041832258, details={'was_impossible': True, 'reason': 'User and/or item is unknown.'}),\n",
       " Prediction(uid='AIWQXV0CQXDQK', iid='B00006I5FQ', r_ui=5.0, est=4.04954041832258, details={'was_impossible': True, 'reason': 'User and/or item is unknown.'}),\n",
       " Prediction(uid='A2UW5001GS9RVS', iid='B00005QBUU', r_ui=5.0, est=4.04954041832258, details={'was_impossible': True, 'reason': 'User and/or item is unknown.'}),\n",
       " Prediction(uid='A1LIO4HMV2AXX3', iid='B00005OT5X', r_ui=4.0, est=4.04954041832258, details={'was_impossible': True, 'reason': 'User and/or item is unknown.'}),\n",
       " Prediction(uid='AX5XZR4IK39MN', iid='B00028DM96', r_ui=5.0, est=4.04954041832258, details={'was_impossible': True, 'reason': 'User and/or item is unknown.'}),\n",
       " Prediction(uid='A3NI9ARA50CYPA', iid='B000062VUO', r_ui=5.0, est=4.04954041832258, details={'was_impossible': True, 'reason': 'User and/or item is unknown.'}),\n",
       " Prediction(uid='A2FX82D98CQY9E', iid='B000BKJZ9Q', r_ui=4.0, est=4.04954041832258, details={'was_impossible': True, 'reason': 'User and/or item is unknown.'}),\n",
       " Prediction(uid='AG5SP0GJ8NO42', iid='9573212919', r_ui=3.0, est=4.04954041832258, details={'was_impossible': True, 'reason': 'User and/or item is unknown.'}),\n",
       " Prediction(uid='A2RCCC3YSMPK41', iid='B000067RIV', r_ui=3.0, est=4.04954041832258, details={'was_impossible': True, 'reason': 'User and/or item is unknown.'}),\n",
       " Prediction(uid='A3KW2K36JHDBO0', iid='B000F2PHDI', r_ui=5.0, est=4.04954041832258, details={'was_impossible': True, 'reason': 'User and/or item is unknown.'}),\n",
       " Prediction(uid='A30ZRJ3LK7PUJ4', iid='B0000AZK4G', r_ui=5.0, est=4.04954041832258, details={'was_impossible': True, 'reason': 'User and/or item is unknown.'}),\n",
       " Prediction(uid='A9ALSJ436FUQY', iid='B0006I1TRY', r_ui=4.0, est=4.04954041832258, details={'was_impossible': True, 'reason': 'User and/or item is unknown.'}),\n",
       " Prediction(uid='A5JLAU2ARJ0BO', iid='B00009VSIM', r_ui=5.0, est=3.851063829787234, details={'actual_k': 0, 'was_impossible': False}),\n",
       " Prediction(uid='A1J2AOBO20Q39', iid='B000I68BD4', r_ui=5.0, est=4.04954041832258, details={'was_impossible': True, 'reason': 'User and/or item is unknown.'}),\n",
       " Prediction(uid='AMLVYTP4YF0FK', iid='B0007WK8KS', r_ui=4.0, est=4.04954041832258, details={'was_impossible': True, 'reason': 'User and/or item is unknown.'}),\n",
       " Prediction(uid='AVDKAE5D57230', iid='B0003QER7S', r_ui=3.0, est=4.04954041832258, details={'was_impossible': True, 'reason': 'User and/or item is unknown.'}),\n",
       " Prediction(uid='ABX7SEE84DMLU', iid='B00006IW1X', r_ui=4.0, est=3.4857142857142858, details={'actual_k': 0, 'was_impossible': False}),\n",
       " Prediction(uid='A3T3LXK2F3XTEK', iid='B00001WRSJ', r_ui=5.0, est=4.04954041832258, details={'was_impossible': True, 'reason': 'User and/or item is unknown.'}),\n",
       " Prediction(uid='A1KQG94BHD1OS2', iid='B00007EDM8', r_ui=2.0, est=3.7972270363951472, details={'actual_k': 0, 'was_impossible': False}),\n",
       " Prediction(uid='A2YGW7RKUJ29QC', iid='B000BQ7GW8', r_ui=5.0, est=4.04954041832258, details={'was_impossible': True, 'reason': 'User and/or item is unknown.'}),\n",
       " Prediction(uid='A3EZAZH1CZNHZJ', iid='B00005QBUU', r_ui=5.0, est=4.04954041832258, details={'was_impossible': True, 'reason': 'User and/or item is unknown.'}),\n",
       " Prediction(uid='ATZ9UM14ZYKI5', iid='B00022VBAE', r_ui=5.0, est=4.04954041832258, details={'was_impossible': True, 'reason': 'User and/or item is unknown.'}),\n",
       " Prediction(uid='A258SGDYFD97OH', iid='B000BP8GQO', r_ui=4.0, est=4.04954041832258, details={'was_impossible': True, 'reason': 'User and/or item is unknown.'}),\n",
       " Prediction(uid='A2JKUIJA6HRHSA', iid='B000BKOFLY', r_ui=5.0, est=4.04954041832258, details={'was_impossible': True, 'reason': 'User and/or item is unknown.'}),\n",
       " Prediction(uid='A9HYOOGJ0WDLA', iid='B000EPLP3C', r_ui=5.0, est=4.04954041832258, details={'was_impossible': True, 'reason': 'User and/or item is unknown.'}),\n",
       " Prediction(uid='A3BDYRYBWYD0K6', iid='B000EOPQ7E', r_ui=5.0, est=4.04954041832258, details={'was_impossible': True, 'reason': 'User and/or item is unknown.'}),\n",
       " Prediction(uid='A250EM53SRXLL1', iid='B0001Y9UEW', r_ui=1.0, est=4.04954041832258, details={'was_impossible': True, 'reason': 'User and/or item is unknown.'}),\n",
       " Prediction(uid='A33PZPS7NFLWKR', iid='B000051YGF', r_ui=3.0, est=3.215686274509804, details={'actual_k': 0, 'was_impossible': False}),\n",
       " Prediction(uid='AMXLFNIZEWJY3', iid='B000EHUR3O', r_ui=1.0, est=4.04954041832258, details={'was_impossible': True, 'reason': 'User and/or item is unknown.'}),\n",
       " Prediction(uid='A1ZQW78I9O09OO', iid='B00007KDVI', r_ui=5.0, est=4.04954041832258, details={'was_impossible': True, 'reason': 'User and/or item is unknown.'}),\n",
       " Prediction(uid='A3LHM5YKF4YCMN', iid='B00001WRSJ', r_ui=5.0, est=4.626838235294118, details={'actual_k': 0, 'was_impossible': False}),\n",
       " Prediction(uid='A2ORBGG02SXWRA', iid='B0002WPSB2', r_ui=5.0, est=4.04954041832258, details={'was_impossible': True, 'reason': 'User and/or item is unknown.'}),\n",
       " Prediction(uid='A122C77O6TYMLP', iid='B0002SAF64', r_ui=2.0, est=4.04954041832258, details={'was_impossible': True, 'reason': 'User and/or item is unknown.'}),\n",
       " Prediction(uid='A1GS0NL5HTU70R', iid='B000ICZZJG', r_ui=5.0, est=4.04954041832258, details={'was_impossible': True, 'reason': 'User and/or item is unknown.'}),\n",
       " Prediction(uid='A11U0MK39D0WQU', iid='B000ELOQGE', r_ui=5.0, est=4.04954041832258, details={'was_impossible': True, 'reason': 'User and/or item is unknown.'}),\n",
       " Prediction(uid='ABC5IICAGFSIA', iid='B00081A2KY', r_ui=5.0, est=4.04954041832258, details={'was_impossible': True, 'reason': 'User and/or item is unknown.'}),\n",
       " Prediction(uid='AI1PQDEZVH2YM', iid='B000ARSLB8', r_ui=4.0, est=4.04954041832258, details={'was_impossible': True, 'reason': 'User and/or item is unknown.'}),\n",
       " Prediction(uid='A3JYZRCO0HS6CT', iid='B00011G5FW', r_ui=3.0, est=3.5555555555555554, details={'actual_k': 0, 'was_impossible': False}),\n",
       " Prediction(uid='A1NR59KNVO9QQY', iid='B000HAOVC6', r_ui=4.0, est=4.349775784753363, details={'actual_k': 0, 'was_impossible': False}),\n",
       " Prediction(uid='A17M66RLPZTF82', iid='B0007R4LI8', r_ui=1.0, est=4.04954041832258, details={'was_impossible': True, 'reason': 'User and/or item is unknown.'}),\n",
       " Prediction(uid='A8DXSKM7B82V4', iid='B00067OF80', r_ui=5.0, est=4.04954041832258, details={'was_impossible': True, 'reason': 'User and/or item is unknown.'}),\n",
       " Prediction(uid='A35667Y9Y4EBLE', iid='B00004THCZ', r_ui=5.0, est=4.225862068965517, details={'actual_k': 0, 'was_impossible': False}),\n",
       " Prediction(uid='A1NKE26PR02CJX', iid='B000C1Z0HA', r_ui=5.0, est=4.04954041832258, details={'was_impossible': True, 'reason': 'User and/or item is unknown.'}),\n",
       " Prediction(uid='ATVHZDWLHU2GG', iid='B00005N5WW', r_ui=3.0, est=4.04954041832258, details={'was_impossible': True, 'reason': 'User and/or item is unknown.'}),\n",
       " Prediction(uid='A1RUKNX2F5U34K', iid='B000GQMHBI', r_ui=5.0, est=4.04954041832258, details={'was_impossible': True, 'reason': 'User and/or item is unknown.'}),\n",
       " Prediction(uid='AO21FYANWN5GV', iid='B000EZKAHY', r_ui=5.0, est=4.04954041832258, details={'was_impossible': True, 'reason': 'User and/or item is unknown.'}),\n",
       " Prediction(uid='A22Z1Z8F5GA40S', iid='B0006TIEZS', r_ui=5.0, est=3.5588235294117645, details={'actual_k': 0, 'was_impossible': False}),\n",
       " Prediction(uid='AABNXCPSXDO5J', iid='B000G36GOK', r_ui=5.0, est=4.04954041832258, details={'was_impossible': True, 'reason': 'User and/or item is unknown.'}),\n",
       " Prediction(uid='AYZ75279JXDQU', iid='B0000CEOYI', r_ui=5.0, est=4.752650602409638, details={'actual_k': 1, 'was_impossible': False}),\n",
       " Prediction(uid='A2ZVA55PAWSJI1', iid='B00006I5WJ', r_ui=5.0, est=4.04954041832258, details={'was_impossible': True, 'reason': 'User and/or item is unknown.'}),\n",
       " Prediction(uid='A1T6X7ZQ0CDIFS', iid='B000067O7T', r_ui=5.0, est=4.04954041832258, details={'was_impossible': True, 'reason': 'User and/or item is unknown.'}),\n",
       " Prediction(uid='A11N4XXCJ6S6FE', iid='B0009JR82U', r_ui=5.0, est=4.04954041832258, details={'was_impossible': True, 'reason': 'User and/or item is unknown.'}),\n",
       " Prediction(uid='A1U7GSXUJZRES4', iid='B000F3VHV8', r_ui=5.0, est=4.04954041832258, details={'was_impossible': True, 'reason': 'User and/or item is unknown.'}),\n",
       " Prediction(uid='A25CD3NNU10FXA', iid='B00066EK36', r_ui=4.0, est=4.0, details={'actual_k': 0, 'was_impossible': False}),\n",
       " Prediction(uid='AVNZLPS12CY2H', iid='B000EPFCC2', r_ui=1.0, est=4.04954041832258, details={'was_impossible': True, 'reason': 'User and/or item is unknown.'}),\n",
       " Prediction(uid='A3OXV0YGCJ65WU', iid='B000HQH2Y4', r_ui=1.0, est=4.04954041832258, details={'was_impossible': True, 'reason': 'User and/or item is unknown.'}),\n",
       " Prediction(uid='A3BA9J9G2C1YSG', iid='B0000TU7I6', r_ui=5.0, est=4.04954041832258, details={'was_impossible': True, 'reason': 'User and/or item is unknown.'}),\n",
       " Prediction(uid='A2LPQNWQU2SC23', iid='B00009XVCZ', r_ui=4.0, est=4.04954041832258, details={'was_impossible': True, 'reason': 'User and/or item is unknown.'}),\n",
       " Prediction(uid='A3J8O9Z6485AV6', iid='B000CSQJ8C', r_ui=5.0, est=4.04954041832258, details={'was_impossible': True, 'reason': 'User and/or item is unknown.'}),\n",
       " Prediction(uid='A14K99IHHAIQ1D', iid='B000F744T6', r_ui=5.0, est=4.04954041832258, details={'was_impossible': True, 'reason': 'User and/or item is unknown.'}),\n",
       " Prediction(uid='AHAJFXBQ3DX1F', iid='B000F9YN22', r_ui=5.0, est=4.04954041832258, details={'was_impossible': True, 'reason': 'User and/or item is unknown.'}),\n",
       " Prediction(uid='A180TSAV1WPEPN', iid='B0007Y79B2', r_ui=1.0, est=4.04954041832258, details={'was_impossible': True, 'reason': 'User and/or item is unknown.'}),\n",
       " Prediction(uid='A3LPDXFPC1Z84T', iid='B0000633EM', r_ui=2.0, est=4.04954041832258, details={'was_impossible': True, 'reason': 'User and/or item is unknown.'}),\n",
       " Prediction(uid='A30PJ756Q59S14', iid='B000062VUO', r_ui=1.0, est=4.30379746835443, details={'actual_k': 0, 'was_impossible': False}),\n",
       " Prediction(uid='AQD2BSDXK30KC', iid='B000062VUO', r_ui=4.0, est=4.30379746835443, details={'actual_k': 0, 'was_impossible': False}),\n",
       " Prediction(uid='A4SR7AXLPHPGO', iid='B000A2EXI8', r_ui=5.0, est=4.04954041832258, details={'was_impossible': True, 'reason': 'User and/or item is unknown.'}),\n",
       " Prediction(uid='A3K0BKOT6NHGS4', iid='B00001P4ZH', r_ui=4.0, est=4.04954041832258, details={'was_impossible': True, 'reason': 'User and/or item is unknown.'}),\n",
       " Prediction(uid='A1LXFBMO2VZGWY', iid='B000BM8RFM', r_ui=5.0, est=4.17948717948718, details={'actual_k': 0, 'was_impossible': False}),\n",
       " Prediction(uid='A2I76U2KSA7QWL', iid='B0002UB2Q4', r_ui=5.0, est=4.04954041832258, details={'was_impossible': True, 'reason': 'User and/or item is unknown.'}),\n",
       " Prediction(uid='AV1XIGOM67LEG', iid='B00080YK9Y', r_ui=4.0, est=4.04954041832258, details={'was_impossible': True, 'reason': 'User and/or item is unknown.'}),\n",
       " Prediction(uid='A3RTL2M7A4DM2N', iid='B0002EQU6C', r_ui=5.0, est=4.7063492063492065, details={'actual_k': 0, 'was_impossible': False}),\n",
       " Prediction(uid='A1T8U81Q3TARAT', iid='B00006BAKJ', r_ui=2.0, est=4.04954041832258, details={'was_impossible': True, 'reason': 'User and/or item is unknown.'}),\n",
       " Prediction(uid='AHVU35E33HRF7', iid='B00020S7XK', r_ui=5.0, est=4.04954041832258, details={'was_impossible': True, 'reason': 'User and/or item is unknown.'}),\n",
       " Prediction(uid='A2GBTZBQ22FSV7', iid='B000BFO320', r_ui=1.0, est=4.04954041832258, details={'was_impossible': True, 'reason': 'User and/or item is unknown.'}),\n",
       " Prediction(uid='ASSJTVUFPFEUC', iid='B000BI1XNE', r_ui=5.0, est=4.04954041832258, details={'was_impossible': True, 'reason': 'User and/or item is unknown.'}),\n",
       " Prediction(uid='AKFE675S7CNT8', iid='B00077IG3O', r_ui=5.0, est=4.04954041832258, details={'was_impossible': True, 'reason': 'User and/or item is unknown.'}),\n",
       " Prediction(uid='AEDOSKTA7GVUF', iid='B00001P4ZH', r_ui=3.0, est=4.04954041832258, details={'was_impossible': True, 'reason': 'User and/or item is unknown.'}),\n",
       " Prediction(uid='A1QYONDN1WO487', iid='B00005NHHA', r_ui=5.0, est=4.04954041832258, details={'was_impossible': True, 'reason': 'User and/or item is unknown.'}),\n",
       " Prediction(uid='A1KRIRX2IXTDKW', iid='B00006B7DB', r_ui=5.0, est=4.04954041832258, details={'was_impossible': True, 'reason': 'User and/or item is unknown.'}),\n",
       " Prediction(uid='A22DMOGWAHKSXD', iid='B000HVVHEU', r_ui=5.0, est=4.04954041832258, details={'was_impossible': True, 'reason': 'User and/or item is unknown.'}),\n",
       " Prediction(uid='AL3XGGTEILSGK', iid='B000792SA4', r_ui=5.0, est=4.04954041832258, details={'was_impossible': True, 'reason': 'User and/or item is unknown.'}),\n",
       " Prediction(uid='A3O986KFWROPTR', iid='B000ETVKHE', r_ui=5.0, est=4.604551501934605, details={'actual_k': 1, 'was_impossible': False}),\n",
       " Prediction(uid='A3CKZM49DSHE29', iid='B000A6PPOK', r_ui=4.0, est=4.04954041832258, details={'was_impossible': True, 'reason': 'User and/or item is unknown.'}),\n",
       " Prediction(uid='A2XBDFI1RBAIXO', iid='B0009YJXMS', r_ui=5.0, est=4.40625, details={'actual_k': 0, 'was_impossible': False}),\n",
       " Prediction(uid='A3JGE9SS1FIZT9', iid='B000A1SZ2Y', r_ui=5.0, est=4.04954041832258, details={'was_impossible': True, 'reason': 'User and/or item is unknown.'}),\n",
       " Prediction(uid='A1XB867P3B6NZB', iid='B000CFLES0', r_ui=1.0, est=4.04954041832258, details={'was_impossible': True, 'reason': 'User and/or item is unknown.'}),\n",
       " Prediction(uid='A3BCX5UMDWN6XX', iid='B000089GN4', r_ui=3.0, est=4.04954041832258, details={'was_impossible': True, 'reason': 'User and/or item is unknown.'}),\n",
       " Prediction(uid='A1KGKPWWG61U42', iid='B00005A1KZ', r_ui=4.0, est=4.219101123595506, details={'actual_k': 0, 'was_impossible': False}),\n",
       " Prediction(uid='A1CQCN4K829V0Z', iid='B000065BPB', r_ui=5.0, est=4.04954041832258, details={'was_impossible': True, 'reason': 'User and/or item is unknown.'}),\n",
       " Prediction(uid='A3W2BFOCDJ3VQA', iid='B00009R6WO', r_ui=5.0, est=4.775143903715333, details={'actual_k': 1, 'was_impossible': False}),\n",
       " Prediction(uid='A3316K5DDQ5IK3', iid='B0007CGXU2', r_ui=5.0, est=4.518518518518518, details={'actual_k': 0, 'was_impossible': False}),\n",
       " Prediction(uid='A394VEVKCWNZSA', iid='B00005T39Y', r_ui=5.0, est=4.04954041832258, details={'was_impossible': True, 'reason': 'User and/or item is unknown.'}),\n",
       " Prediction(uid='A104QGECCAFCI9', iid='B000I68BD4', r_ui=4.0, est=3.5017191977077364, details={'actual_k': 0, 'was_impossible': False}),\n",
       " Prediction(uid='A2LBGFI13TZHVR', iid='B000FBK3QK', r_ui=5.0, est=4.04954041832258, details={'was_impossible': True, 'reason': 'User and/or item is unknown.'}),\n",
       " Prediction(uid='A19W0U7UP9X0FO', iid='B000I1D0BW', r_ui=2.0, est=4.04954041832258, details={'was_impossible': True, 'reason': 'User and/or item is unknown.'}),\n",
       " Prediction(uid='A22RYPT1RCACVR', iid='B00009R6K7', r_ui=5.0, est=4.04954041832258, details={'was_impossible': True, 'reason': 'User and/or item is unknown.'}),\n",
       " Prediction(uid='A1IORDRHYPKL45', iid='B00006JPDI', r_ui=5.0, est=4.04954041832258, details={'was_impossible': True, 'reason': 'User and/or item is unknown.'}),\n",
       " Prediction(uid='A1KYG10Q4CLA13', iid='B0007XJSQC', r_ui=5.0, est=4.04954041832258, details={'was_impossible': True, 'reason': 'User and/or item is unknown.'}),\n",
       " Prediction(uid='A3LYX5ZH17L7SW', iid='B000IDC0K2', r_ui=5.0, est=4.04954041832258, details={'was_impossible': True, 'reason': 'User and/or item is unknown.'}),\n",
       " Prediction(uid='A1D5RV69RLH11N', iid='B00005LEN4', r_ui=5.0, est=4.04954041832258, details={'was_impossible': True, 'reason': 'User and/or item is unknown.'}),\n",
       " Prediction(uid='A2CFS4UE94YSD1', iid='B0002OZXHO', r_ui=5.0, est=3.7891737891737893, details={'actual_k': 0, 'was_impossible': False}),\n",
       " Prediction(uid='A1TUWEUJTBSXF7', iid='B000HZ9CCA', r_ui=1.0, est=4.04954041832258, details={'was_impossible': True, 'reason': 'User and/or item is unknown.'}),\n",
       " Prediction(uid='A92D6I4IX7PGC', iid='B00003006R', r_ui=5.0, est=4.04954041832258, details={'was_impossible': True, 'reason': 'User and/or item is unknown.'}),\n",
       " Prediction(uid='AJKDSF8FI7VB3', iid='B000ID6DTG', r_ui=5.0, est=4.04954041832258, details={'was_impossible': True, 'reason': 'User and/or item is unknown.'}),\n",
       " Prediction(uid='A107BRFWYIA751', iid='B000H6GFKG', r_ui=4.0, est=4.04954041832258, details={'was_impossible': True, 'reason': 'User and/or item is unknown.'}),\n",
       " Prediction(uid='A1KD19JUTIVWEV', iid='B00025O7FC', r_ui=5.0, est=4.04954041832258, details={'was_impossible': True, 'reason': 'User and/or item is unknown.'}),\n",
       " Prediction(uid='A1GCC33SRWJD4S', iid='B0007XJSQC', r_ui=4.0, est=4.128329297820823, details={'actual_k': 0, 'was_impossible': False}),\n",
       " Prediction(uid='AV377ZY2LI9CX', iid='B00005K47X', r_ui=5.0, est=4.04954041832258, details={'was_impossible': True, 'reason': 'User and/or item is unknown.'}),\n",
       " Prediction(uid='A2W1MVC5OR0I92', iid='B000GT5FK0', r_ui=5.0, est=4.702702702702703, details={'actual_k': 0, 'was_impossible': False}),\n",
       " Prediction(uid='A3F2Q0F1GJ2MLO', iid='B000I97FJ2', r_ui=1.0, est=4.04954041832258, details={'was_impossible': True, 'reason': 'User and/or item is unknown.'}),\n",
       " Prediction(uid='A3JWE5EFXXA7U1', iid='B00003006E', r_ui=5.0, est=4.04954041832258, details={'was_impossible': True, 'reason': 'User and/or item is unknown.'}),\n",
       " Prediction(uid='A22O177N1MS85I', iid='B00009XVCZ', r_ui=5.0, est=4.04954041832258, details={'was_impossible': True, 'reason': 'User and/or item is unknown.'}),\n",
       " Prediction(uid='A1FSBKWT66ALNQ', iid='B00029U1DK', r_ui=5.0, est=4.781504857811503, details={'actual_k': 1, 'was_impossible': False}),\n",
       " Prediction(uid='A9YKI46Z909TV', iid='B0002L5R78', r_ui=5.0, est=4.04954041832258, details={'was_impossible': True, 'reason': 'User and/or item is unknown.'}),\n",
       " Prediction(uid='A2GH1SJNVOZ7XA', iid='B000A6PPOK', r_ui=3.0, est=4.04954041832258, details={'was_impossible': True, 'reason': 'User and/or item is unknown.'}),\n",
       " Prediction(uid='A3NGGYRZCNNRU2', iid='B000BQ7GW8', r_ui=5.0, est=4.04954041832258, details={'was_impossible': True, 'reason': 'User and/or item is unknown.'}),\n",
       " Prediction(uid='A1UEDQYDO58T69', iid='B000DZS0G8', r_ui=1.0, est=4.04954041832258, details={'was_impossible': True, 'reason': 'User and/or item is unknown.'}),\n",
       " Prediction(uid='A17KNKWCU3VQCC', iid='B000BVC0WO', r_ui=5.0, est=4.788732394366197, details={'actual_k': 0, 'was_impossible': False}),\n",
       " Prediction(uid='A3S0LMTCG7LOLH', iid='B0000CDJPQ', r_ui=4.0, est=4.04954041832258, details={'was_impossible': True, 'reason': 'User and/or item is unknown.'}),\n",
       " Prediction(uid='A1S4AUBLEJFOII', iid='B00008V6NI', r_ui=1.0, est=4.04954041832258, details={'was_impossible': True, 'reason': 'User and/or item is unknown.'}),\n",
       " Prediction(uid='A31VPVU79J61KC', iid='B000CC1Q4K', r_ui=4.0, est=4.04954041832258, details={'was_impossible': True, 'reason': 'User and/or item is unknown.'}),\n",
       " Prediction(uid='AZ6RTW2S42JR5', iid='B00005T3G0', r_ui=4.0, est=4.1307464797788205, details={'actual_k': 1, 'was_impossible': False}),\n",
       " Prediction(uid='ACQNU6AALYDOZ', iid='B0009PUR5O', r_ui=4.0, est=4.04954041832258, details={'was_impossible': True, 'reason': 'User and/or item is unknown.'}),\n",
       " Prediction(uid='A2BQA3I3RFQ7J2', iid='B0007KX4TC', r_ui=5.0, est=4.04954041832258, details={'was_impossible': True, 'reason': 'User and/or item is unknown.'}),\n",
       " Prediction(uid='A11XZIHO6VHE4U', iid='B000ENRQ3M', r_ui=1.0, est=4.04954041832258, details={'was_impossible': True, 'reason': 'User and/or item is unknown.'}),\n",
       " Prediction(uid='A35PFG1O8K8JSQ', iid='B000EGI7V4', r_ui=5.0, est=4.04954041832258, details={'was_impossible': True, 'reason': 'User and/or item is unknown.'}),\n",
       " Prediction(uid='A170NUZ297ZSTQ', iid='B0000AQIFW', r_ui=4.0, est=4.04954041832258, details={'was_impossible': True, 'reason': 'User and/or item is unknown.'}),\n",
       " Prediction(uid='A2PZ3QG088JASC', iid='B000E479JC', r_ui=1.0, est=3.7475728155339807, details={'actual_k': 0, 'was_impossible': False}),\n",
       " Prediction(uid='A13IH4YUUQYWCV', iid='B000HCMTJG', r_ui=5.0, est=4.04954041832258, details={'was_impossible': True, 'reason': 'User and/or item is unknown.'}),\n",
       " Prediction(uid='A2VBJZHHZE75P6', iid='B00008WIX5', r_ui=4.0, est=4.04954041832258, details={'was_impossible': True, 'reason': 'User and/or item is unknown.'}),\n",
       " Prediction(uid='A2X3OJ4QFRCG3Q', iid='B00066EK40', r_ui=2.0, est=4.04954041832258, details={'was_impossible': True, 'reason': 'User and/or item is unknown.'}),\n",
       " Prediction(uid='A38DSYHNBYZNUG', iid='B0000510ZO', r_ui=5.0, est=4.383064516129032, details={'actual_k': 0, 'was_impossible': False}),\n",
       " Prediction(uid='A18AP5GFL5CRKD', iid='B000HKDA0U', r_ui=5.0, est=4.04954041832258, details={'was_impossible': True, 'reason': 'User and/or item is unknown.'}),\n",
       " Prediction(uid='A1Z6H7ZUHJNR7E', iid='B000EGI7V4', r_ui=5.0, est=4.04954041832258, details={'was_impossible': True, 'reason': 'User and/or item is unknown.'}),\n",
       " Prediction(uid='A35M4F9WV1SHL9', iid='B000GR3XYM', r_ui=2.0, est=4.04954041832258, details={'was_impossible': True, 'reason': 'User and/or item is unknown.'}),\n",
       " Prediction(uid='ABEQBRMNB0K6I', iid='B000095SB4', r_ui=3.0, est=4.04954041832258, details={'was_impossible': True, 'reason': 'User and/or item is unknown.'}),\n",
       " Prediction(uid='A23EB2HPHSPCTT', iid='B000FGD2HM', r_ui=1.0, est=4.04954041832258, details={'was_impossible': True, 'reason': 'User and/or item is unknown.'}),\n",
       " Prediction(uid='A3CQI5ZO1IE5ZK', iid='B0007Z1M50', r_ui=5.0, est=4.47870182555781, details={'actual_k': 0, 'was_impossible': False}),\n",
       " Prediction(uid='A31G05LBKZJSEB', iid='B0002SQ2P2', r_ui=5.0, est=4.04954041832258, details={'was_impossible': True, 'reason': 'User and/or item is unknown.'}),\n",
       " Prediction(uid='AC5NIOP06CSOF', iid='B0001FTVDQ', r_ui=5.0, est=4.04954041832258, details={'was_impossible': True, 'reason': 'User and/or item is unknown.'}),\n",
       " Prediction(uid='AY2RK4IBNYLR3', iid='B000095SB6', r_ui=4.0, est=4.04954041832258, details={'was_impossible': True, 'reason': 'User and/or item is unknown.'}),\n",
       " Prediction(uid='A1L4GFXNIMA96D', iid='B000G4LW0M', r_ui=3.0, est=4.04954041832258, details={'was_impossible': True, 'reason': 'User and/or item is unknown.'}),\n",
       " Prediction(uid='A23X4P9SW44E3W', iid='B0007U00X0', r_ui=5.0, est=4.376146788990826, details={'actual_k': 0, 'was_impossible': False}),\n",
       " Prediction(uid='A1Q5S9GFUSRDWX', iid='B0009YDP7W', r_ui=5.0, est=4.04954041832258, details={'was_impossible': True, 'reason': 'User and/or item is unknown.'}),\n",
       " Prediction(uid='A1KLBWKUQHSQVW', iid='B000GHTGES', r_ui=5.0, est=4.559322033898305, details={'actual_k': 0, 'was_impossible': False}),\n",
       " Prediction(uid='A2TXS18UT5I2FS', iid='B000BKJZ9Q', r_ui=5.0, est=4.04954041832258, details={'was_impossible': True, 'reason': 'User and/or item is unknown.'}),\n",
       " Prediction(uid='AR0V04EJL14LR', iid='B00077AA5Q', r_ui=3.0, est=4.210601719197708, details={'actual_k': 0, 'was_impossible': False}),\n",
       " Prediction(uid='ACID42GS6449B', iid='B000EPLP3C', r_ui=5.0, est=4.04954041832258, details={'was_impossible': True, 'reason': 'User and/or item is unknown.'}),\n",
       " Prediction(uid='A2LLXSUM2NGCA0', iid='B000HCGAFK', r_ui=5.0, est=4.04954041832258, details={'was_impossible': True, 'reason': 'User and/or item is unknown.'}),\n",
       " Prediction(uid='AB9TBYP8HWEHJ', iid='B00067LYFW', r_ui=4.0, est=3.9352850539291215, details={'actual_k': 0, 'was_impossible': False}),\n",
       " Prediction(uid='A2S4DHZTH94XC2', iid='B000BTGVUS', r_ui=5.0, est=4.04954041832258, details={'was_impossible': True, 'reason': 'User and/or item is unknown.'}),\n",
       " Prediction(uid='A6YOL987QXWBQ', iid='B0000E0ZM0', r_ui=4.0, est=3.225806451612903, details={'actual_k': 0, 'was_impossible': False}),\n",
       " Prediction(uid='A3CC3NYU9AZLZN', iid='B00080G0BK', r_ui=5.0, est=4.590604026845638, details={'actual_k': 0, 'was_impossible': False}),\n",
       " Prediction(uid='A2CHLSIE3FKP0', iid='B000GZYMHG', r_ui=5.0, est=4.04954041832258, details={'was_impossible': True, 'reason': 'User and/or item is unknown.'}),\n",
       " Prediction(uid='ABPZERH4DLBF6', iid='B00006I5H5', r_ui=5.0, est=4.04954041832258, details={'was_impossible': True, 'reason': 'User and/or item is unknown.'}),\n",
       " Prediction(uid='A23B98H2UB5W9V', iid='B000CRT07U', r_ui=2.0, est=4.04954041832258, details={'was_impossible': True, 'reason': 'User and/or item is unknown.'}),\n",
       " Prediction(uid='A1FZU1432OWJGZ', iid='B0001FV30K', r_ui=5.0, est=4.2368421052631575, details={'actual_k': 0, 'was_impossible': False}),\n",
       " Prediction(uid='A3MVET9O6ED8N9', iid='B000E1FYQA', r_ui=5.0, est=4.04954041832258, details={'was_impossible': True, 'reason': 'User and/or item is unknown.'}),\n",
       " Prediction(uid='A3NURCC5JC0S1S', iid='B0006TIA0C', r_ui=5.0, est=4.04954041832258, details={'was_impossible': True, 'reason': 'User and/or item is unknown.'}),\n",
       " Prediction(uid='A22FR3F3LYQXHX', iid='B0009RKL5S', r_ui=5.0, est=3.699421965317919, details={'actual_k': 0, 'was_impossible': False}),\n",
       " Prediction(uid='A3IFAU13EC2OJ9', iid='B0002YE686', r_ui=4.0, est=4.359550561797753, details={'actual_k': 0, 'was_impossible': False}),\n",
       " Prediction(uid='A22ES4VHN0PHEW', iid='9573212919', r_ui=4.0, est=4.04954041832258, details={'was_impossible': True, 'reason': 'User and/or item is unknown.'}),\n",
       " Prediction(uid='AS8NWKVPT7V53', iid='B000EYRLXQ', r_ui=1.0, est=4.04954041832258, details={'was_impossible': True, 'reason': 'User and/or item is unknown.'}),\n",
       " Prediction(uid='A1IJ3OI1161MKI', iid='B00012O6RK', r_ui=5.0, est=4.04954041832258, details={'was_impossible': True, 'reason': 'User and/or item is unknown.'}),\n",
       " Prediction(uid='A73ONR4EAQTEB', iid='B000HJ9X0M', r_ui=5.0, est=4.117647058823529, details={'actual_k': 0, 'was_impossible': False}),\n",
       " Prediction(uid='A1P7GH4LQK8OFI', iid='B000BNY64C', r_ui=4.0, est=4.04954041832258, details={'was_impossible': True, 'reason': 'User and/or item is unknown.'}),\n",
       " Prediction(uid='A12IE34KADZPPD', iid='B00093IIRA', r_ui=4.0, est=4.04954041832258, details={'was_impossible': True, 'reason': 'User and/or item is unknown.'}),\n",
       " Prediction(uid='AQCDCDJEF3QKB', iid='B0001A3N6C', r_ui=5.0, est=4.04954041832258, details={'was_impossible': True, 'reason': 'User and/or item is unknown.'}),\n",
       " Prediction(uid='A22RKHEHV2JO1', iid='B000652M6Y', r_ui=5.0, est=4.04954041832258, details={'was_impossible': True, 'reason': 'User and/or item is unknown.'}),\n",
       " Prediction(uid='A2RG4ZS12XA5J9', iid='B00005MIS8', r_ui=4.0, est=4.04954041832258, details={'was_impossible': True, 'reason': 'User and/or item is unknown.'}),\n",
       " Prediction(uid='A1H7JRH18L2BXG', iid='B00000J1QR', r_ui=5.0, est=4.04954041832258, details={'was_impossible': True, 'reason': 'User and/or item is unknown.'}),\n",
       " Prediction(uid='A3VZRESRRD4DYT', iid='B0000B35CK', r_ui=5.0, est=4.04954041832258, details={'was_impossible': True, 'reason': 'User and/or item is unknown.'}),\n",
       " Prediction(uid='AFI9GGQAQAR3Y', iid='B00006B7DA', r_ui=4.0, est=4.04954041832258, details={'was_impossible': True, 'reason': 'User and/or item is unknown.'}),\n",
       " Prediction(uid='A2RU7L6IHV2J3T', iid='B000EYRLXQ', r_ui=5.0, est=4.04954041832258, details={'was_impossible': True, 'reason': 'User and/or item is unknown.'}),\n",
       " Prediction(uid='AWVKXRGLY7378', iid='B00006I5SQ', r_ui=1.0, est=4.04954041832258, details={'was_impossible': True, 'reason': 'User and/or item is unknown.'}),\n",
       " Prediction(uid='A1TZ9YQQYCX5U4', iid='B000BPRGK6', r_ui=2.0, est=4.04954041832258, details={'was_impossible': True, 'reason': 'User and/or item is unknown.'}),\n",
       " Prediction(uid='A2WWICC7CKJFSQ', iid='B0009Y7APU', r_ui=4.0, est=4.04954041832258, details={'was_impossible': True, 'reason': 'User and/or item is unknown.'}),\n",
       " Prediction(uid='AB8WH07VKCJIA', iid='B0007MXZB2', r_ui=1.0, est=4.04954041832258, details={'was_impossible': True, 'reason': 'User and/or item is unknown.'}),\n",
       " Prediction(uid='AG5EU678MCKSH', iid='B000CRT07U', r_ui=1.0, est=4.04954041832258, details={'was_impossible': True, 'reason': 'User and/or item is unknown.'}),\n",
       " Prediction(uid='A3M7EB2O30CSZ3', iid='B0001MKTZS', r_ui=5.0, est=4.46, details={'actual_k': 0, 'was_impossible': False}),\n",
       " Prediction(uid='A154JSFCNH0PVQ', iid='B000C42MLE', r_ui=4.0, est=4.04954041832258, details={'was_impossible': True, 'reason': 'User and/or item is unknown.'}),\n",
       " Prediction(uid='ANIATM2KZ3OP7', iid='B000I13TBS', r_ui=4.0, est=4.04954041832258, details={'was_impossible': True, 'reason': 'User and/or item is unknown.'}),\n",
       " Prediction(uid='AYT5UR8QNA77B', iid='B0002XN3VS', r_ui=1.0, est=4.04954041832258, details={'was_impossible': True, 'reason': 'User and/or item is unknown.'}),\n",
       " Prediction(uid='A31D6R1YHDMM9W', iid='B000ELSY0I', r_ui=5.0, est=4.04954041832258, details={'was_impossible': True, 'reason': 'User and/or item is unknown.'}),\n",
       " Prediction(uid='A2RASJKE3XB1Z3', iid='B00008ZLHG', r_ui=1.0, est=4.04954041832258, details={'was_impossible': True, 'reason': 'User and/or item is unknown.'}),\n",
       " Prediction(uid='A36JO50JOR2RL5', iid='B00006HQR8', r_ui=1.0, est=4.579710144927536, details={'actual_k': 0, 'was_impossible': False}),\n",
       " Prediction(uid='A3L717PTT437BY', iid='B000EFNTQI', r_ui=1.0, est=2.8529411764705883, details={'actual_k': 0, 'was_impossible': False}),\n",
       " Prediction(uid='A1VXA6Z4QAAP2X', iid='B0002MQGOU', r_ui=3.0, est=4.326388888888889, details={'actual_k': 0, 'was_impossible': False}),\n",
       " Prediction(uid='A3LQQ103OICAY7', iid='B000068ILF', r_ui=5.0, est=4.04954041832258, details={'was_impossible': True, 'reason': 'User and/or item is unknown.'}),\n",
       " Prediction(uid='A1P0T4VWWMBK3C', iid='B000092YQW', r_ui=5.0, est=4.04954041832258, details={'was_impossible': True, 'reason': 'User and/or item is unknown.'}),\n",
       " Prediction(uid='A2PNDY1DXVHZV6', iid='B0002LEMWE', r_ui=1.0, est=4.04954041832258, details={'was_impossible': True, 'reason': 'User and/or item is unknown.'}),\n",
       " Prediction(uid='A2BBZEU0FGEOBP', iid='B00004SB92', r_ui=4.0, est=4.04954041832258, details={'was_impossible': True, 'reason': 'User and/or item is unknown.'}),\n",
       " Prediction(uid='A37YLVYZRMB06S', iid='B0000BZOGJ', r_ui=5.0, est=4.04954041832258, details={'was_impossible': True, 'reason': 'User and/or item is unknown.'}),\n",
       " Prediction(uid='A2PXCSYIDAJPYB', iid='B000AP05BO', r_ui=5.0, est=4.04954041832258, details={'was_impossible': True, 'reason': 'User and/or item is unknown.'}),\n",
       " Prediction(uid='A23FAV436XID67', iid='B0007MXZB2', r_ui=1.0, est=4.04954041832258, details={'was_impossible': True, 'reason': 'User and/or item is unknown.'}),\n",
       " Prediction(uid='A1JVUUDH0Y2MG7', iid='B00006B7RK', r_ui=5.0, est=4.273809523809524, details={'actual_k': 0, 'was_impossible': False}),\n",
       " Prediction(uid='A1AW0Y1149OX2S', iid='B00005A1K1', r_ui=5.0, est=4.04954041832258, details={'was_impossible': True, 'reason': 'User and/or item is unknown.'}),\n",
       " Prediction(uid='AK379EUF21AE9', iid='B000ENN9BK', r_ui=5.0, est=4.04954041832258, details={'was_impossible': True, 'reason': 'User and/or item is unknown.'}),\n",
       " Prediction(uid='A1S43DHDHEL5ZA', iid='B00005ML7Q', r_ui=5.0, est=4.04954041832258, details={'was_impossible': True, 'reason': 'User and/or item is unknown.'}),\n",
       " Prediction(uid='A34PAZQ73SL163', iid='B000EVM5DU', r_ui=1.0, est=3.375, details={'actual_k': 0, 'was_impossible': False}),\n",
       " Prediction(uid='A2D0JD0WBK71BP', iid='B000136P8W', r_ui=4.0, est=4.04954041832258, details={'was_impossible': True, 'reason': 'User and/or item is unknown.'}),\n",
       " Prediction(uid='A1QN9SECBOPVA2', iid='B000BI7NHY', r_ui=5.0, est=4.04954041832258, details={'was_impossible': True, 'reason': 'User and/or item is unknown.'}),\n",
       " Prediction(uid='A1X2W0OOQ5R10D', iid='B000DZMC3K', r_ui=3.0, est=4.04954041832258, details={'was_impossible': True, 'reason': 'User and/or item is unknown.'}),\n",
       " Prediction(uid='A391KXVQH22CM0', iid='B0001FXLW8', r_ui=4.0, est=4.459770114942529, details={'actual_k': 0, 'was_impossible': False}),\n",
       " Prediction(uid='AE6PJEYWXVGCY', iid='B0009RGLSE', r_ui=5.0, est=4.04954041832258, details={'was_impossible': True, 'reason': 'User and/or item is unknown.'}),\n",
       " Prediction(uid='A1X0TYK4UFWEEP', iid='B00009R6WW', r_ui=4.0, est=4.04954041832258, details={'was_impossible': True, 'reason': 'User and/or item is unknown.'}),\n",
       " Prediction(uid='A3OIWS68ZT2OU0', iid='B00001ZWXA', r_ui=5.0, est=4.04954041832258, details={'was_impossible': True, 'reason': 'User and/or item is unknown.'}),\n",
       " Prediction(uid='AG5JQ0FMA1GAE', iid='B000AUMHVA', r_ui=5.0, est=4.04954041832258, details={'was_impossible': True, 'reason': 'User and/or item is unknown.'}),\n",
       " Prediction(uid='A2O1EKPQTXP727', iid='B000A6PPOK', r_ui=5.0, est=4.04954041832258, details={'was_impossible': True, 'reason': 'User and/or item is unknown.'}),\n",
       " Prediction(uid='A1CZUV585CSRGF', iid='B0002L5R78', r_ui=2.0, est=4.04954041832258, details={'was_impossible': True, 'reason': 'User and/or item is unknown.'}),\n",
       " Prediction(uid='A1MOTQA6KNU2VN', iid='B00004SABJ', r_ui=5.0, est=4.04954041832258, details={'was_impossible': True, 'reason': 'User and/or item is unknown.'}),\n",
       " Prediction(uid='A2SD75VIN5SAVO', iid='B0002QIBNK', r_ui=5.0, est=4.04954041832258, details={'was_impossible': True, 'reason': 'User and/or item is unknown.'}),\n",
       " Prediction(uid='A3NDBMUW75BLZ8', iid='B000F9GZN2', r_ui=5.0, est=4.04954041832258, details={'was_impossible': True, 'reason': 'User and/or item is unknown.'}),\n",
       " Prediction(uid='AFUZZHDF9BFL0', iid='B000EMWBT2', r_ui=4.0, est=4.04954041832258, details={'was_impossible': True, 'reason': 'User and/or item is unknown.'}),\n",
       " Prediction(uid='A2Y0QUKIO07ZYZ', iid='B0003N01RQ', r_ui=2.0, est=4.04954041832258, details={'was_impossible': True, 'reason': 'User and/or item is unknown.'}),\n",
       " Prediction(uid='A1SECRBHF28HM5', iid='B000067S60', r_ui=5.0, est=4.04954041832258, details={'was_impossible': True, 'reason': 'User and/or item is unknown.'}),\n",
       " Prediction(uid='AOGFMHZB1FKAH', iid='B0000AMK36', r_ui=5.0, est=4.04954041832258, details={'was_impossible': True, 'reason': 'User and/or item is unknown.'}),\n",
       " Prediction(uid='AU2G79CRP8MIY', iid='B00066EK36', r_ui=3.0, est=4.0, details={'actual_k': 0, 'was_impossible': False}),\n",
       " Prediction(uid='A16XGDPC3UPEAT', iid='B00005AXHW', r_ui=5.0, est=4.04954041832258, details={'was_impossible': True, 'reason': 'User and/or item is unknown.'}),\n",
       " Prediction(uid='AHU9G1UBBNLPY', iid='B00007KDVI', r_ui=1.0, est=4.04954041832258, details={'was_impossible': True, 'reason': 'User and/or item is unknown.'}),\n",
       " Prediction(uid='A3LXJ58XVSDYJH', iid='B00030CHRQ', r_ui=1.0, est=3.6117021276595747, details={'actual_k': 0, 'was_impossible': False}),\n",
       " Prediction(uid='A2AREWBT8UHQ3J', iid='B0007QN18U', r_ui=4.0, est=4.04954041832258, details={'was_impossible': True, 'reason': 'User and/or item is unknown.'}),\n",
       " Prediction(uid='A3W3HNZG7BK9O9', iid='B0002IWC9C', r_ui=5.0, est=4.366666666666666, details={'actual_k': 0, 'was_impossible': False}),\n",
       " Prediction(uid='A3FFJDQ0XPYSNM', iid='B00005T408', r_ui=4.0, est=3.903225806451613, details={'actual_k': 0, 'was_impossible': False}),\n",
       " Prediction(uid='A1UKA0DDTY8TNO', iid='B00005N5WU', r_ui=5.0, est=4.04954041832258, details={'was_impossible': True, 'reason': 'User and/or item is unknown.'}),\n",
       " Prediction(uid='A1YVD8E6BFV8KA', iid='B00008W2LC', r_ui=5.0, est=4.04954041832258, details={'was_impossible': True, 'reason': 'User and/or item is unknown.'}),\n",
       " Prediction(uid='AN7PO1P0WTE4L', iid='B0002ZW5W4', r_ui=3.0, est=4.04954041832258, details={'was_impossible': True, 'reason': 'User and/or item is unknown.'}),\n",
       " Prediction(uid='A517T5HPKSSXV', iid='B00001WRSJ', r_ui=5.0, est=4.626838235294118, details={'actual_k': 0, 'was_impossible': False}),\n",
       " Prediction(uid='A2JQP0IFWQ7BS5', iid='B0002L5R78', r_ui=4.0, est=4.04954041832258, details={'was_impossible': True, 'reason': 'User and/or item is unknown.'}),\n",
       " Prediction(uid='A3EZKTK7TVJMDR', iid='B00006B7DB', r_ui=1.0, est=4.04954041832258, details={'was_impossible': True, 'reason': 'User and/or item is unknown.'}),\n",
       " Prediction(uid='AXGFZHWQDTN9M', iid='B0002JTD2K', r_ui=5.0, est=4.04954041832258, details={'was_impossible': True, 'reason': 'User and/or item is unknown.'}),\n",
       " Prediction(uid='AQMUXDDCLJSSV', iid='1400532655', r_ui=5.0, est=3.7331378299120233, details={'actual_k': 0, 'was_impossible': False}),\n",
       " Prediction(uid='A348OU6KZ74EES', iid='B0006I1TRY', r_ui=5.0, est=4.04954041832258, details={'was_impossible': True, 'reason': 'User and/or item is unknown.'}),\n",
       " Prediction(uid='A1TAW5WJZKCX4', iid='B000F2PHDI', r_ui=5.0, est=4.04954041832258, details={'was_impossible': True, 'reason': 'User and/or item is unknown.'}),\n",
       " Prediction(uid='ALYU3086YPXFZ', iid='B000I68BD4', r_ui=4.0, est=4.04954041832258, details={'was_impossible': True, 'reason': 'User and/or item is unknown.'}),\n",
       " Prediction(uid='A119XYV75R3RY', iid='B0006TIA02', r_ui=1.0, est=4.04954041832258, details={'was_impossible': True, 'reason': 'User and/or item is unknown.'}),\n",
       " Prediction(uid='A2NNYVGL58SYET', iid='B000B60H0G', r_ui=4.0, est=4.04954041832258, details={'was_impossible': True, 'reason': 'User and/or item is unknown.'}),\n",
       " Prediction(uid='ANAOXAHQ53KOO', iid='B0007WK8LC', r_ui=5.0, est=4.04954041832258, details={'was_impossible': True, 'reason': 'User and/or item is unknown.'}),\n",
       " Prediction(uid='A3F3B6HY9RJI04', iid='B0000AQIFZ', r_ui=5.0, est=4.380581360503446, details={'actual_k': 1, 'was_impossible': False}),\n",
       " Prediction(uid='AOSMMGUEPGEMT', iid='B00006IS4X', r_ui=4.0, est=4.04954041832258, details={'was_impossible': True, 'reason': 'User and/or item is unknown.'}),\n",
       " Prediction(uid='A1IM02GJS0WZU', iid='B00001P4ZH', r_ui=5.0, est=4.04954041832258, details={'was_impossible': True, 'reason': 'User and/or item is unknown.'}),\n",
       " Prediction(uid='A14VMDJ949FZIV', iid='B0000AAAPF', r_ui=5.0, est=4.04954041832258, details={'was_impossible': True, 'reason': 'User and/or item is unknown.'}),\n",
       " Prediction(uid='A3B45PC8PGZWZ7', iid='B000BI1XNE', r_ui=1.0, est=4.04954041832258, details={'was_impossible': True, 'reason': 'User and/or item is unknown.'}),\n",
       " Prediction(uid='A14F62LN87V1XI', iid='B0002ZAIMI', r_ui=1.0, est=4.04954041832258, details={'was_impossible': True, 'reason': 'User and/or item is unknown.'}),\n",
       " Prediction(uid='A2ZL2WDFMDCJB7', iid='B000031KIM', r_ui=3.0, est=4.04954041832258, details={'was_impossible': True, 'reason': 'User and/or item is unknown.'}),\n",
       " Prediction(uid='A3FVYEFMOO65FR', iid='B000067RMT', r_ui=4.0, est=4.7272727272727275, details={'actual_k': 0, 'was_impossible': False}),\n",
       " Prediction(uid='A1XGRKI66RJ83Q', iid='B00008Y0VN', r_ui=5.0, est=4.04954041832258, details={'was_impossible': True, 'reason': 'User and/or item is unknown.'}),\n",
       " Prediction(uid='A370CVP8V5FI5Z', iid='B0007QKXYU', r_ui=5.0, est=4.04954041832258, details={'was_impossible': True, 'reason': 'User and/or item is unknown.'}),\n",
       " Prediction(uid='A3D9928X2S4K7L', iid='B00009UT9B', r_ui=5.0, est=4.04954041832258, details={'was_impossible': True, 'reason': 'User and/or item is unknown.'}),\n",
       " Prediction(uid='AWRC5A0LXDESJ', iid='B0001H4BMU', r_ui=5.0, est=4.04954041832258, details={'was_impossible': True, 'reason': 'User and/or item is unknown.'}),\n",
       " Prediction(uid='A2NVGSRJONUXKY', iid='B00005T406', r_ui=5.0, est=4.04954041832258, details={'was_impossible': True, 'reason': 'User and/or item is unknown.'}),\n",
       " Prediction(uid='ANBEK0RAOQ5TQ', iid='B000CMS5B2', r_ui=5.0, est=4.04954041832258, details={'was_impossible': True, 'reason': 'User and/or item is unknown.'}),\n",
       " Prediction(uid='A1TR098E913U36', iid='B00081NX5U', r_ui=2.0, est=4.04954041832258, details={'was_impossible': True, 'reason': 'User and/or item is unknown.'}),\n",
       " Prediction(uid='A5W54UHSVFWBN', iid='B0000A1G05', r_ui=5.0, est=4.04954041832258, details={'was_impossible': True, 'reason': 'User and/or item is unknown.'}),\n",
       " Prediction(uid='A290DEB6RJN2FZ', iid='B0000AQIFW', r_ui=1.0, est=4.04954041832258, details={'was_impossible': True, 'reason': 'User and/or item is unknown.'}),\n",
       " Prediction(uid='A2KNQ1TZ5D9AKZ', iid='B00011G5FW', r_ui=1.0, est=4.04954041832258, details={'was_impossible': True, 'reason': 'User and/or item is unknown.'}),\n",
       " Prediction(uid='A1VSNG3UQ39TMA', iid='B0000EI9VR', r_ui=3.0, est=4.04954041832258, details={'was_impossible': True, 'reason': 'User and/or item is unknown.'}),\n",
       " Prediction(uid='A12HNXBRQIYEL2', iid='B0002L5R78', r_ui=5.0, est=4.451191741308638, details={'actual_k': 0, 'was_impossible': False}),\n",
       " Prediction(uid='A16G7SPLWN2WUE', iid='B000EPJLGK', r_ui=5.0, est=4.04954041832258, details={'was_impossible': True, 'reason': 'User and/or item is unknown.'}),\n",
       " Prediction(uid='A3RYQJ6SO8WUUC', iid='B000FBK3QK', r_ui=3.0, est=4.04954041832258, details={'was_impossible': True, 'reason': 'User and/or item is unknown.'}),\n",
       " Prediction(uid='A15D24WP8UF6ET', iid='B000I1ZWRC', r_ui=5.0, est=5, details={'actual_k': 1, 'was_impossible': False}),\n",
       " Prediction(uid='A1Y0SDCHRS7W43', iid='B000026D8E', r_ui=4.0, est=4.04954041832258, details={'was_impossible': True, 'reason': 'User and/or item is unknown.'}),\n",
       " Prediction(uid='A1SLK8FRYWEISP', iid='B00004XOM3', r_ui=5.0, est=4.7560975609756095, details={'actual_k': 0, 'was_impossible': False}),\n",
       " Prediction(uid='A20FCO9S37NKDI', iid='B000FFYQ1E', r_ui=5.0, est=4.04954041832258, details={'was_impossible': True, 'reason': 'User and/or item is unknown.'}),\n",
       " Prediction(uid='A1AEGHMIDYPNR3', iid='B0000DZFVT', r_ui=5.0, est=4.04954041832258, details={'was_impossible': True, 'reason': 'User and/or item is unknown.'}),\n",
       " Prediction(uid='A33ULHXZ33CW6C', iid='B0007LCLPE', r_ui=3.0, est=3.6222222222222222, details={'actual_k': 0, 'was_impossible': False}),\n",
       " Prediction(uid='A2VDFYG0EB4OU6', iid='B000A6NV0U', r_ui=5.0, est=4.04954041832258, details={'was_impossible': True, 'reason': 'User and/or item is unknown.'}),\n",
       " Prediction(uid='AM0JRXKFKD8FD', iid='B00009R6WL', r_ui=4.0, est=4.25531914893617, details={'actual_k': 0, 'was_impossible': False}),\n",
       " Prediction(uid='A274UDJ95J2RXT', iid='B0000A0AJH', r_ui=1.0, est=4.04954041832258, details={'was_impossible': True, 'reason': 'User and/or item is unknown.'}),\n",
       " Prediction(uid='A3HR0ZZOFKQ97N', iid='B00006RVPW', r_ui=5.0, est=4.471464019851116, details={'actual_k': 0, 'was_impossible': False}),\n",
       " Prediction(uid='A1LQ3I6HX6RMAE', iid='B000BWSQ2G', r_ui=5.0, est=4.04954041832258, details={'was_impossible': True, 'reason': 'User and/or item is unknown.'}),\n",
       " Prediction(uid='A3J8V5GJ1IRGC3', iid='9983891212', r_ui=5.0, est=4.472, details={'actual_k': 0, 'was_impossible': False}),\n",
       " Prediction(uid='A371W4JRP9XTDR', iid='B00007M1TZ', r_ui=1.0, est=4.04954041832258, details={'was_impossible': True, 'reason': 'User and/or item is unknown.'}),\n",
       " Prediction(uid='A17T9IPCNWV9SJ', iid='B0007OV45Y', r_ui=4.0, est=4.04954041832258, details={'was_impossible': True, 'reason': 'User and/or item is unknown.'}),\n",
       " Prediction(uid='A25771C7LREOSM', iid='B000EOPQ7E', r_ui=3.0, est=4.04954041832258, details={'was_impossible': True, 'reason': 'User and/or item is unknown.'}),\n",
       " Prediction(uid='A3IK9KPNKQ518X', iid='B0001FTVEA', r_ui=1.0, est=4.320867082220774, details={'actual_k': 1, 'was_impossible': False}),\n",
       " Prediction(uid='A26820HR86WU03', iid='B000095SB6', r_ui=2.0, est=4.04954041832258, details={'was_impossible': True, 'reason': 'User and/or item is unknown.'}),\n",
       " Prediction(uid='A16HVNT4KERIYD', iid='B000F8XGJO', r_ui=5.0, est=4.04954041832258, details={'was_impossible': True, 'reason': 'User and/or item is unknown.'}),\n",
       " Prediction(uid='A2I6562SSXAD6', iid='B000EIXX4S', r_ui=5.0, est=4.52013422818792, details={'actual_k': 0, 'was_impossible': False}),\n",
       " Prediction(uid='A3NAN1IRJXKYAC', iid='B000EF3D4Q', r_ui=1.0, est=4.04954041832258, details={'was_impossible': True, 'reason': 'User and/or item is unknown.'}),\n",
       " Prediction(uid='A2ADNKDSC8NOX6', iid='B000234TYI', r_ui=5.0, est=4.04954041832258, details={'was_impossible': True, 'reason': 'User and/or item is unknown.'}),\n",
       " Prediction(uid='A1H6TKL2I6WPAQ', iid='B0002OKCX4', r_ui=5.0, est=4.04954041832258, details={'was_impossible': True, 'reason': 'User and/or item is unknown.'}),\n",
       " Prediction(uid='A1IR703CNRHL8W', iid='B000BQ7GW8', r_ui=5.0, est=4.04954041832258, details={'was_impossible': True, 'reason': 'User and/or item is unknown.'}),\n",
       " Prediction(uid='A2KWQPJ6O4HY55', iid='B00093IIRA', r_ui=5.0, est=4.04954041832258, details={'was_impossible': True, 'reason': 'User and/or item is unknown.'}),\n",
       " Prediction(uid='A2IMK7QNZBRVR9', iid='B000G36GOU', r_ui=3.0, est=4.04954041832258, details={'was_impossible': True, 'reason': 'User and/or item is unknown.'}),\n",
       " Prediction(uid='A2J8IE3Q5LLB96', iid='B00000J1TX', r_ui=5.0, est=4.04954041832258, details={'was_impossible': True, 'reason': 'User and/or item is unknown.'}),\n",
       " Prediction(uid='A3BS2SSRCWN06G', iid='B0001YXWVO', r_ui=1.0, est=4.04954041832258, details={'was_impossible': True, 'reason': 'User and/or item is unknown.'}),\n",
       " Prediction(uid='A2QUKI8AR0C09X', iid='B0009YDP7W', r_ui=5.0, est=4.649425287356322, details={'actual_k': 0, 'was_impossible': False}),\n",
       " Prediction(uid='A3R02CWMS29HFJ', iid='B000CSQJ8C', r_ui=4.0, est=4.04954041832258, details={'was_impossible': True, 'reason': 'User and/or item is unknown.'}),\n",
       " Prediction(uid='A1X44WNNDDWGMA', iid='B00006HYPV', r_ui=2.0, est=4.04954041832258, details={'was_impossible': True, 'reason': 'User and/or item is unknown.'}),\n",
       " Prediction(uid='AH6B96CTIYNCU', iid='B00008N9M7', r_ui=1.0, est=2.4545454545454546, details={'actual_k': 0, 'was_impossible': False}),\n",
       " Prediction(uid='A27H7T6KQAKYQ1', iid='B000GFWFY8', r_ui=5.0, est=4.04954041832258, details={'was_impossible': True, 'reason': 'User and/or item is unknown.'}),\n",
       " Prediction(uid='A2IU3YENQRQB1K', iid='B000GYI76Y', r_ui=4.0, est=4.04954041832258, details={'was_impossible': True, 'reason': 'User and/or item is unknown.'}),\n",
       " Prediction(uid='A33TVTA1FP9BUF', iid='B00005T3G0', r_ui=5.0, est=4.04954041832258, details={'was_impossible': True, 'reason': 'User and/or item is unknown.'}),\n",
       " Prediction(uid='AFKVPWCPT3AQD', iid='B000I23TTE', r_ui=5.0, est=4.04954041832258, details={'was_impossible': True, 'reason': 'User and/or item is unknown.'}),\n",
       " Prediction(uid='ADKW1W8MEF9EN', iid='B0007XB6TY', r_ui=1.0, est=4.04954041832258, details={'was_impossible': True, 'reason': 'User and/or item is unknown.'}),\n",
       " Prediction(uid='A1QMSP3KZZBXMM', iid='B00009MDBQ', r_ui=5.0, est=4.566265060240964, details={'actual_k': 0, 'was_impossible': False}),\n",
       " Prediction(uid='A1BHKE68GRNYJP', iid='B00009RUCH', r_ui=4.0, est=4.04954041832258, details={'was_impossible': True, 'reason': 'User and/or item is unknown.'}),\n",
       " Prediction(uid='A2LM588CNBMS91', iid='B00001ZWXA', r_ui=4.0, est=4.260683760683761, details={'actual_k': 0, 'was_impossible': False}),\n",
       " Prediction(uid='A1ZV7VF8PRYM2E', iid='B0000C0XS0', r_ui=1.0, est=2.99468085106383, details={'actual_k': 0, 'was_impossible': False}),\n",
       " Prediction(uid='APQVH4SGVJIKM', iid='B00006HOE3', r_ui=4.0, est=4.361702127659575, details={'actual_k': 0, 'was_impossible': False}),\n",
       " Prediction(uid='APOXJ8I6412IR', iid='B00017LSPI', r_ui=2.0, est=4.603674540682415, details={'actual_k': 0, 'was_impossible': False}),\n",
       " Prediction(uid='A1OBCHZ4KQD72F', iid='B0007WK8KS', r_ui=5.0, est=4.04954041832258, details={'was_impossible': True, 'reason': 'User and/or item is unknown.'}),\n",
       " Prediction(uid='A1CHF9VHRDTTO5', iid='B0007UQNKY', r_ui=5.0, est=3.9746835443037973, details={'actual_k': 0, 'was_impossible': False}),\n",
       " Prediction(uid='A3DDATPHR64XHV', iid='B000FNDWLQ', r_ui=5.0, est=3.5254237288135593, details={'actual_k': 0, 'was_impossible': False}),\n",
       " Prediction(uid='A1VRFF115PFXVQ', iid='B000BMBT5M', r_ui=1.0, est=4.04954041832258, details={'was_impossible': True, 'reason': 'User and/or item is unknown.'}),\n",
       " Prediction(uid='ADUT3M0FDX7Y3', iid='B00009R6TA', r_ui=5.0, est=4.481804949053857, details={'actual_k': 0, 'was_impossible': False}),\n",
       " Prediction(uid='AWC5V8UYQSOOL', iid='B0000645RH', r_ui=5.0, est=4.04954041832258, details={'was_impossible': True, 'reason': 'User and/or item is unknown.'}),\n",
       " Prediction(uid='A2TMNDNWCMXFNB', iid='B000EXU4YK', r_ui=5.0, est=4.04954041832258, details={'was_impossible': True, 'reason': 'User and/or item is unknown.'}),\n",
       " Prediction(uid='AKTC9JYICGDSM', iid='B00006IRR4', r_ui=5.0, est=4.04954041832258, details={'was_impossible': True, 'reason': 'User and/or item is unknown.'}),\n",
       " Prediction(uid='ABQUVDWSCV15B', iid='B000AA2RCY', r_ui=5.0, est=4.04954041832258, details={'was_impossible': True, 'reason': 'User and/or item is unknown.'}),\n",
       " Prediction(uid='A31O59AL48F85H', iid='B00006L4F1', r_ui=5.0, est=4.04954041832258, details={'was_impossible': True, 'reason': 'User and/or item is unknown.'}),\n",
       " Prediction(uid='A3G1SEFTQ16548', iid='B00004Z0C7', r_ui=5.0, est=4.04954041832258, details={'was_impossible': True, 'reason': 'User and/or item is unknown.'}),\n",
       " Prediction(uid='A173C2YC2IZ27O', iid='B00013MSUQ', r_ui=4.0, est=4.487804878048781, details={'actual_k': 0, 'was_impossible': False}),\n",
       " Prediction(uid='AY37CT2L11AE8', iid='B000652M6Y', r_ui=5.0, est=4.095617529880478, details={'actual_k': 0, 'was_impossible': False}),\n",
       " Prediction(uid='AG50KPLBY7531', iid='B00005T3N3', r_ui=5.0, est=4.04954041832258, details={'was_impossible': True, 'reason': 'User and/or item is unknown.'}),\n",
       " Prediction(uid='A1MIV7NKLU16Z1', iid='B0002ZW5W4', r_ui=1.0, est=4.04954041832258, details={'was_impossible': True, 'reason': 'User and/or item is unknown.'}),\n",
       " Prediction(uid='A23IUQF3T4FVHI', iid='B000ANRP82', r_ui=5.0, est=4.04954041832258, details={'was_impossible': True, 'reason': 'User and/or item is unknown.'}),\n",
       " Prediction(uid='AKTQ6QFBIZDH7', iid='B000ERAOMS', r_ui=3.0, est=4.04954041832258, details={'was_impossible': True, 'reason': 'User and/or item is unknown.'}),\n",
       " Prediction(uid='A1GMPFJ5FXE47Z', iid='B0002CPBWI', r_ui=5.0, est=4.04954041832258, details={'was_impossible': True, 'reason': 'User and/or item is unknown.'}),\n",
       " Prediction(uid='A3AB6CE1LG2639', iid='B000GU88CQ', r_ui=5.0, est=4.04954041832258, details={'was_impossible': True, 'reason': 'User and/or item is unknown.'}),\n",
       " Prediction(uid='A22R0GHP6J816B', iid='B0002BEX8W', r_ui=5.0, est=4.24284279256655, details={'actual_k': 1, 'was_impossible': False}),\n",
       " Prediction(uid='A1PXT6R5Z8QUQN', iid='B00006JINY', r_ui=5.0, est=4.04954041832258, details={'was_impossible': True, 'reason': 'User and/or item is unknown.'}),\n",
       " Prediction(uid='A8LRYYT5MC1P0', iid='B0001FTVEK', r_ui=5.0, est=4.04954041832258, details={'was_impossible': True, 'reason': 'User and/or item is unknown.'}),\n",
       " Prediction(uid='A4XG2PIJMW2C4', iid='B000AY5ZIS', r_ui=2.0, est=4.04954041832258, details={'was_impossible': True, 'reason': 'User and/or item is unknown.'}),\n",
       " Prediction(uid='A3AL0RAU83N52O', iid='B00002NDRQ', r_ui=4.0, est=4.04954041832258, details={'was_impossible': True, 'reason': 'User and/or item is unknown.'}),\n",
       " Prediction(uid='A1AR98F32BOAGP', iid='B00006AG6C', r_ui=4.0, est=4.04954041832258, details={'was_impossible': True, 'reason': 'User and/or item is unknown.'}),\n",
       " Prediction(uid='ANBMXR5OOJ9I8', iid='B000BP8AY2', r_ui=4.0, est=4.04954041832258, details={'was_impossible': True, 'reason': 'User and/or item is unknown.'}),\n",
       " Prediction(uid='AAHBBZNCU8YFB', iid='B0000BZOGJ', r_ui=5.0, est=4.04954041832258, details={'was_impossible': True, 'reason': 'User and/or item is unknown.'}),\n",
       " Prediction(uid='AZSN1AMBHQ6UL', iid='B000233YDK', r_ui=5.0, est=4.04954041832258, details={'was_impossible': True, 'reason': 'User and/or item is unknown.'}),\n",
       " Prediction(uid='A2DUCYW9R92FEQ', iid='B000E39V9O', r_ui=5.0, est=4.04954041832258, details={'was_impossible': True, 'reason': 'User and/or item is unknown.'}),\n",
       " Prediction(uid='A3JJ222HEKM10R', iid='B00004ZCJE', r_ui=5.0, est=4.121675155631013, details={'actual_k': 0, 'was_impossible': False}),\n",
       " Prediction(uid='A1GSUJZSQ5ZEJM', iid='B000EEZ2R8', r_ui=5.0, est=4.04954041832258, details={'was_impossible': True, 'reason': 'User and/or item is unknown.'}),\n",
       " Prediction(uid='A22P83D8JRKI16', iid='B00001QEMF', r_ui=5.0, est=4.04954041832258, details={'was_impossible': True, 'reason': 'User and/or item is unknown.'}),\n",
       " Prediction(uid='A2LWQLV37ZEP7P', iid='B00081A2KY', r_ui=1.0, est=4.287837837837838, details={'actual_k': 0, 'was_impossible': False}),\n",
       " Prediction(uid='A2I50N9YG5C9S5', iid='B000FI2EAG', r_ui=5.0, est=1, details={'actual_k': 1, 'was_impossible': False}),\n",
       " Prediction(uid='A34M3ZF3BACKF5', iid='B00007M1TZ', r_ui=5.0, est=4.04954041832258, details={'was_impossible': True, 'reason': 'User and/or item is unknown.'}),\n",
       " Prediction(uid='A3JUHP1E3WUHEA', iid='B0001G6U3Y', r_ui=5.0, est=4.604166666666667, details={'actual_k': 0, 'was_impossible': False}),\n",
       " Prediction(uid='A2PIU1AAEJQEDP', iid='B0007GGZ06', r_ui=4.0, est=4.04954041832258, details={'was_impossible': True, 'reason': 'User and/or item is unknown.'}),\n",
       " Prediction(uid='A3DVY2JYI52GNJ', iid='B000067O5G', r_ui=4.0, est=4.04954041832258, details={'was_impossible': True, 'reason': 'User and/or item is unknown.'}),\n",
       " Prediction(uid='A2D3QKOQUXTQN2', iid='B000GU88CQ', r_ui=5.0, est=4.04954041832258, details={'was_impossible': True, 'reason': 'User and/or item is unknown.'}),\n",
       " Prediction(uid='A2ZZJALS07SYBQ', iid='B00006HCIX', r_ui=5.0, est=4.04954041832258, details={'was_impossible': True, 'reason': 'User and/or item is unknown.'}),\n",
       " Prediction(uid='A164VD351GSQKS', iid='B0009JR42E', r_ui=5.0, est=4.04954041832258, details={'was_impossible': True, 'reason': 'User and/or item is unknown.'}),\n",
       " Prediction(uid='A19JMM4UZ4KDUA', iid='B0007V5X4U', r_ui=2.0, est=4.04954041832258, details={'was_impossible': True, 'reason': 'User and/or item is unknown.'}),\n",
       " Prediction(uid='ATJRI0DQPAYXL', iid='B000BI7NHY', r_ui=4.0, est=4.04954041832258, details={'was_impossible': True, 'reason': 'User and/or item is unknown.'}),\n",
       " Prediction(uid='A2DWZVM50VMBYM', iid='B000DZS20M', r_ui=4.0, est=4.04954041832258, details={'was_impossible': True, 'reason': 'User and/or item is unknown.'}),\n",
       " Prediction(uid='A2CWSSDI0OAG2S', iid='B0000C8WLU', r_ui=4.0, est=4.04954041832258, details={'was_impossible': True, 'reason': 'User and/or item is unknown.'}),\n",
       " Prediction(uid='A3GZ83R393R7RH', iid='B000FKKO74', r_ui=5.0, est=4.04954041832258, details={'was_impossible': True, 'reason': 'User and/or item is unknown.'}),\n",
       " Prediction(uid='A3MG41TQBWVCT', iid='B000EUCMV6', r_ui=1.0, est=2.6818181818181817, details={'actual_k': 0, 'was_impossible': False}),\n",
       " Prediction(uid='AVAR6T26U8XPU', iid='B000058EGT', r_ui=1.0, est=4.04954041832258, details={'was_impossible': True, 'reason': 'User and/or item is unknown.'}),\n",
       " Prediction(uid='A2X06FP2PQ6EK0', iid='B000BJQ3IS', r_ui=1.0, est=2.902439024390244, details={'actual_k': 0, 'was_impossible': False}),\n",
       " Prediction(uid='A6EJ2OO2E9XRV', iid='B0001ILXGQ', r_ui=5.0, est=4.04954041832258, details={'was_impossible': True, 'reason': 'User and/or item is unknown.'}),\n",
       " Prediction(uid='A17NWJHM1BF9WY', iid='B000HAOVGM', r_ui=4.0, est=4.04954041832258, details={'was_impossible': True, 'reason': 'User and/or item is unknown.'}),\n",
       " Prediction(uid='AX6KIVMVQWWM0', iid='B000092YQK', r_ui=3.0, est=3.6136363636363638, details={'actual_k': 0, 'was_impossible': False}),\n",
       " Prediction(uid='AW1UZXCK1KLG1', iid='B000GLQZJI', r_ui=4.0, est=4.04954041832258, details={'was_impossible': True, 'reason': 'User and/or item is unknown.'}),\n",
       " Prediction(uid='A3KHRW6ZC2EQIL', iid='B000AKX15G', r_ui=3.0, est=3.7474747474747474, details={'actual_k': 0, 'was_impossible': False}),\n",
       " Prediction(uid='A2PGB0ERG1HOBC', iid='B000065BP9', r_ui=5.0, est=4.04954041832258, details={'was_impossible': True, 'reason': 'User and/or item is unknown.'}),\n",
       " Prediction(uid='A1EEU4LS61USRA', iid='B000CD8BCY', r_ui=3.0, est=4.04954041832258, details={'was_impossible': True, 'reason': 'User and/or item is unknown.'}),\n",
       " Prediction(uid='AYQZSA19G9GGW', iid='B00005BC0K', r_ui=4.0, est=4.04954041832258, details={'was_impossible': True, 'reason': 'User and/or item is unknown.'}),\n",
       " Prediction(uid='A19KZDWXIRKUTZ', iid='B00009YFTI', r_ui=5.0, est=4.04954041832258, details={'was_impossible': True, 'reason': 'User and/or item is unknown.'}),\n",
       " Prediction(uid='A1CV2LALPOJC2T', iid='B0001FTVEK', r_ui=5.0, est=4.04954041832258, details={'was_impossible': True, 'reason': 'User and/or item is unknown.'}),\n",
       " Prediction(uid='A3JO58W9PLYAYR', iid='B0002CPBUK', r_ui=1.0, est=4.04954041832258, details={'was_impossible': True, 'reason': 'User and/or item is unknown.'}),\n",
       " Prediction(uid='A2PD0KET2Q4R60', iid='B00004ZCB4', r_ui=4.0, est=4.04954041832258, details={'was_impossible': True, 'reason': 'User and/or item is unknown.'}),\n",
       " Prediction(uid='A39S1SB8HO6UV7', iid='B0009WDM2W', r_ui=3.0, est=4.04954041832258, details={'was_impossible': True, 'reason': 'User and/or item is unknown.'}),\n",
       " Prediction(uid='A2DDKCHI03OBE', iid='B00003CWDH', r_ui=5.0, est=4.04954041832258, details={'was_impossible': True, 'reason': 'User and/or item is unknown.'}),\n",
       " Prediction(uid='A1UEHP4D4FL0BD', iid='B000EYRLXQ', r_ui=4.0, est=4.04954041832258, details={'was_impossible': True, 'reason': 'User and/or item is unknown.'}),\n",
       " Prediction(uid='A8ATKFRXZVIJL', iid='B000BSJJ1M', r_ui=5.0, est=4.04954041832258, details={'was_impossible': True, 'reason': 'User and/or item is unknown.'}),\n",
       " Prediction(uid='A2UIH7H2653DFS', iid='B0000BZLBA', r_ui=5.0, est=4.450704225352113, details={'actual_k': 0, 'was_impossible': False}),\n",
       " Prediction(uid='A210UZTIFQ6FLD', iid='B000237C9M', r_ui=5.0, est=4.408163265306122, details={'actual_k': 0, 'was_impossible': False}),\n",
       " Prediction(uid='A20OXC3U8G94UQ', iid='B000I23TTE', r_ui=5.0, est=4.04954041832258, details={'was_impossible': True, 'reason': 'User and/or item is unknown.'}),\n",
       " Prediction(uid='A2V35UJNOR2YG7', iid='B000AKX10G', r_ui=4.0, est=4.04954041832258, details={'was_impossible': True, 'reason': 'User and/or item is unknown.'}),\n",
       " Prediction(uid='A3ES7X45A7EQFN', iid='B00022OBO2', r_ui=5.0, est=4.04954041832258, details={'was_impossible': True, 'reason': 'User and/or item is unknown.'}),\n",
       " Prediction(uid='A2IWX5IAB8A00V', iid='B000A6PPOK', r_ui=1.0, est=3.9614421632448673, details={'actual_k': 0, 'was_impossible': False}),\n",
       " Prediction(uid='A365YOHPX4P4VT', iid='B00006JN3G', r_ui=5.0, est=4.04954041832258, details={'was_impossible': True, 'reason': 'User and/or item is unknown.'}),\n",
       " Prediction(uid='A3841A7NAC6GMB', iid='B000FGNM6I', r_ui=3.0, est=4.04954041832258, details={'was_impossible': True, 'reason': 'User and/or item is unknown.'}),\n",
       " Prediction(uid='AVA5ECZK752LV', iid='B000FKP7TY', r_ui=1.0, est=4.04954041832258, details={'was_impossible': True, 'reason': 'User and/or item is unknown.'}),\n",
       " Prediction(uid='ABLVOAJQ4EC40', iid='B0000AKVHF', r_ui=5.0, est=4.0, details={'actual_k': 0, 'was_impossible': False}),\n",
       " Prediction(uid='AQ9QK9ZL3NIXG', iid='B000E8OVMQ', r_ui=5.0, est=4.04954041832258, details={'was_impossible': True, 'reason': 'User and/or item is unknown.'}),\n",
       " Prediction(uid='A3EURO7DPQCLDJ', iid='B00009RA60', r_ui=5.0, est=4.391304347826087, details={'actual_k': 0, 'was_impossible': False}),\n",
       " Prediction(uid='A1P6Y9E9ZI7GN4', iid='B00001WRSJ', r_ui=5.0, est=4.04954041832258, details={'was_impossible': True, 'reason': 'User and/or item is unknown.'}),\n",
       " Prediction(uid='A3B68D4W64JCQ6', iid='B000F9NXXC', r_ui=5.0, est=4.04954041832258, details={'was_impossible': True, 'reason': 'User and/or item is unknown.'}),\n",
       " Prediction(uid='A1SDKQER8V6DG6', iid='B000EOPQ7E', r_ui=5.0, est=4.3975, details={'actual_k': 0, 'was_impossible': False}),\n",
       " Prediction(uid='ACVDMICRSDU22', iid='B00005853Z', r_ui=1.0, est=4.04954041832258, details={'was_impossible': True, 'reason': 'User and/or item is unknown.'}),\n",
       " Prediction(uid='A2ULZAQ3RHJK0K', iid='B000CSQJ8C', r_ui=4.0, est=4.04954041832258, details={'was_impossible': True, 'reason': 'User and/or item is unknown.'}),\n",
       " Prediction(uid='A360G3N49SLJAG', iid='1400599997', r_ui=1.0, est=4.04954041832258, details={'was_impossible': True, 'reason': 'User and/or item is unknown.'}),\n",
       " Prediction(uid='A3124L7H65ZD9Y', iid='B000165F26', r_ui=4.0, est=4.04954041832258, details={'was_impossible': True, 'reason': 'User and/or item is unknown.'}),\n",
       " Prediction(uid='A34YDJETZJNT6M', iid='B0000BYDKO', r_ui=2.0, est=4.04954041832258, details={'was_impossible': True, 'reason': 'User and/or item is unknown.'}),\n",
       " Prediction(uid='A11ZILR2SYADB4', iid='B000A0CV9S', r_ui=4.0, est=4.04954041832258, details={'was_impossible': True, 'reason': 'User and/or item is unknown.'}),\n",
       " Prediction(uid='A10B2J2IRQXBWA', iid='B00005BMSN', r_ui=5.0, est=4.04954041832258, details={'was_impossible': True, 'reason': 'User and/or item is unknown.'}),\n",
       " Prediction(uid='A1ST1337RUR4R4', iid='B000EPLP3C', r_ui=5.0, est=4.04954041832258, details={'was_impossible': True, 'reason': 'User and/or item is unknown.'}),\n",
       " Prediction(uid='A1KB3GP4TKIZQV', iid='B0002KX5E6', r_ui=4.0, est=4.04954041832258, details={'was_impossible': True, 'reason': 'User and/or item is unknown.'}),\n",
       " Prediction(uid='A1U18LELECBI58', iid='B000FJUMWC', r_ui=5.0, est=4.04954041832258, details={'was_impossible': True, 'reason': 'User and/or item is unknown.'}),\n",
       " Prediction(uid='A1243KH3XS9M5Y', iid='B000652M6Y', r_ui=4.0, est=4.04954041832258, details={'was_impossible': True, 'reason': 'User and/or item is unknown.'}),\n",
       " Prediction(uid='A1WCJJU7052FKX', iid='B0000DC643', r_ui=5.0, est=4.04954041832258, details={'was_impossible': True, 'reason': 'User and/or item is unknown.'}),\n",
       " Prediction(uid='AAZT82C3UYPNQ', iid='B000BV8604', r_ui=5.0, est=4.04954041832258, details={'was_impossible': True, 'reason': 'User and/or item is unknown.'}),\n",
       " Prediction(uid='A29S5O5V4RRPL8', iid='B00005QCT3', r_ui=5.0, est=4.04954041832258, details={'was_impossible': True, 'reason': 'User and/or item is unknown.'}),\n",
       " Prediction(uid='A3AQ6WHZ94U90M', iid='B0002L5R78', r_ui=5.0, est=4.04954041832258, details={'was_impossible': True, 'reason': 'User and/or item is unknown.'}),\n",
       " Prediction(uid='A2O7A2FYXYI9J4', iid='B000EEZCEG', r_ui=5.0, est=4.04954041832258, details={'was_impossible': True, 'reason': 'User and/or item is unknown.'}),\n",
       " Prediction(uid='A2N0VKEEEEUY58', iid='B00007E7C8', r_ui=5.0, est=4.406015037593985, details={'actual_k': 0, 'was_impossible': False}),\n",
       " Prediction(uid='A2TOH1FM9OYDCB', iid='B0002L5R78', r_ui=5.0, est=4.451191741308638, details={'actual_k': 0, 'was_impossible': False}),\n",
       " Prediction(uid='A2G45SYBF7YESA', iid='B000ES8B4K', r_ui=3.0, est=4.04954041832258, details={'was_impossible': True, 'reason': 'User and/or item is unknown.'}),\n",
       " Prediction(uid='A2IR7RQ9LTLW7O', iid='B000E95T58', r_ui=4.0, est=4.04954041832258, details={'was_impossible': True, 'reason': 'User and/or item is unknown.'}),\n",
       " Prediction(uid='AESM0L2SRTQQ7', iid='B0002CPBWI', r_ui=5.0, est=4.04954041832258, details={'was_impossible': True, 'reason': 'User and/or item is unknown.'}),\n",
       " Prediction(uid='AFV0UZAXA95TL', iid='B00005Q4ZV', r_ui=5.0, est=3.2616822429906542, details={'actual_k': 0, 'was_impossible': False}),\n",
       " Prediction(uid='AQ9QLIVFYPLAN', iid='B0002JFNQU', r_ui=5.0, est=4.04954041832258, details={'was_impossible': True, 'reason': 'User and/or item is unknown.'}),\n",
       " Prediction(uid='A1EH6KZJAF304R', iid='B000I68BD4', r_ui=5.0, est=4.04954041832258, details={'was_impossible': True, 'reason': 'User and/or item is unknown.'}),\n",
       " Prediction(uid='A3JC7E9WRYGEA0', iid='B00007KDVI', r_ui=3.0, est=3.6370023419203745, details={'actual_k': 0, 'was_impossible': False}),\n",
       " Prediction(uid='A3GJIDY2RHKH3Z', iid='B000E7RACK', r_ui=4.0, est=4.04954041832258, details={'was_impossible': True, 'reason': 'User and/or item is unknown.'}),\n",
       " Prediction(uid='A1VOGCCELJHV60', iid='B000EPFCC2', r_ui=1.0, est=3.088235294117647, details={'actual_k': 0, 'was_impossible': False}),\n",
       " Prediction(uid='ADWCPTUJQ0BXK', iid='B000F9YN22', r_ui=5.0, est=4.04954041832258, details={'was_impossible': True, 'reason': 'User and/or item is unknown.'}),\n",
       " Prediction(uid='AMGR5LWGU9O29', iid='B000FBK3QK', r_ui=2.0, est=4.04954041832258, details={'was_impossible': True, 'reason': 'User and/or item is unknown.'}),\n",
       " Prediction(uid='A3RXYE249PPJ29', iid='B000HARTYI', r_ui=1.0, est=4.04954041832258, details={'was_impossible': True, 'reason': 'User and/or item is unknown.'}),\n",
       " Prediction(uid='A1JQ7K37IVD50C', iid='B00007E7JU', r_ui=5.0, est=5, details={'actual_k': 1, 'was_impossible': False}),\n",
       " Prediction(uid='A13VN17BH3F30E', iid='B0000CCOVM', r_ui=4.0, est=4.04954041832258, details={'was_impossible': True, 'reason': 'User and/or item is unknown.'}),\n",
       " Prediction(uid='A1I4GADWPTTKMS', iid='B0002H4YUI', r_ui=5.0, est=4.04954041832258, details={'was_impossible': True, 'reason': 'User and/or item is unknown.'}),\n",
       " Prediction(uid='A51XWMGE06XEA', iid='B0002F8ZGO', r_ui=5.0, est=4.04954041832258, details={'was_impossible': True, 'reason': 'User and/or item is unknown.'}),\n",
       " Prediction(uid='A146524IUDV0WL', iid='B0001ZA4PA', r_ui=5.0, est=4.071428571428571, details={'actual_k': 0, 'was_impossible': False}),\n",
       " Prediction(uid='AXP9XJ5QNQXFJ', iid='B000FGCUSE', r_ui=5.0, est=4.04954041832258, details={'was_impossible': True, 'reason': 'User and/or item is unknown.'}),\n",
       " Prediction(uid='A2Q0YUNBSJ9ZB4', iid='B000BT1CEI', r_ui=4.0, est=4.04954041832258, details={'was_impossible': True, 'reason': 'User and/or item is unknown.'}),\n",
       " Prediction(uid='A31129O8SFO6VC', iid='B0009VKJH4', r_ui=4.0, est=4.04954041832258, details={'was_impossible': True, 'reason': 'User and/or item is unknown.'}),\n",
       " Prediction(uid='A2S8HZQRUKZRP7', iid='B000BV6B6K', r_ui=4.0, est=4.04954041832258, details={'was_impossible': True, 'reason': 'User and/or item is unknown.'}),\n",
       " Prediction(uid='A22AEIL2GO20X4', iid='B000BYCKU8', r_ui=5.0, est=4.929113247863247, details={'actual_k': 1, 'was_impossible': False}),\n",
       " Prediction(uid='A74BXMOJ90Q3I', iid='B00005T3N3', r_ui=5.0, est=4.592705167173253, details={'actual_k': 0, 'was_impossible': False}),\n",
       " Prediction(uid='APNW3P2S2FRBW', iid='B00077INZU', r_ui=5.0, est=4.04954041832258, details={'was_impossible': True, 'reason': 'User and/or item is unknown.'}),\n",
       " Prediction(uid='A210K4ASW6KTC0', iid='B000A6NV0U', r_ui=5.0, est=4.04954041832258, details={'was_impossible': True, 'reason': 'User and/or item is unknown.'}),\n",
       " Prediction(uid='A1LQ8D6VHU7VOZ', iid='B0001D3K8A', r_ui=5.0, est=4.04954041832258, details={'was_impossible': True, 'reason': 'User and/or item is unknown.'}),\n",
       " Prediction(uid='A4PXVT3HVX0MH', iid='B00005NIMJ', r_ui=3.0, est=4.478827361563518, details={'actual_k': 0, 'was_impossible': False}),\n",
       " Prediction(uid='A3FPDRMNIY9ZF7', iid='B000BI2180', r_ui=4.0, est=4.04954041832258, details={'was_impossible': True, 'reason': 'User and/or item is unknown.'}),\n",
       " Prediction(uid='A3RG790HOON05H', iid='B000BV8604', r_ui=5.0, est=4.04954041832258, details={'was_impossible': True, 'reason': 'User and/or item is unknown.'}),\n",
       " Prediction(uid='ABYFS6DBHNO0H', iid='B0001FTVEK', r_ui=5.0, est=4.04954041832258, details={'was_impossible': True, 'reason': 'User and/or item is unknown.'}),\n",
       " Prediction(uid='ANRWI0S0QGSLH', iid='B0007XXHNW', r_ui=5.0, est=4.138801261829653, details={'actual_k': 0, 'was_impossible': False}),\n",
       " Prediction(uid='AYYEJHRZKBDTQ', iid='B00065ANYC', r_ui=1.0, est=4.420814479638009, details={'actual_k': 0, 'was_impossible': False}),\n",
       " Prediction(uid='A3063VVH2TQXU8', iid='B0007XJSQC', r_ui=5.0, est=4.04954041832258, details={'was_impossible': True, 'reason': 'User and/or item is unknown.'}),\n",
       " Prediction(uid='AM2BIAPACFYI9', iid='B0003N01RQ', r_ui=4.0, est=4.09375, details={'actual_k': 0, 'was_impossible': False}),\n",
       " Prediction(uid='A1WR7N6L6OUJO2', iid='B0002L5R78', r_ui=5.0, est=4.451191741308638, details={'actual_k': 0, 'was_impossible': False}),\n",
       " Prediction(uid='A1I1JJ5YAIU0UD', iid='B000B753CC', r_ui=5.0, est=4.04954041832258, details={'was_impossible': True, 'reason': 'User and/or item is unknown.'}),\n",
       " Prediction(uid='A2JA9OXO6ZVXVC', iid='B0007MXZB2', r_ui=3.0, est=3.841237113402062, details={'actual_k': 0, 'was_impossible': False}),\n",
       " Prediction(uid='A10FYQ4PN7RYMK', iid='B000HZDF8W', r_ui=5.0, est=4.04954041832258, details={'was_impossible': True, 'reason': 'User and/or item is unknown.'}),\n",
       " Prediction(uid='A2E7Q2Z12J4EJJ', iid='B0009VKJH4', r_ui=1.0, est=4.04954041832258, details={'was_impossible': True, 'reason': 'User and/or item is unknown.'}),\n",
       " Prediction(uid='AN310Y1MR8KW8', iid='B00009RA60', r_ui=2.0, est=4.04954041832258, details={'was_impossible': True, 'reason': 'User and/or item is unknown.'}),\n",
       " Prediction(uid='A146DCQ4X0MEWX', iid='B0000899ZD', r_ui=5.0, est=4.04954041832258, details={'was_impossible': True, 'reason': 'User and/or item is unknown.'}),\n",
       " Prediction(uid='A1K0Z2R1RMYYMB', iid='B0006I1TRY', r_ui=5.0, est=4.04954041832258, details={'was_impossible': True, 'reason': 'User and/or item is unknown.'}),\n",
       " Prediction(uid='AS85JIEJP37VV', iid='B00006JQ06', r_ui=4.0, est=4.210720887245841, details={'actual_k': 0, 'was_impossible': False}),\n",
       " Prediction(uid='A1MNJ5L8NHMJ2O', iid='B0002KVQBA', r_ui=5.0, est=4.04954041832258, details={'was_impossible': True, 'reason': 'User and/or item is unknown.'}),\n",
       " Prediction(uid='A2NQPLJOXTLDJS', iid='B00005LEN4', r_ui=4.0, est=4.04954041832258, details={'was_impossible': True, 'reason': 'User and/or item is unknown.'}),\n",
       " Prediction(uid='A3PEMJK5RI5YKX', iid='B000I20BBI', r_ui=5.0, est=3.533333333333333, details={'actual_k': 0, 'was_impossible': False}),\n",
       " Prediction(uid='A5JLAU2ARJ0BO', iid='B000069K98', r_ui=5.0, est=3.079413808550555, details={'actual_k': 2, 'was_impossible': False}),\n",
       " Prediction(uid='A1N09KJZOF4OZI', iid='B00061IYJC', r_ui=3.0, est=4.04954041832258, details={'was_impossible': True, 'reason': 'User and/or item is unknown.'}),\n",
       " Prediction(uid='A3MI77KFQFCFJV', iid='B0007PN5N2', r_ui=1.0, est=4.04954041832258, details={'was_impossible': True, 'reason': 'User and/or item is unknown.'}),\n",
       " Prediction(uid='A34VFQ5FK11UB5', iid='B0002AFU4E', r_ui=3.0, est=4.04954041832258, details={'was_impossible': True, 'reason': 'User and/or item is unknown.'}),\n",
       " Prediction(uid='A1Q2X84H7B2B4R', iid='B0002L5R78', r_ui=5.0, est=4.04954041832258, details={'was_impossible': True, 'reason': 'User and/or item is unknown.'}),\n",
       " Prediction(uid='A1MJR6W3XKF9WQ', iid='B000AJIF4E', r_ui=5.0, est=4.04954041832258, details={'was_impossible': True, 'reason': 'User and/or item is unknown.'}),\n",
       " Prediction(uid='A2Y3WWPUKIJ59I', iid='B0002XN3VS', r_ui=2.0, est=3.9045454545454548, details={'actual_k': 0, 'was_impossible': False}),\n",
       " Prediction(uid='A22HQY3U1GVYZV', iid='B00005T3N0', r_ui=5.0, est=4.04954041832258, details={'was_impossible': True, 'reason': 'User and/or item is unknown.'}),\n",
       " Prediction(uid='A3C32B29JF0WXL', iid='B000093US1', r_ui=3.0, est=4.04954041832258, details={'was_impossible': True, 'reason': 'User and/or item is unknown.'}),\n",
       " Prediction(uid='A2BJJDJ3U1H6JT', iid='B000ANCPNM', r_ui=5.0, est=4.04954041832258, details={'was_impossible': True, 'reason': 'User and/or item is unknown.'}),\n",
       " Prediction(uid='A21XODPLTOX3HH', iid='B000BP8AY2', r_ui=5.0, est=4.04954041832258, details={'was_impossible': True, 'reason': 'User and/or item is unknown.'}),\n",
       " Prediction(uid='A14X8ICPQWEW2W', iid='B0007U9SRE', r_ui=5.0, est=4.04954041832258, details={'was_impossible': True, 'reason': 'User and/or item is unknown.'}),\n",
       " Prediction(uid='A3VQ514FE9QDUY', iid='B000F4C2AM', r_ui=5.0, est=4.04954041832258, details={'was_impossible': True, 'reason': 'User and/or item is unknown.'}),\n",
       " Prediction(uid='A238BHR7DI1X8E', iid='B000HDJY7K', r_ui=5.0, est=4.04954041832258, details={'was_impossible': True, 'reason': 'User and/or item is unknown.'}),\n",
       " Prediction(uid='A2XHMISA8I3N2M', iid='B00004TL5Q', r_ui=5.0, est=4.04954041832258, details={'was_impossible': True, 'reason': 'User and/or item is unknown.'}),\n",
       " Prediction(uid='A10SFBVF41AQJ3', iid='B00012F6A6', r_ui=1.0, est=4.04954041832258, details={'was_impossible': True, 'reason': 'User and/or item is unknown.'}),\n",
       " Prediction(uid='A2XRXC2WT0L1Q', iid='B00029U1DK', r_ui=5.0, est=4.188284518828452, details={'actual_k': 0, 'was_impossible': False}),\n",
       " Prediction(uid='A2JEGTXGQ0RI0K', iid='B000A5TAT2', r_ui=4.0, est=4.04954041832258, details={'was_impossible': True, 'reason': 'User and/or item is unknown.'}),\n",
       " Prediction(uid='A2PERUKGELRPF9', iid='B0002L5R78', r_ui=3.0, est=4.04954041832258, details={'was_impossible': True, 'reason': 'User and/or item is unknown.'}),\n",
       " Prediction(uid='AKBDBE7MDO5O6', iid='B00022OBUQ', r_ui=4.0, est=4.04954041832258, details={'was_impossible': True, 'reason': 'User and/or item is unknown.'}),\n",
       " Prediction(uid='A1Z0HAZR4KNSZ7', iid='B0009GZAGO', r_ui=4.0, est=4.04954041832258, details={'was_impossible': True, 'reason': 'User and/or item is unknown.'}),\n",
       " Prediction(uid='A1MFAPVBW9BEGD', iid='B000BY52NK', r_ui=5.0, est=4.727941176470588, details={'actual_k': 0, 'was_impossible': False}),\n",
       " Prediction(uid='A140MREA1O97L', iid='B00066IJPQ', r_ui=4.0, est=4.04954041832258, details={'was_impossible': True, 'reason': 'User and/or item is unknown.'}),\n",
       " Prediction(uid='A1BQSAIGFB0M6E', iid='B0009GZSSO', r_ui=5.0, est=4.04954041832258, details={'was_impossible': True, 'reason': 'User and/or item is unknown.'}),\n",
       " Prediction(uid='A6IXHHPPXGICR', iid='B00004T8R2', r_ui=4.0, est=4.04954041832258, details={'was_impossible': True, 'reason': 'User and/or item is unknown.'}),\n",
       " Prediction(uid='A28QK0L57Q3SBN', iid='B000067SMH', r_ui=5.0, est=4.04954041832258, details={'was_impossible': True, 'reason': 'User and/or item is unknown.'}),\n",
       " Prediction(uid='A3LC93HEBZ3CAL', iid='B000I6JZGQ', r_ui=5.0, est=4.04954041832258, details={'was_impossible': True, 'reason': 'User and/or item is unknown.'}),\n",
       " Prediction(uid='AJ8AGFN3CMTUE', iid='B000CDLCGG', r_ui=5.0, est=4.257575757575758, details={'actual_k': 0, 'was_impossible': False}),\n",
       " Prediction(uid='AYH6EPXN5HZOV', iid='B000ETXOC8', r_ui=5.0, est=4.04954041832258, details={'was_impossible': True, 'reason': 'User and/or item is unknown.'}),\n",
       " Prediction(uid='A1C7DTTCSMHPUQ', iid='B000AYA59M', r_ui=1.0, est=4.04954041832258, details={'was_impossible': True, 'reason': 'User and/or item is unknown.'}),\n",
       " Prediction(uid='A35REBGPTXJWYJ', iid='B0009RKL62', r_ui=5.0, est=4.04954041832258, details={'was_impossible': True, 'reason': 'User and/or item is unknown.'}),\n",
       " Prediction(uid='A1WGZYWDNY9BXK', iid='B00005A1K1', r_ui=5.0, est=4.04954041832258, details={'was_impossible': True, 'reason': 'User and/or item is unknown.'}),\n",
       " Prediction(uid='AZ5FQB6REDQQ9', iid='B000HI9O5W', r_ui=4.0, est=4.04954041832258, details={'was_impossible': True, 'reason': 'User and/or item is unknown.'}),\n",
       " Prediction(uid='A3TR71QC5ONXM0', iid='B00006JBJY', r_ui=3.0, est=4.04954041832258, details={'was_impossible': True, 'reason': 'User and/or item is unknown.'}),\n",
       " Prediction(uid='A224PVV6UGCBOL', iid='B00005LEN4', r_ui=5.0, est=4.657692307692308, details={'actual_k': 0, 'was_impossible': False}),\n",
       " Prediction(uid='ASXJYBHDZERDA', iid='B000EOOQUW', r_ui=3.0, est=4.04954041832258, details={'was_impossible': True, 'reason': 'User and/or item is unknown.'}),\n",
       " Prediction(uid='A32LN5NRZF9OJK', iid='B000ETXOC8', r_ui=3.0, est=4.04954041832258, details={'was_impossible': True, 'reason': 'User and/or item is unknown.'}),\n",
       " Prediction(uid='A2DSB3556MW53N', iid='B0000DK3I4', r_ui=5.0, est=4.656488549618321, details={'actual_k': 0, 'was_impossible': False}),\n",
       " Prediction(uid='A2L4NK6MZ7TSH6', iid='B00009PLIM', r_ui=3.0, est=4.04954041832258, details={'was_impossible': True, 'reason': 'User and/or item is unknown.'}),\n",
       " Prediction(uid='A3K1RQ6UUYEYMW', iid='B0009GZSSO', r_ui=4.0, est=4.04954041832258, details={'was_impossible': True, 'reason': 'User and/or item is unknown.'}),\n",
       " Prediction(uid='AETN06AJJIM3K', iid='B00005T3C8', r_ui=2.0, est=4.709844559585492, details={'actual_k': 0, 'was_impossible': False}),\n",
       " Prediction(uid='A3L6Y2LPUMBFZ8', iid='B000BTQPAO', r_ui=4.0, est=4.04954041832258, details={'was_impossible': True, 'reason': 'User and/or item is unknown.'}),\n",
       " Prediction(uid='A3LMKT6DQS9ZK8', iid='B0009S5HQA', r_ui=5.0, est=4.04954041832258, details={'was_impossible': True, 'reason': 'User and/or item is unknown.'}),\n",
       " Prediction(uid='A2FG74C332KXX6', iid='B0009RGLSE', r_ui=5.0, est=4.04954041832258, details={'was_impossible': True, 'reason': 'User and/or item is unknown.'}),\n",
       " Prediction(uid='A19DZRWM8PU5L7', iid='B000BTL0OA', r_ui=5.0, est=4.04954041832258, details={'was_impossible': True, 'reason': 'User and/or item is unknown.'}),\n",
       " Prediction(uid='AIFFZ1IXT926T', iid='B000FJUMWC', r_ui=4.0, est=4.04954041832258, details={'was_impossible': True, 'reason': 'User and/or item is unknown.'}),\n",
       " Prediction(uid='A24RTPK3HTGWB5', iid='B00003006R', r_ui=1.0, est=4.04954041832258, details={'was_impossible': True, 'reason': 'User and/or item is unknown.'}),\n",
       " Prediction(uid='A2LRIURBNT9IDF', iid='B000BP8AY2', r_ui=4.0, est=3.6958333333333333, details={'actual_k': 0, 'was_impossible': False}),\n",
       " Prediction(uid='A3T1VZY27V5PIJ', iid='B000062VUO', r_ui=5.0, est=4.04954041832258, details={'was_impossible': True, 'reason': 'User and/or item is unknown.'}),\n",
       " Prediction(uid='A1G5LQ93M7WZH5', iid='B000HI9O5W', r_ui=4.0, est=4.04954041832258, details={'was_impossible': True, 'reason': 'User and/or item is unknown.'}),\n",
       " Prediction(uid='A3Q2CSHWGEIO3J', iid='B000CDLCGG', r_ui=5.0, est=4.04954041832258, details={'was_impossible': True, 'reason': 'User and/or item is unknown.'}),\n",
       " Prediction(uid='A20948QAOROFVQ', iid='B000A5T7AO', r_ui=5.0, est=4.04954041832258, details={'was_impossible': True, 'reason': 'User and/or item is unknown.'}),\n",
       " Prediction(uid='A7RGSF3G6HELI', iid='B000051ZOA', r_ui=4.0, est=4.04954041832258, details={'was_impossible': True, 'reason': 'User and/or item is unknown.'}),\n",
       " Prediction(uid='A2ERVVRDIZ51R', iid='B0009DT87O', r_ui=5.0, est=4.04954041832258, details={'was_impossible': True, 'reason': 'User and/or item is unknown.'}),\n",
       " Prediction(uid='A8XQCVT3BWYGD', iid='B000652M6Y', r_ui=3.0, est=4.04954041832258, details={'was_impossible': True, 'reason': 'User and/or item is unknown.'}),\n",
       " Prediction(uid='A3DG1DU163X49H', iid='B000FNBYKW', r_ui=5.0, est=4.04954041832258, details={'was_impossible': True, 'reason': 'User and/or item is unknown.'}),\n",
       " Prediction(uid='AL599LUJXIHVP', iid='B00007056H', r_ui=5.0, est=4.04954041832258, details={'was_impossible': True, 'reason': 'User and/or item is unknown.'}),\n",
       " Prediction(uid='A2KAXVTFQKWEAP', iid='B00006B9CR', r_ui=3.0, est=4.04954041832258, details={'was_impossible': True, 'reason': 'User and/or item is unknown.'}),\n",
       " Prediction(uid='A1Y249FQCV6MNN', iid='B00006RVPW', r_ui=5.0, est=4.471464019851116, details={'actual_k': 0, 'was_impossible': False}),\n",
       " Prediction(uid='A1FN9N9FQ94U70', iid='B0009Q4PH4', r_ui=2.0, est=4.04954041832258, details={'was_impossible': True, 'reason': 'User and/or item is unknown.'}),\n",
       " Prediction(uid='A2XIQH8JSM1K6T', iid='B00006RVPW', r_ui=4.0, est=4.04954041832258, details={'was_impossible': True, 'reason': 'User and/or item is unknown.'}),\n",
       " Prediction(uid='A1H7O0NER64ZG5', iid='B0009GZSSO', r_ui=5.0, est=4.04954041832258, details={'was_impossible': True, 'reason': 'User and/or item is unknown.'}),\n",
       " Prediction(uid='A2TA6EPPR0BM2B', iid='B000A2BLEC', r_ui=5.0, est=4.04954041832258, details={'was_impossible': True, 'reason': 'User and/or item is unknown.'}),\n",
       " Prediction(uid='A1AUTFT4PBLPRH', iid='B000FJ89UO', r_ui=5.0, est=4.04954041832258, details={'was_impossible': True, 'reason': 'User and/or item is unknown.'}),\n",
       " Prediction(uid='A2F86SM2W01X8U', iid='B000I68BD4', r_ui=5.0, est=4.04954041832258, details={'was_impossible': True, 'reason': 'User and/or item is unknown.'}),\n",
       " Prediction(uid='A21RCBYQR97ZIL', iid='B000HCT12O', r_ui=5.0, est=4.04954041832258, details={'was_impossible': True, 'reason': 'User and/or item is unknown.'}),\n",
       " Prediction(uid='A1TSOCE3TL7FHP', iid='B000EMU4HS', r_ui=2.0, est=4.04954041832258, details={'was_impossible': True, 'reason': 'User and/or item is unknown.'}),\n",
       " Prediction(uid='A39XHO7SPTN3EP', iid='B00008X5DD', r_ui=5.0, est=4.04954041832258, details={'was_impossible': True, 'reason': 'User and/or item is unknown.'}),\n",
       " Prediction(uid='A1B9Z86OXQGXWH', iid='B0007LJHVK', r_ui=5.0, est=4.04954041832258, details={'was_impossible': True, 'reason': 'User and/or item is unknown.'}),\n",
       " Prediction(uid='A3CI3NIL0UH24E', iid='B000CHRJ8C', r_ui=1.0, est=4.04954041832258, details={'was_impossible': True, 'reason': 'User and/or item is unknown.'}),\n",
       " Prediction(uid='A1GJC03PB5RI98', iid='B0001FTVE0', r_ui=5.0, est=4.5647482014388485, details={'actual_k': 0, 'was_impossible': False}),\n",
       " Prediction(uid='A2F9NK6GUWOVI2', iid='B0007Y79B2', r_ui=5.0, est=4.04954041832258, details={'was_impossible': True, 'reason': 'User and/or item is unknown.'}),\n",
       " Prediction(uid='A3V46JNUUNAW7M', iid='B000051ZOA', r_ui=5.0, est=4.04954041832258, details={'was_impossible': True, 'reason': 'User and/or item is unknown.'}),\n",
       " Prediction(uid='A16QFN7ZHP51Y7', iid='B000E1FYQA', r_ui=1.0, est=3.980916030534351, details={'actual_k': 0, 'was_impossible': False}),\n",
       " Prediction(uid='A2KSEREZAWFOF2', iid='B00004TWM6', r_ui=4.0, est=3.3090277777777777, details={'actual_k': 0, 'was_impossible': False}),\n",
       " Prediction(uid='ASDVP73RF737P', iid='B000EOOU6M', r_ui=4.0, est=4.260869565217392, details={'actual_k': 0, 'was_impossible': False}),\n",
       " Prediction(uid='ABJ7KDCU29LGW', iid='B000BP50AY', r_ui=5.0, est=4.04954041832258, details={'was_impossible': True, 'reason': 'User and/or item is unknown.'}),\n",
       " Prediction(uid='ANGJTK0SJCK03', iid='B000053HH5', r_ui=5.0, est=4.853061224489796, details={'actual_k': 0, 'was_impossible': False}),\n",
       " Prediction(uid='A3U7P14GXGWJLM', iid='B00009MF83', r_ui=5.0, est=4.04954041832258, details={'was_impossible': True, 'reason': 'User and/or item is unknown.'}),\n",
       " Prediction(uid='A4WC1GNF9F3X8', iid='B0002E51CQ', r_ui=4.0, est=4.04954041832258, details={'was_impossible': True, 'reason': 'User and/or item is unknown.'}),\n",
       " Prediction(uid='A2Z91DP0UC5ETR', iid='B000CSWCQA', r_ui=5.0, est=4.04954041832258, details={'was_impossible': True, 'reason': 'User and/or item is unknown.'}),\n",
       " Prediction(uid='A2ULS9WOCBLAUE', iid='B000EP5MOA', r_ui=5.0, est=4.04954041832258, details={'was_impossible': True, 'reason': 'User and/or item is unknown.'}),\n",
       " Prediction(uid='A1B4H0CIG6IVQK', iid='B0007VPFI4', r_ui=1.0, est=4.04954041832258, details={'was_impossible': True, 'reason': 'User and/or item is unknown.'}),\n",
       " Prediction(uid='A21ZZD8VN7IBXS', iid='B0000A0AEM', r_ui=1.0, est=4.04954041832258, details={'was_impossible': True, 'reason': 'User and/or item is unknown.'}),\n",
       " Prediction(uid='A1Z9JJ2AOSX2WT', iid='B000165F26', r_ui=5.0, est=4.04954041832258, details={'was_impossible': True, 'reason': 'User and/or item is unknown.'}),\n",
       " Prediction(uid='ATAHVPZ43IUQS', iid='B0007Z6RAA', r_ui=4.0, est=4.011904761904762, details={'actual_k': 0, 'was_impossible': False}),\n",
       " Prediction(uid='A35CSPYCVM4NSL', iid='B00004WHFK', r_ui=4.0, est=4.04954041832258, details={'was_impossible': True, 'reason': 'User and/or item is unknown.'}),\n",
       " Prediction(uid='A1Z3WWIY4LTO2W', iid='B00007E7JU', r_ui=5.0, est=4.04954041832258, details={'was_impossible': True, 'reason': 'User and/or item is unknown.'}),\n",
       " Prediction(uid='A171GRPLEO624X', iid='B000HVHGI6', r_ui=4.0, est=4.04954041832258, details={'was_impossible': True, 'reason': 'User and/or item is unknown.'}),\n",
       " Prediction(uid='A18BP2WZ790AQN', iid='B000051YGP', r_ui=5.0, est=4.04954041832258, details={'was_impossible': True, 'reason': 'User and/or item is unknown.'}),\n",
       " Prediction(uid='A21JJOMAUYWT11', iid='B00007FGUE', r_ui=5.0, est=3.6732673267326734, details={'actual_k': 0, 'was_impossible': False}),\n",
       " Prediction(uid='A2B81G23B0TLYJ', iid='B0002L5R78', r_ui=5.0, est=4.04954041832258, details={'was_impossible': True, 'reason': 'User and/or item is unknown.'}),\n",
       " Prediction(uid='A3G2LCYPAXR5YZ', iid='B000BQ7GW8', r_ui=5.0, est=4.04954041832258, details={'was_impossible': True, 'reason': 'User and/or item is unknown.'}),\n",
       " Prediction(uid='A18IOTI1ZD7ZEI', iid='B0000BZOGJ', r_ui=5.0, est=4.04954041832258, details={'was_impossible': True, 'reason': 'User and/or item is unknown.'}),\n",
       " Prediction(uid='A36QGT5YP20JIJ', iid='B000EUGX70', r_ui=5.0, est=4.111712222654375, details={'actual_k': 1, 'was_impossible': False}),\n",
       " Prediction(uid='A1HZB0B20PTS3R', iid='B00007GWBV', r_ui=5.0, est=4.04954041832258, details={'was_impossible': True, 'reason': 'User and/or item is unknown.'}),\n",
       " Prediction(uid='A34FS12J9YXBUN', iid='B000AYGD8E', r_ui=5.0, est=3.7857142857142856, details={'actual_k': 0, 'was_impossible': False}),\n",
       " Prediction(uid='A1F32NR9JZSS79', iid='B0007Z1M50', r_ui=5.0, est=4.04954041832258, details={'was_impossible': True, 'reason': 'User and/or item is unknown.'}),\n",
       " Prediction(uid='A28DAWWYKHA5VQ', iid='B00068B9RE', r_ui=3.0, est=2.5652173913043477, details={'actual_k': 0, 'was_impossible': False}),\n",
       " Prediction(uid='A2QTMQR6CBEHOW', iid='B000EEQ83K', r_ui=5.0, est=4.04954041832258, details={'was_impossible': True, 'reason': 'User and/or item is unknown.'}),\n",
       " Prediction(uid='A3CUYX2VXZM9KO', iid='B000068O3C', r_ui=5.0, est=4.04954041832258, details={'was_impossible': True, 'reason': 'User and/or item is unknown.'}),\n",
       " Prediction(uid='A277E492GU5QS', iid='B000GP5F04', r_ui=5.0, est=4.585365853658536, details={'actual_k': 0, 'was_impossible': False}),\n",
       " Prediction(uid='A302L1H3DJ26TD', iid='B000EXS1BS', r_ui=3.0, est=4.04954041832258, details={'was_impossible': True, 'reason': 'User and/or item is unknown.'}),\n",
       " Prediction(uid='AZC2D47OPF5I2', iid='B000FIDTYG', r_ui=5.0, est=4.581818181818182, details={'actual_k': 0, 'was_impossible': False}),\n",
       " Prediction(uid='A1YTCUTL364ZL7', iid='B000096B01', r_ui=5.0, est=4.04954041832258, details={'was_impossible': True, 'reason': 'User and/or item is unknown.'}),\n",
       " Prediction(uid='A2Y5J58SR2ZCE8', iid='B000AXQN12', r_ui=1.0, est=4.04954041832258, details={'was_impossible': True, 'reason': 'User and/or item is unknown.'}),\n",
       " Prediction(uid='A3M3DL3AN4DOQA', iid='B000089GN3', r_ui=5.0, est=4.04954041832258, details={'was_impossible': True, 'reason': 'User and/or item is unknown.'}),\n",
       " Prediction(uid='A367G304Q24OPQ', iid='B00001P505', r_ui=4.0, est=4.04954041832258, details={'was_impossible': True, 'reason': 'User and/or item is unknown.'}),\n",
       " Prediction(uid='A3J78T21CHOP7D', iid='B000C1Z0HA', r_ui=5.0, est=4.04954041832258, details={'was_impossible': True, 'reason': 'User and/or item is unknown.'}),\n",
       " Prediction(uid='A3FULHRQAPD27W', iid='B0002GDIII', r_ui=5.0, est=4.04954041832258, details={'was_impossible': True, 'reason': 'User and/or item is unknown.'}),\n",
       " Prediction(uid='A24SRPCKR8SRUQ', iid='B000F7857S', r_ui=5.0, est=4.04954041832258, details={'was_impossible': True, 'reason': 'User and/or item is unknown.'}),\n",
       " Prediction(uid='A1CUTKRNDE80RA', iid='B000EOPQ7E', r_ui=5.0, est=4.04954041832258, details={'was_impossible': True, 'reason': 'User and/or item is unknown.'}),\n",
       " Prediction(uid='A39D7M5K82YSJ3', iid='B0007GIXS8', r_ui=5.0, est=4.04954041832258, details={'was_impossible': True, 'reason': 'User and/or item is unknown.'}),\n",
       " Prediction(uid='A1OWLRUOF3AQMS', iid='B0001DBEM4', r_ui=5.0, est=4.04954041832258, details={'was_impossible': True, 'reason': 'User and/or item is unknown.'}),\n",
       " Prediction(uid='A23X7XQQ3GNL1O', iid='B00005QXWI', r_ui=1.0, est=4.04954041832258, details={'was_impossible': True, 'reason': 'User and/or item is unknown.'}),\n",
       " Prediction(uid='A1XOBCHAAHEVV4', iid='B0002AHT0M', r_ui=2.0, est=3.574387947269303, details={'actual_k': 0, 'was_impossible': False}),\n",
       " Prediction(uid='A39EHX29G5HUS8', iid='B000I4LEGC', r_ui=4.0, est=3.404255319148936, details={'actual_k': 0, 'was_impossible': False}),\n",
       " Prediction(uid='A1VUXHJK5NZJ5G', iid='B000I4LEGC', r_ui=2.0, est=4.04954041832258, details={'was_impossible': True, 'reason': 'User and/or item is unknown.'}),\n",
       " Prediction(uid='AEAFHD09X8044', iid='B0009VU7RG', r_ui=5.0, est=3.9420289855072466, details={'actual_k': 0, 'was_impossible': False}),\n",
       " Prediction(uid='A18X1IZB7CE6CD', iid='B00004VX39', r_ui=5.0, est=4.04954041832258, details={'was_impossible': True, 'reason': 'User and/or item is unknown.'}),\n",
       " Prediction(uid='A25TSZ4SSS9T0O', iid='B000I8FZQI', r_ui=5.0, est=4.04954041832258, details={'was_impossible': True, 'reason': 'User and/or item is unknown.'}),\n",
       " Prediction(uid='A3G5Q7TPPSK18N', iid='B0009WKBGC', r_ui=5.0, est=4.04954041832258, details={'was_impossible': True, 'reason': 'User and/or item is unknown.'}),\n",
       " Prediction(uid='A2K05PTW0QL96Z', iid='B000ANOY7M', r_ui=4.0, est=4.04954041832258, details={'was_impossible': True, 'reason': 'User and/or item is unknown.'}),\n",
       " Prediction(uid='AEZKP0J5SMH3B', iid='B000067G0J', r_ui=1.0, est=3.7234445536235596, details={'actual_k': 1, 'was_impossible': False}),\n",
       " Prediction(uid='A23AF43JS0X074', iid='B00006IRS3', r_ui=4.0, est=4.04954041832258, details={'was_impossible': True, 'reason': 'User and/or item is unknown.'}),\n",
       " Prediction(uid='A37KEW14MD925E', iid='B0007VPFI4', r_ui=5.0, est=4.012448132780083, details={'actual_k': 0, 'was_impossible': False}),\n",
       " Prediction(uid='A2Y2DN0783EJ5R', iid='B000I68BD4', r_ui=5.0, est=4.04954041832258, details={'was_impossible': True, 'reason': 'User and/or item is unknown.'}),\n",
       " Prediction(uid='A7M67UK16LUQM', iid='B0009RGLSE', r_ui=4.0, est=4.04954041832258, details={'was_impossible': True, 'reason': 'User and/or item is unknown.'}),\n",
       " Prediction(uid='A3FWTIOI84VJ6K', iid='B000I97N4O', r_ui=5.0, est=4.04954041832258, details={'was_impossible': True, 'reason': 'User and/or item is unknown.'}),\n",
       " Prediction(uid='A3S80BMW3MM28P', iid='B000EPHPPE', r_ui=3.0, est=4.04954041832258, details={'was_impossible': True, 'reason': 'User and/or item is unknown.'}),\n",
       " Prediction(uid='A14XAK6LATEGCJ', iid='B000I1YIDQ', r_ui=5.0, est=4.7155172413793105, details={'actual_k': 0, 'was_impossible': False}),\n",
       " Prediction(uid='AQ2T60BQ51SVG', iid='B000001ON6', r_ui=5.0, est=4.04954041832258, details={'was_impossible': True, 'reason': 'User and/or item is unknown.'}),\n",
       " Prediction(uid='A37OKOWUR84RKR', iid='B00006F2MW', r_ui=5.0, est=4.04954041832258, details={'was_impossible': True, 'reason': 'User and/or item is unknown.'}),\n",
       " Prediction(uid='A1V70Q532814PQ', iid='B00066IJPQ', r_ui=5.0, est=4.04954041832258, details={'was_impossible': True, 'reason': 'User and/or item is unknown.'}),\n",
       " Prediction(uid='AUDACJ31E07G', iid='B000FKQ5HM', r_ui=4.0, est=4.04954041832258, details={'was_impossible': True, 'reason': 'User and/or item is unknown.'}),\n",
       " Prediction(uid='A34II2YYFYNFI9', iid='B0007UQNWW', r_ui=5.0, est=3.595744680851064, details={'actual_k': 0, 'was_impossible': False}),\n",
       " Prediction(uid='A1JHYXRIWK30O6', iid='B00004ZC8Y', r_ui=5.0, est=4.267716535433071, details={'actual_k': 0, 'was_impossible': False}),\n",
       " Prediction(uid='ALMMSDQJEEXUS', iid='B0000DK5LW', r_ui=2.0, est=4.04954041832258, details={'was_impossible': True, 'reason': 'User and/or item is unknown.'}),\n",
       " Prediction(uid='A1VSCF9RPTQOUN', iid='B000EMWBV0', r_ui=4.0, est=4.04954041832258, details={'was_impossible': True, 'reason': 'User and/or item is unknown.'}),\n",
       " Prediction(uid='A32PN036E1TEM9', iid='B000I68BD4', r_ui=4.0, est=4.04954041832258, details={'was_impossible': True, 'reason': 'User and/or item is unknown.'}),\n",
       " Prediction(uid='A1KB7NJ7FUGJ1U', iid='B000GKD5PQ', r_ui=1.0, est=4.04954041832258, details={'was_impossible': True, 'reason': 'User and/or item is unknown.'}),\n",
       " Prediction(uid='A1IHHK38Z2M90G', iid='B000H72MMU', r_ui=3.0, est=4.04954041832258, details={'was_impossible': True, 'reason': 'User and/or item is unknown.'}),\n",
       " Prediction(uid='AQEQ5XD6AGIK5', iid='B000GG5LUW', r_ui=5.0, est=3.7520661157024793, details={'actual_k': 0, 'was_impossible': False}),\n",
       " Prediction(uid='A3EIVJKTNNR9OA', iid='B00081A2KY', r_ui=5.0, est=4.287837837837838, details={'actual_k': 0, 'was_impossible': False}),\n",
       " Prediction(uid='AU58XHD4M9R8R', iid='B000FGCUSE', r_ui=5.0, est=4.04954041832258, details={'was_impossible': True, 'reason': 'User and/or item is unknown.'}),\n",
       " Prediction(uid='A16YMO094JX8X4', iid='B000EXS1BS', r_ui=1.0, est=4.04954041832258, details={'was_impossible': True, 'reason': 'User and/or item is unknown.'}),\n",
       " Prediction(uid='A2IA6Z87MS68F2', iid='B000BTL0OA', r_ui=5.0, est=4.188090050835149, details={'actual_k': 0, 'was_impossible': False}),\n",
       " Prediction(uid='AFLGBEGH7A5YB', iid='B0000645RH', r_ui=1.0, est=4.04954041832258, details={'was_impossible': True, 'reason': 'User and/or item is unknown.'}),\n",
       " Prediction(uid='AKE344RQKF4UU', iid='B00009RA60', r_ui=5.0, est=4.04954041832258, details={'was_impossible': True, 'reason': 'User and/or item is unknown.'}),\n",
       " Prediction(uid='A2Y4EDAQS99P06', iid='B000AYJDD6', r_ui=4.0, est=4.04954041832258, details={'was_impossible': True, 'reason': 'User and/or item is unknown.'}),\n",
       " Prediction(uid='A1KCEAFEDSHWGS', iid='B0007SM8OQ', r_ui=1.0, est=4.04954041832258, details={'was_impossible': True, 'reason': 'User and/or item is unknown.'}),\n",
       " Prediction(uid='A3FYIIKI4HUTNZ', iid='B0007MWE1E', r_ui=5.0, est=4.04954041832258, details={'was_impossible': True, 'reason': 'User and/or item is unknown.'}),\n",
       " Prediction(uid='A5L8YMVFEWTKZ', iid='B0006I09LQ', r_ui=5.0, est=4.04954041832258, details={'was_impossible': True, 'reason': 'User and/or item is unknown.'}),\n",
       " Prediction(uid='A2N2FI4KJZQFU3', iid='B000E95T58', r_ui=5.0, est=3.6640625, details={'actual_k': 0, 'was_impossible': False}),\n",
       " Prediction(uid='A2ZORMJYBB29CD', iid='B000FJJASO', r_ui=5.0, est=4.04954041832258, details={'was_impossible': True, 'reason': 'User and/or item is unknown.'}),\n",
       " Prediction(uid='A1DCEEYLM3AXTJ', iid='B000063574', r_ui=5.0, est=4.141304347826087, details={'actual_k': 0, 'was_impossible': False}),\n",
       " Prediction(uid='A3NBQLX9GRHY0T', iid='B000FMPENQ', r_ui=3.0, est=4.04954041832258, details={'was_impossible': True, 'reason': 'User and/or item is unknown.'}),\n",
       " Prediction(uid='A3M7JK5W59CVWY', iid='B000EZL1EA', r_ui=5.0, est=4.04954041832258, details={'was_impossible': True, 'reason': 'User and/or item is unknown.'}),\n",
       " Prediction(uid='A3C1WBUBKGGB9Q', iid='B000A6PPOK', r_ui=2.0, est=4.04954041832258, details={'was_impossible': True, 'reason': 'User and/or item is unknown.'}),\n",
       " Prediction(uid='A11894L0USZU1E', iid='B000FMV4TY', r_ui=5.0, est=4.04954041832258, details={'was_impossible': True, 'reason': 'User and/or item is unknown.'}),\n",
       " Prediction(uid='A4N8U746XPTSJ', iid='B00004WCIC', r_ui=5.0, est=4.858245093527173, details={'actual_k': 2, 'was_impossible': False}),\n",
       " Prediction(uid='A2Q6PC0FL9FLZT', iid='B000F7QRTG', r_ui=5.0, est=4.575492341356674, details={'actual_k': 0, 'was_impossible': False}),\n",
       " Prediction(uid='A1MG007V94SE4', iid='B000EXS1BS', r_ui=5.0, est=4.04954041832258, details={'was_impossible': True, 'reason': 'User and/or item is unknown.'}),\n",
       " Prediction(uid='A1I0YIKQW36T31', iid='B000084FD5', r_ui=1.0, est=4.04954041832258, details={'was_impossible': True, 'reason': 'User and/or item is unknown.'}),\n",
       " Prediction(uid='A1JUBRIZMO0RJV', iid='B000204SWE', r_ui=4.0, est=3.543909348441926, details={'actual_k': 0, 'was_impossible': False}),\n",
       " Prediction(uid='A37BL9WQHPDTMG', iid='B00022OBOM', r_ui=5.0, est=5, details={'actual_k': 1, 'was_impossible': False}),\n",
       " Prediction(uid='A1QGBQTRW3RVTC', iid='B00020S7XK', r_ui=3.0, est=4.04954041832258, details={'was_impossible': True, 'reason': 'User and/or item is unknown.'}),\n",
       " Prediction(uid='A3O1JZ5V0GM267', iid='B00005YXZE', r_ui=5.0, est=4.04954041832258, details={'was_impossible': True, 'reason': 'User and/or item is unknown.'}),\n",
       " Prediction(uid='A12RYJBR63ADHS', iid='B00064ABSG', r_ui=5.0, est=4.04954041832258, details={'was_impossible': True, 'reason': 'User and/or item is unknown.'}),\n",
       " Prediction(uid='A1Z6ZE46LTRVAP', iid='B0007N55NW', r_ui=2.0, est=4.04954041832258, details={'was_impossible': True, 'reason': 'User and/or item is unknown.'}),\n",
       " Prediction(uid='A142GVC304Y5KY', iid='B000FDTNZK', r_ui=4.0, est=4.04954041832258, details={'was_impossible': True, 'reason': 'User and/or item is unknown.'}),\n",
       " Prediction(uid='A3NEPGGH2FYE7E', iid='B000038AB2', r_ui=5.0, est=4.04954041832258, details={'was_impossible': True, 'reason': 'User and/or item is unknown.'}),\n",
       " Prediction(uid='A1FOC2X3UJT49', iid='B000BKN2Y0', r_ui=5.0, est=4.04954041832258, details={'was_impossible': True, 'reason': 'User and/or item is unknown.'}),\n",
       " Prediction(uid='AQKW40B3J8M3Y', iid='B0000665P7', r_ui=5.0, est=4.04954041832258, details={'was_impossible': True, 'reason': 'User and/or item is unknown.'}),\n",
       " Prediction(uid='A3O9ZSVYISF5OU', iid='B0007MXZB2', r_ui=2.0, est=4.04954041832258, details={'was_impossible': True, 'reason': 'User and/or item is unknown.'}),\n",
       " Prediction(uid='A1POFVVXUZR3IQ', iid='B00004TDLD', r_ui=5.0, est=4.832298136645963, details={'actual_k': 0, 'was_impossible': False}),\n",
       " Prediction(uid='A2PSRMNXTXK6AI', iid='B0009JR41U', r_ui=1.0, est=4.04954041832258, details={'was_impossible': True, 'reason': 'User and/or item is unknown.'}),\n",
       " Prediction(uid='A1RLIZ38M84ZNX', iid='B000FAQ6S0', r_ui=1.0, est=4.04954041832258, details={'was_impossible': True, 'reason': 'User and/or item is unknown.'}),\n",
       " Prediction(uid='A2XGI26R3Q9E9O', iid='B000F007K8', r_ui=3.0, est=4.04954041832258, details={'was_impossible': True, 'reason': 'User and/or item is unknown.'}),\n",
       " Prediction(uid='A1H9JE011DN0LM', iid='B0007N33IQ', r_ui=1.0, est=4.04954041832258, details={'was_impossible': True, 'reason': 'User and/or item is unknown.'}),\n",
       " Prediction(uid='A1SJCISSA1PUUG', iid='B000FCI7KS', r_ui=3.0, est=4.04954041832258, details={'was_impossible': True, 'reason': 'User and/or item is unknown.'}),\n",
       " Prediction(uid='AN7H5DVJR5XT4', iid='B000I6P1UA', r_ui=4.0, est=4.04954041832258, details={'was_impossible': True, 'reason': 'User and/or item is unknown.'}),\n",
       " Prediction(uid='A13S7SOSFTI8GN', iid='B0007U9SRE', r_ui=5.0, est=3.8716216216216215, details={'actual_k': 0, 'was_impossible': False}),\n",
       " Prediction(uid='A2XX7O137TKBS0', iid='B00005TQKQ', r_ui=3.0, est=4.04954041832258, details={'was_impossible': True, 'reason': 'User and/or item is unknown.'}),\n",
       " Prediction(uid='ATMKK1DSZKS8X', iid='B0000A2QBP', r_ui=5.0, est=4.536764705882353, details={'actual_k': 0, 'was_impossible': False}),\n",
       " ...]"
      ]
     },
     "execution_count": 41,
     "metadata": {
      "tags": []
     },
     "output_type": "execute_result"
    }
   ],
   "source": [
    "test_pred"
   ]
  },
  {
   "cell_type": "code",
   "execution_count": null,
   "metadata": {
    "colab": {
     "base_uri": "https://localhost:8080/"
    },
    "id": "NJVNFScj__yv",
    "outputId": "5910b31a-1b7e-41bb-a298-19a39c717d94"
   },
   "outputs": [
    {
     "name": "stdout",
     "output_type": "stream",
     "text": [
      "Item-based Model : Test Set\n",
      "RMSE: 1.3415\n"
     ]
    },
    {
     "data": {
      "text/plain": [
       "1.341519802602911"
      ]
     },
     "execution_count": 42,
     "metadata": {
      "tags": []
     },
     "output_type": "execute_result"
    }
   ],
   "source": [
    "# get RMSE\n",
    "print(\"Item-based Model : Test Set\")\n",
    "accuracy.rmse(test_pred, verbose=True)"
   ]
  },
  {
   "cell_type": "code",
   "execution_count": null,
   "metadata": {
    "colab": {
     "base_uri": "https://localhost:8080/",
     "height": 253
    },
    "id": "T8u4kJAyALPI",
    "outputId": "fbce7be6-66c3-4d2c-f08c-910b14113d91"
   },
   "outputs": [
    {
     "data": {
      "text/html": [
       "<div>\n",
       "<style scoped>\n",
       "    .dataframe tbody tr th:only-of-type {\n",
       "        vertical-align: middle;\n",
       "    }\n",
       "\n",
       "    .dataframe tbody tr th {\n",
       "        vertical-align: top;\n",
       "    }\n",
       "\n",
       "    .dataframe thead th {\n",
       "        text-align: right;\n",
       "    }\n",
       "</style>\n",
       "<table border=\"1\" class=\"dataframe\">\n",
       "  <thead>\n",
       "    <tr style=\"text-align: right;\">\n",
       "      <th>ProdID</th>\n",
       "      <th>1400501466</th>\n",
       "      <th>1400501520</th>\n",
       "      <th>1400501776</th>\n",
       "      <th>1400532620</th>\n",
       "      <th>1400532655</th>\n",
       "      <th>140053271X</th>\n",
       "      <th>1400532736</th>\n",
       "      <th>1400599997</th>\n",
       "      <th>1400698987</th>\n",
       "      <th>3744295508</th>\n",
       "      <th>6301977173</th>\n",
       "      <th>7214047977</th>\n",
       "      <th>8862935293</th>\n",
       "      <th>9573212919</th>\n",
       "      <th>9575871979</th>\n",
       "      <th>9625993428</th>\n",
       "      <th>972683275</th>\n",
       "      <th>9888002198</th>\n",
       "      <th>9966694544</th>\n",
       "      <th>9983891212</th>\n",
       "      <th>9984984354</th>\n",
       "      <th>9985511476</th>\n",
       "      <th>B000001OM4</th>\n",
       "      <th>B000001OM5</th>\n",
       "      <th>B000001OMI</th>\n",
       "      <th>B000001ON6</th>\n",
       "      <th>B00000DM9W</th>\n",
       "      <th>B00000IGBF</th>\n",
       "      <th>B00000J05A</th>\n",
       "      <th>B00000J061</th>\n",
       "      <th>B00000J08Q</th>\n",
       "      <th>B00000J0D2</th>\n",
       "      <th>B00000J0D5</th>\n",
       "      <th>B00000J0D8</th>\n",
       "      <th>B00000J1EJ</th>\n",
       "      <th>B00000J1EP</th>\n",
       "      <th>B00000J1EQ</th>\n",
       "      <th>B00000J1F3</th>\n",
       "      <th>B00000J1GA</th>\n",
       "      <th>B00000J1QK</th>\n",
       "      <th>B00000J1QR</th>\n",
       "      <th>B00000J1SC</th>\n",
       "      <th>B00000J1TX</th>\n",
       "      <th>B00000J1U8</th>\n",
       "      <th>B00000J1UQ</th>\n",
       "      <th>B00000J1V3</th>\n",
       "      <th>B00000J1V5</th>\n",
       "      <th>B00000J3NF</th>\n",
       "      <th>B00000J3Q7</th>\n",
       "      <th>B00000J3UJ</th>\n",
       "      <th>B00000J434</th>\n",
       "      <th>B00000J4EY</th>\n",
       "      <th>B00000J4FS</th>\n",
       "      <th>B00000J4GE</th>\n",
       "      <th>B00000J6WY</th>\n",
       "      <th>B00000JBAT</th>\n",
       "      <th>B00000JBHP</th>\n",
       "      <th>B00000JBPB</th>\n",
       "      <th>B00000JCT8</th>\n",
       "      <th>B00000JCTO</th>\n",
       "      <th>B00000JD34</th>\n",
       "      <th>B00000JDF5</th>\n",
       "      <th>B00000JDF6</th>\n",
       "      <th>B00000JDHV</th>\n",
       "      <th>B00000JFE3</th>\n",
       "      <th>B00000JFIF</th>\n",
       "      <th>B00000JFMK</th>\n",
       "      <th>B00000JHWX</th>\n",
       "      <th>B00000JI4F</th>\n",
       "      <th>B00000JII6</th>\n",
       "      <th>B00000JMUG</th>\n",
       "      <th>B00000JPPI</th>\n",
       "      <th>B00000JSGF</th>\n",
       "      <th>B00000JYLO</th>\n",
       "      <th>B00000JYWQ</th>\n",
       "      <th>B00000K135</th>\n",
       "    </tr>\n",
       "    <tr>\n",
       "      <th>UserID</th>\n",
       "      <th></th>\n",
       "      <th></th>\n",
       "      <th></th>\n",
       "      <th></th>\n",
       "      <th></th>\n",
       "      <th></th>\n",
       "      <th></th>\n",
       "      <th></th>\n",
       "      <th></th>\n",
       "      <th></th>\n",
       "      <th></th>\n",
       "      <th></th>\n",
       "      <th></th>\n",
       "      <th></th>\n",
       "      <th></th>\n",
       "      <th></th>\n",
       "      <th></th>\n",
       "      <th></th>\n",
       "      <th></th>\n",
       "      <th></th>\n",
       "      <th></th>\n",
       "      <th></th>\n",
       "      <th></th>\n",
       "      <th></th>\n",
       "      <th></th>\n",
       "      <th></th>\n",
       "      <th></th>\n",
       "      <th></th>\n",
       "      <th></th>\n",
       "      <th></th>\n",
       "      <th></th>\n",
       "      <th></th>\n",
       "      <th></th>\n",
       "      <th></th>\n",
       "      <th></th>\n",
       "      <th></th>\n",
       "      <th></th>\n",
       "      <th></th>\n",
       "      <th></th>\n",
       "      <th></th>\n",
       "      <th></th>\n",
       "      <th></th>\n",
       "      <th></th>\n",
       "      <th></th>\n",
       "      <th></th>\n",
       "      <th></th>\n",
       "      <th></th>\n",
       "      <th></th>\n",
       "      <th></th>\n",
       "      <th></th>\n",
       "      <th></th>\n",
       "      <th></th>\n",
       "      <th></th>\n",
       "      <th></th>\n",
       "      <th></th>\n",
       "      <th></th>\n",
       "      <th></th>\n",
       "      <th></th>\n",
       "      <th></th>\n",
       "      <th></th>\n",
       "      <th></th>\n",
       "      <th></th>\n",
       "      <th></th>\n",
       "      <th></th>\n",
       "      <th></th>\n",
       "      <th></th>\n",
       "      <th></th>\n",
       "      <th></th>\n",
       "      <th></th>\n",
       "      <th></th>\n",
       "      <th></th>\n",
       "      <th></th>\n",
       "      <th></th>\n",
       "      <th></th>\n",
       "      <th></th>\n",
       "      <th></th>\n",
       "    </tr>\n",
       "  </thead>\n",
       "  <tbody>\n",
       "    <tr>\n",
       "      <th>A01852072Z7B68UHLI5UG</th>\n",
       "      <td>0</td>\n",
       "      <td>0</td>\n",
       "      <td>0</td>\n",
       "      <td>0</td>\n",
       "      <td>0</td>\n",
       "      <td>0</td>\n",
       "      <td>0</td>\n",
       "      <td>0</td>\n",
       "      <td>0</td>\n",
       "      <td>0</td>\n",
       "      <td>0</td>\n",
       "      <td>0</td>\n",
       "      <td>0</td>\n",
       "      <td>0</td>\n",
       "      <td>0</td>\n",
       "      <td>0</td>\n",
       "      <td>0</td>\n",
       "      <td>0</td>\n",
       "      <td>0</td>\n",
       "      <td>0</td>\n",
       "      <td>0</td>\n",
       "      <td>0</td>\n",
       "      <td>0</td>\n",
       "      <td>0</td>\n",
       "      <td>0</td>\n",
       "      <td>0</td>\n",
       "      <td>0</td>\n",
       "      <td>0</td>\n",
       "      <td>0</td>\n",
       "      <td>0</td>\n",
       "      <td>0</td>\n",
       "      <td>0</td>\n",
       "      <td>0</td>\n",
       "      <td>0</td>\n",
       "      <td>0</td>\n",
       "      <td>0</td>\n",
       "      <td>0</td>\n",
       "      <td>0</td>\n",
       "      <td>0</td>\n",
       "      <td>0</td>\n",
       "      <td>0</td>\n",
       "      <td>0</td>\n",
       "      <td>0</td>\n",
       "      <td>0</td>\n",
       "      <td>0</td>\n",
       "      <td>0</td>\n",
       "      <td>4</td>\n",
       "      <td>0</td>\n",
       "      <td>0</td>\n",
       "      <td>0</td>\n",
       "      <td>0</td>\n",
       "      <td>0</td>\n",
       "      <td>0</td>\n",
       "      <td>0</td>\n",
       "      <td>0</td>\n",
       "      <td>0</td>\n",
       "      <td>0</td>\n",
       "      <td>0</td>\n",
       "      <td>0</td>\n",
       "      <td>0</td>\n",
       "      <td>0</td>\n",
       "      <td>0</td>\n",
       "      <td>0</td>\n",
       "      <td>0</td>\n",
       "      <td>0</td>\n",
       "      <td>0</td>\n",
       "      <td>0</td>\n",
       "      <td>0</td>\n",
       "      <td>0</td>\n",
       "      <td>0</td>\n",
       "      <td>0</td>\n",
       "      <td>0</td>\n",
       "      <td>0</td>\n",
       "      <td>0</td>\n",
       "      <td>0</td>\n",
       "      <td>0</td>\n",
       "    </tr>\n",
       "    <tr>\n",
       "      <th>A0266076X6KPZ6CCHGVS</th>\n",
       "      <td>0</td>\n",
       "      <td>0</td>\n",
       "      <td>0</td>\n",
       "      <td>0</td>\n",
       "      <td>0</td>\n",
       "      <td>0</td>\n",
       "      <td>0</td>\n",
       "      <td>0</td>\n",
       "      <td>0</td>\n",
       "      <td>0</td>\n",
       "      <td>0</td>\n",
       "      <td>0</td>\n",
       "      <td>0</td>\n",
       "      <td>0</td>\n",
       "      <td>0</td>\n",
       "      <td>0</td>\n",
       "      <td>0</td>\n",
       "      <td>0</td>\n",
       "      <td>0</td>\n",
       "      <td>0</td>\n",
       "      <td>0</td>\n",
       "      <td>0</td>\n",
       "      <td>0</td>\n",
       "      <td>0</td>\n",
       "      <td>0</td>\n",
       "      <td>0</td>\n",
       "      <td>0</td>\n",
       "      <td>0</td>\n",
       "      <td>0</td>\n",
       "      <td>0</td>\n",
       "      <td>0</td>\n",
       "      <td>0</td>\n",
       "      <td>0</td>\n",
       "      <td>0</td>\n",
       "      <td>0</td>\n",
       "      <td>0</td>\n",
       "      <td>0</td>\n",
       "      <td>0</td>\n",
       "      <td>0</td>\n",
       "      <td>0</td>\n",
       "      <td>5</td>\n",
       "      <td>0</td>\n",
       "      <td>0</td>\n",
       "      <td>0</td>\n",
       "      <td>0</td>\n",
       "      <td>0</td>\n",
       "      <td>0</td>\n",
       "      <td>0</td>\n",
       "      <td>0</td>\n",
       "      <td>0</td>\n",
       "      <td>0</td>\n",
       "      <td>0</td>\n",
       "      <td>0</td>\n",
       "      <td>0</td>\n",
       "      <td>0</td>\n",
       "      <td>0</td>\n",
       "      <td>0</td>\n",
       "      <td>0</td>\n",
       "      <td>0</td>\n",
       "      <td>0</td>\n",
       "      <td>0</td>\n",
       "      <td>0</td>\n",
       "      <td>0</td>\n",
       "      <td>0</td>\n",
       "      <td>0</td>\n",
       "      <td>0</td>\n",
       "      <td>0</td>\n",
       "      <td>0</td>\n",
       "      <td>0</td>\n",
       "      <td>0</td>\n",
       "      <td>0</td>\n",
       "      <td>0</td>\n",
       "      <td>0</td>\n",
       "      <td>0</td>\n",
       "      <td>0</td>\n",
       "      <td>0</td>\n",
       "    </tr>\n",
       "    <tr>\n",
       "      <th>A0293130VTX2ZXA70JQS</th>\n",
       "      <td>0</td>\n",
       "      <td>0</td>\n",
       "      <td>0</td>\n",
       "      <td>0</td>\n",
       "      <td>0</td>\n",
       "      <td>0</td>\n",
       "      <td>0</td>\n",
       "      <td>0</td>\n",
       "      <td>0</td>\n",
       "      <td>0</td>\n",
       "      <td>0</td>\n",
       "      <td>0</td>\n",
       "      <td>0</td>\n",
       "      <td>0</td>\n",
       "      <td>0</td>\n",
       "      <td>0</td>\n",
       "      <td>5</td>\n",
       "      <td>0</td>\n",
       "      <td>0</td>\n",
       "      <td>0</td>\n",
       "      <td>0</td>\n",
       "      <td>0</td>\n",
       "      <td>0</td>\n",
       "      <td>0</td>\n",
       "      <td>0</td>\n",
       "      <td>0</td>\n",
       "      <td>0</td>\n",
       "      <td>0</td>\n",
       "      <td>0</td>\n",
       "      <td>0</td>\n",
       "      <td>0</td>\n",
       "      <td>0</td>\n",
       "      <td>0</td>\n",
       "      <td>0</td>\n",
       "      <td>0</td>\n",
       "      <td>0</td>\n",
       "      <td>0</td>\n",
       "      <td>0</td>\n",
       "      <td>0</td>\n",
       "      <td>0</td>\n",
       "      <td>0</td>\n",
       "      <td>0</td>\n",
       "      <td>0</td>\n",
       "      <td>0</td>\n",
       "      <td>0</td>\n",
       "      <td>0</td>\n",
       "      <td>0</td>\n",
       "      <td>0</td>\n",
       "      <td>0</td>\n",
       "      <td>0</td>\n",
       "      <td>0</td>\n",
       "      <td>0</td>\n",
       "      <td>0</td>\n",
       "      <td>0</td>\n",
       "      <td>0</td>\n",
       "      <td>0</td>\n",
       "      <td>0</td>\n",
       "      <td>0</td>\n",
       "      <td>0</td>\n",
       "      <td>0</td>\n",
       "      <td>0</td>\n",
       "      <td>0</td>\n",
       "      <td>0</td>\n",
       "      <td>0</td>\n",
       "      <td>0</td>\n",
       "      <td>0</td>\n",
       "      <td>0</td>\n",
       "      <td>0</td>\n",
       "      <td>0</td>\n",
       "      <td>0</td>\n",
       "      <td>0</td>\n",
       "      <td>0</td>\n",
       "      <td>0</td>\n",
       "      <td>0</td>\n",
       "      <td>0</td>\n",
       "      <td>0</td>\n",
       "    </tr>\n",
       "    <tr>\n",
       "      <th>A030530627MK66BD8V4LN</th>\n",
       "      <td>0</td>\n",
       "      <td>0</td>\n",
       "      <td>0</td>\n",
       "      <td>0</td>\n",
       "      <td>0</td>\n",
       "      <td>0</td>\n",
       "      <td>0</td>\n",
       "      <td>0</td>\n",
       "      <td>0</td>\n",
       "      <td>0</td>\n",
       "      <td>0</td>\n",
       "      <td>0</td>\n",
       "      <td>0</td>\n",
       "      <td>0</td>\n",
       "      <td>0</td>\n",
       "      <td>0</td>\n",
       "      <td>4</td>\n",
       "      <td>0</td>\n",
       "      <td>0</td>\n",
       "      <td>0</td>\n",
       "      <td>0</td>\n",
       "      <td>0</td>\n",
       "      <td>0</td>\n",
       "      <td>0</td>\n",
       "      <td>0</td>\n",
       "      <td>0</td>\n",
       "      <td>0</td>\n",
       "      <td>0</td>\n",
       "      <td>0</td>\n",
       "      <td>0</td>\n",
       "      <td>0</td>\n",
       "      <td>0</td>\n",
       "      <td>0</td>\n",
       "      <td>0</td>\n",
       "      <td>0</td>\n",
       "      <td>0</td>\n",
       "      <td>0</td>\n",
       "      <td>0</td>\n",
       "      <td>0</td>\n",
       "      <td>0</td>\n",
       "      <td>0</td>\n",
       "      <td>0</td>\n",
       "      <td>0</td>\n",
       "      <td>0</td>\n",
       "      <td>0</td>\n",
       "      <td>0</td>\n",
       "      <td>0</td>\n",
       "      <td>0</td>\n",
       "      <td>0</td>\n",
       "      <td>0</td>\n",
       "      <td>0</td>\n",
       "      <td>0</td>\n",
       "      <td>0</td>\n",
       "      <td>0</td>\n",
       "      <td>0</td>\n",
       "      <td>0</td>\n",
       "      <td>0</td>\n",
       "      <td>0</td>\n",
       "      <td>0</td>\n",
       "      <td>0</td>\n",
       "      <td>0</td>\n",
       "      <td>0</td>\n",
       "      <td>0</td>\n",
       "      <td>0</td>\n",
       "      <td>0</td>\n",
       "      <td>0</td>\n",
       "      <td>0</td>\n",
       "      <td>0</td>\n",
       "      <td>0</td>\n",
       "      <td>0</td>\n",
       "      <td>0</td>\n",
       "      <td>0</td>\n",
       "      <td>0</td>\n",
       "      <td>0</td>\n",
       "      <td>0</td>\n",
       "      <td>0</td>\n",
       "    </tr>\n",
       "    <tr>\n",
       "      <th>A0571176384K8RBNKGF8O</th>\n",
       "      <td>0</td>\n",
       "      <td>0</td>\n",
       "      <td>0</td>\n",
       "      <td>0</td>\n",
       "      <td>0</td>\n",
       "      <td>0</td>\n",
       "      <td>0</td>\n",
       "      <td>0</td>\n",
       "      <td>0</td>\n",
       "      <td>0</td>\n",
       "      <td>0</td>\n",
       "      <td>0</td>\n",
       "      <td>0</td>\n",
       "      <td>0</td>\n",
       "      <td>0</td>\n",
       "      <td>0</td>\n",
       "      <td>0</td>\n",
       "      <td>0</td>\n",
       "      <td>0</td>\n",
       "      <td>0</td>\n",
       "      <td>0</td>\n",
       "      <td>0</td>\n",
       "      <td>0</td>\n",
       "      <td>0</td>\n",
       "      <td>0</td>\n",
       "      <td>0</td>\n",
       "      <td>0</td>\n",
       "      <td>0</td>\n",
       "      <td>0</td>\n",
       "      <td>0</td>\n",
       "      <td>0</td>\n",
       "      <td>0</td>\n",
       "      <td>0</td>\n",
       "      <td>0</td>\n",
       "      <td>0</td>\n",
       "      <td>0</td>\n",
       "      <td>0</td>\n",
       "      <td>0</td>\n",
       "      <td>0</td>\n",
       "      <td>0</td>\n",
       "      <td>0</td>\n",
       "      <td>0</td>\n",
       "      <td>0</td>\n",
       "      <td>0</td>\n",
       "      <td>0</td>\n",
       "      <td>0</td>\n",
       "      <td>0</td>\n",
       "      <td>0</td>\n",
       "      <td>0</td>\n",
       "      <td>0</td>\n",
       "      <td>0</td>\n",
       "      <td>0</td>\n",
       "      <td>0</td>\n",
       "      <td>0</td>\n",
       "      <td>0</td>\n",
       "      <td>0</td>\n",
       "      <td>0</td>\n",
       "      <td>0</td>\n",
       "      <td>0</td>\n",
       "      <td>0</td>\n",
       "      <td>5</td>\n",
       "      <td>0</td>\n",
       "      <td>0</td>\n",
       "      <td>0</td>\n",
       "      <td>0</td>\n",
       "      <td>0</td>\n",
       "      <td>0</td>\n",
       "      <td>0</td>\n",
       "      <td>0</td>\n",
       "      <td>0</td>\n",
       "      <td>0</td>\n",
       "      <td>0</td>\n",
       "      <td>0</td>\n",
       "      <td>0</td>\n",
       "      <td>0</td>\n",
       "      <td>0</td>\n",
       "    </tr>\n",
       "  </tbody>\n",
       "</table>\n",
       "</div>"
      ],
      "text/plain": [
       "ProdID                 1400501466  1400501520  ...  B00000JYWQ  B00000K135\n",
       "UserID                                         ...                        \n",
       "A01852072Z7B68UHLI5UG           0           0  ...           0           0\n",
       "A0266076X6KPZ6CCHGVS            0           0  ...           0           0\n",
       "A0293130VTX2ZXA70JQS            0           0  ...           0           0\n",
       "A030530627MK66BD8V4LN           0           0  ...           0           0\n",
       "A0571176384K8RBNKGF8O           0           0  ...           0           0\n",
       "\n",
       "[5 rows x 76 columns]"
      ]
     },
     "execution_count": 47,
     "metadata": {
      "tags": []
     },
     "output_type": "execute_result"
    }
   ],
   "source": [
    "new_df1=dat_40.head(10000)\n",
    "ratings_matrix = new_df1.pivot_table(values='Rating', index='UserID', columns='ProdID', fill_value=0)\n",
    "ratings_matrix.head()"
   ]
  },
  {
   "cell_type": "markdown",
   "metadata": {
    "id": "e1ogkcKVA2GI"
   },
   "source": [
    "As expected, the utility matrix obtaned above is sparce, I have filled up the unknown values wth 0."
   ]
  },
  {
   "cell_type": "code",
   "execution_count": null,
   "metadata": {
    "colab": {
     "base_uri": "https://localhost:8080/"
    },
    "id": "WbkgkjFCAVqM",
    "outputId": "b49360b2-495c-4de7-c7f4-8736c692465a"
   },
   "outputs": [
    {
     "data": {
      "text/plain": [
       "(9832, 76)"
      ]
     },
     "execution_count": 48,
     "metadata": {
      "tags": []
     },
     "output_type": "execute_result"
    }
   ],
   "source": [
    "ratings_matrix.shape"
   ]
  },
  {
   "cell_type": "markdown",
   "metadata": {
    "id": "itKwFSNVA-Lx"
   },
   "source": [
    "Transposing the matrix\n",
    "\n"
   ]
  },
  {
   "cell_type": "code",
   "execution_count": null,
   "metadata": {
    "colab": {
     "base_uri": "https://localhost:8080/",
     "height": 282
    },
    "id": "AkSjjIgYA7Kf",
    "outputId": "46cef050-cd26-4f6e-e406-fd4c9161fd7c"
   },
   "outputs": [
    {
     "data": {
      "text/html": [
       "<div>\n",
       "<style scoped>\n",
       "    .dataframe tbody tr th:only-of-type {\n",
       "        vertical-align: middle;\n",
       "    }\n",
       "\n",
       "    .dataframe tbody tr th {\n",
       "        vertical-align: top;\n",
       "    }\n",
       "\n",
       "    .dataframe thead th {\n",
       "        text-align: right;\n",
       "    }\n",
       "</style>\n",
       "<table border=\"1\" class=\"dataframe\">\n",
       "  <thead>\n",
       "    <tr style=\"text-align: right;\">\n",
       "      <th>UserID</th>\n",
       "      <th>A01852072Z7B68UHLI5UG</th>\n",
       "      <th>A0266076X6KPZ6CCHGVS</th>\n",
       "      <th>A0293130VTX2ZXA70JQS</th>\n",
       "      <th>A030530627MK66BD8V4LN</th>\n",
       "      <th>A0571176384K8RBNKGF8O</th>\n",
       "      <th>A0590501PZ7HOWJKBGQ4</th>\n",
       "      <th>A0641581307AKT5MAOU0Q</th>\n",
       "      <th>A076219533YHEV2LJO988</th>\n",
       "      <th>A0821988FXKFYX53V4QG</th>\n",
       "      <th>A099626739FNCRNHIKBCG</th>\n",
       "      <th>A1003EYWAQFOUG</th>\n",
       "      <th>A100LLXMXDZHJZ</th>\n",
       "      <th>A10121433FMMZNY18RWZ8</th>\n",
       "      <th>A1013OEQCVS6AR</th>\n",
       "      <th>A1013Q8NLCY56R</th>\n",
       "      <th>A101DJDPGK0Q46</th>\n",
       "      <th>A101IWCCIWQWC9</th>\n",
       "      <th>A10285OSAM1MZK</th>\n",
       "      <th>A102IUFPXVDRB6</th>\n",
       "      <th>A102L0RVI4LHH3</th>\n",
       "      <th>A102RLOGIBBDMW</th>\n",
       "      <th>A102ZABPUPNYCT</th>\n",
       "      <th>A1038957GWRBP375RU5T</th>\n",
       "      <th>A103XY7DJYZHFN</th>\n",
       "      <th>A104VHQ06KFLDT</th>\n",
       "      <th>A1058D8UFZL711</th>\n",
       "      <th>A105AZN9C8UAOJ</th>\n",
       "      <th>A105TOJ6LTVMBG</th>\n",
       "      <th>A106YUCY4SVX1D</th>\n",
       "      <th>A1077JEY0CE3BB</th>\n",
       "      <th>A1079KKA0AXSL3</th>\n",
       "      <th>A107I2HYD2JZ5G</th>\n",
       "      <th>A1089S59XSJT2T</th>\n",
       "      <th>A108LYH0NZ9919</th>\n",
       "      <th>A108UXJTIV8XXY</th>\n",
       "      <th>A10956KAP9F1CO</th>\n",
       "      <th>A109ZR833WIFQS</th>\n",
       "      <th>A10BH1JDT6SNGA</th>\n",
       "      <th>A10BOETDPAFJ4C</th>\n",
       "      <th>A10CRW7XRJBJ2G</th>\n",
       "      <th>...</th>\n",
       "      <th>AZKKZ58QBXZUA</th>\n",
       "      <th>AZKOO6TVQBDAF</th>\n",
       "      <th>AZL95QPWJDM3Y</th>\n",
       "      <th>AZM8PD2KBVXN5</th>\n",
       "      <th>AZMCJ61JS6L3X</th>\n",
       "      <th>AZMY6E8B52L2T</th>\n",
       "      <th>AZN6Z0QRMZYX8</th>\n",
       "      <th>AZNMO6T8G0ZEU</th>\n",
       "      <th>AZNVF1G1GJRR4</th>\n",
       "      <th>AZO3DZAJ8S0D9</th>\n",
       "      <th>AZODG8OG0CETL</th>\n",
       "      <th>AZOFJX627J181</th>\n",
       "      <th>AZOPTWUSS6UM0</th>\n",
       "      <th>AZOTUFIYPVNDT</th>\n",
       "      <th>AZPPZOYTNLEN0</th>\n",
       "      <th>AZPT44204EODM</th>\n",
       "      <th>AZPT6K5K0IVCT</th>\n",
       "      <th>AZPYIAOEAV3OZ</th>\n",
       "      <th>AZQ2YSCWSKWX6</th>\n",
       "      <th>AZQ9DYG38GVBR</th>\n",
       "      <th>AZQJQBJ75DHMS</th>\n",
       "      <th>AZQOWHUHXMIMS</th>\n",
       "      <th>AZQQVI9RHJYH6</th>\n",
       "      <th>AZQTJ6HUS5L2Q</th>\n",
       "      <th>AZRPGTU8A7KD5</th>\n",
       "      <th>AZS8W54PXQ01W</th>\n",
       "      <th>AZSUNAT0BRQDU</th>\n",
       "      <th>AZTC7YC8PKG39</th>\n",
       "      <th>AZTC8ZV20NO1D</th>\n",
       "      <th>AZV9WA9MNT0FB</th>\n",
       "      <th>AZWOPBY75SGAM</th>\n",
       "      <th>AZX0ZDVAFMN78</th>\n",
       "      <th>AZX5LAN9JEAFF</th>\n",
       "      <th>AZX7I110AF0W2</th>\n",
       "      <th>AZXKUK895VGSM</th>\n",
       "      <th>AZXP46IB63PU8</th>\n",
       "      <th>AZYTSU42BZ7TP</th>\n",
       "      <th>AZZGJ2KMWB7R</th>\n",
       "      <th>AZZMV5VT9W7Y8</th>\n",
       "      <th>AZZST8OYL5P4Q</th>\n",
       "    </tr>\n",
       "    <tr>\n",
       "      <th>ProdID</th>\n",
       "      <th></th>\n",
       "      <th></th>\n",
       "      <th></th>\n",
       "      <th></th>\n",
       "      <th></th>\n",
       "      <th></th>\n",
       "      <th></th>\n",
       "      <th></th>\n",
       "      <th></th>\n",
       "      <th></th>\n",
       "      <th></th>\n",
       "      <th></th>\n",
       "      <th></th>\n",
       "      <th></th>\n",
       "      <th></th>\n",
       "      <th></th>\n",
       "      <th></th>\n",
       "      <th></th>\n",
       "      <th></th>\n",
       "      <th></th>\n",
       "      <th></th>\n",
       "      <th></th>\n",
       "      <th></th>\n",
       "      <th></th>\n",
       "      <th></th>\n",
       "      <th></th>\n",
       "      <th></th>\n",
       "      <th></th>\n",
       "      <th></th>\n",
       "      <th></th>\n",
       "      <th></th>\n",
       "      <th></th>\n",
       "      <th></th>\n",
       "      <th></th>\n",
       "      <th></th>\n",
       "      <th></th>\n",
       "      <th></th>\n",
       "      <th></th>\n",
       "      <th></th>\n",
       "      <th></th>\n",
       "      <th></th>\n",
       "      <th></th>\n",
       "      <th></th>\n",
       "      <th></th>\n",
       "      <th></th>\n",
       "      <th></th>\n",
       "      <th></th>\n",
       "      <th></th>\n",
       "      <th></th>\n",
       "      <th></th>\n",
       "      <th></th>\n",
       "      <th></th>\n",
       "      <th></th>\n",
       "      <th></th>\n",
       "      <th></th>\n",
       "      <th></th>\n",
       "      <th></th>\n",
       "      <th></th>\n",
       "      <th></th>\n",
       "      <th></th>\n",
       "      <th></th>\n",
       "      <th></th>\n",
       "      <th></th>\n",
       "      <th></th>\n",
       "      <th></th>\n",
       "      <th></th>\n",
       "      <th></th>\n",
       "      <th></th>\n",
       "      <th></th>\n",
       "      <th></th>\n",
       "      <th></th>\n",
       "      <th></th>\n",
       "      <th></th>\n",
       "      <th></th>\n",
       "      <th></th>\n",
       "      <th></th>\n",
       "      <th></th>\n",
       "      <th></th>\n",
       "      <th></th>\n",
       "      <th></th>\n",
       "      <th></th>\n",
       "    </tr>\n",
       "  </thead>\n",
       "  <tbody>\n",
       "    <tr>\n",
       "      <th>1400501466</th>\n",
       "      <td>0</td>\n",
       "      <td>0</td>\n",
       "      <td>0</td>\n",
       "      <td>0</td>\n",
       "      <td>0</td>\n",
       "      <td>0</td>\n",
       "      <td>0</td>\n",
       "      <td>0</td>\n",
       "      <td>0</td>\n",
       "      <td>0</td>\n",
       "      <td>0</td>\n",
       "      <td>0</td>\n",
       "      <td>0</td>\n",
       "      <td>0</td>\n",
       "      <td>0</td>\n",
       "      <td>0</td>\n",
       "      <td>0</td>\n",
       "      <td>0</td>\n",
       "      <td>0</td>\n",
       "      <td>0</td>\n",
       "      <td>0</td>\n",
       "      <td>0</td>\n",
       "      <td>0</td>\n",
       "      <td>0</td>\n",
       "      <td>0</td>\n",
       "      <td>0</td>\n",
       "      <td>0</td>\n",
       "      <td>0</td>\n",
       "      <td>0</td>\n",
       "      <td>0</td>\n",
       "      <td>0</td>\n",
       "      <td>5</td>\n",
       "      <td>5</td>\n",
       "      <td>0</td>\n",
       "      <td>0</td>\n",
       "      <td>0</td>\n",
       "      <td>0</td>\n",
       "      <td>0</td>\n",
       "      <td>0</td>\n",
       "      <td>0</td>\n",
       "      <td>...</td>\n",
       "      <td>0</td>\n",
       "      <td>0</td>\n",
       "      <td>0</td>\n",
       "      <td>0</td>\n",
       "      <td>0</td>\n",
       "      <td>0</td>\n",
       "      <td>0</td>\n",
       "      <td>0</td>\n",
       "      <td>0</td>\n",
       "      <td>0</td>\n",
       "      <td>0</td>\n",
       "      <td>0</td>\n",
       "      <td>0</td>\n",
       "      <td>0</td>\n",
       "      <td>0</td>\n",
       "      <td>0</td>\n",
       "      <td>0</td>\n",
       "      <td>0</td>\n",
       "      <td>0</td>\n",
       "      <td>0</td>\n",
       "      <td>0</td>\n",
       "      <td>0</td>\n",
       "      <td>3</td>\n",
       "      <td>0</td>\n",
       "      <td>0</td>\n",
       "      <td>0</td>\n",
       "      <td>0</td>\n",
       "      <td>0</td>\n",
       "      <td>0</td>\n",
       "      <td>0</td>\n",
       "      <td>0</td>\n",
       "      <td>0</td>\n",
       "      <td>0</td>\n",
       "      <td>0</td>\n",
       "      <td>0</td>\n",
       "      <td>0</td>\n",
       "      <td>0</td>\n",
       "      <td>0</td>\n",
       "      <td>0</td>\n",
       "      <td>0</td>\n",
       "    </tr>\n",
       "    <tr>\n",
       "      <th>1400501520</th>\n",
       "      <td>0</td>\n",
       "      <td>0</td>\n",
       "      <td>0</td>\n",
       "      <td>0</td>\n",
       "      <td>0</td>\n",
       "      <td>0</td>\n",
       "      <td>0</td>\n",
       "      <td>0</td>\n",
       "      <td>0</td>\n",
       "      <td>3</td>\n",
       "      <td>0</td>\n",
       "      <td>0</td>\n",
       "      <td>0</td>\n",
       "      <td>0</td>\n",
       "      <td>0</td>\n",
       "      <td>0</td>\n",
       "      <td>0</td>\n",
       "      <td>0</td>\n",
       "      <td>0</td>\n",
       "      <td>0</td>\n",
       "      <td>0</td>\n",
       "      <td>0</td>\n",
       "      <td>0</td>\n",
       "      <td>0</td>\n",
       "      <td>0</td>\n",
       "      <td>0</td>\n",
       "      <td>0</td>\n",
       "      <td>0</td>\n",
       "      <td>0</td>\n",
       "      <td>0</td>\n",
       "      <td>0</td>\n",
       "      <td>0</td>\n",
       "      <td>0</td>\n",
       "      <td>0</td>\n",
       "      <td>0</td>\n",
       "      <td>0</td>\n",
       "      <td>0</td>\n",
       "      <td>0</td>\n",
       "      <td>0</td>\n",
       "      <td>0</td>\n",
       "      <td>...</td>\n",
       "      <td>0</td>\n",
       "      <td>0</td>\n",
       "      <td>0</td>\n",
       "      <td>0</td>\n",
       "      <td>0</td>\n",
       "      <td>0</td>\n",
       "      <td>0</td>\n",
       "      <td>0</td>\n",
       "      <td>0</td>\n",
       "      <td>0</td>\n",
       "      <td>0</td>\n",
       "      <td>0</td>\n",
       "      <td>0</td>\n",
       "      <td>0</td>\n",
       "      <td>0</td>\n",
       "      <td>0</td>\n",
       "      <td>0</td>\n",
       "      <td>0</td>\n",
       "      <td>0</td>\n",
       "      <td>0</td>\n",
       "      <td>0</td>\n",
       "      <td>0</td>\n",
       "      <td>0</td>\n",
       "      <td>0</td>\n",
       "      <td>0</td>\n",
       "      <td>0</td>\n",
       "      <td>0</td>\n",
       "      <td>0</td>\n",
       "      <td>0</td>\n",
       "      <td>0</td>\n",
       "      <td>0</td>\n",
       "      <td>0</td>\n",
       "      <td>0</td>\n",
       "      <td>0</td>\n",
       "      <td>0</td>\n",
       "      <td>0</td>\n",
       "      <td>0</td>\n",
       "      <td>0</td>\n",
       "      <td>0</td>\n",
       "      <td>0</td>\n",
       "    </tr>\n",
       "    <tr>\n",
       "      <th>1400501776</th>\n",
       "      <td>0</td>\n",
       "      <td>0</td>\n",
       "      <td>0</td>\n",
       "      <td>0</td>\n",
       "      <td>0</td>\n",
       "      <td>0</td>\n",
       "      <td>0</td>\n",
       "      <td>0</td>\n",
       "      <td>0</td>\n",
       "      <td>0</td>\n",
       "      <td>0</td>\n",
       "      <td>0</td>\n",
       "      <td>0</td>\n",
       "      <td>0</td>\n",
       "      <td>0</td>\n",
       "      <td>0</td>\n",
       "      <td>0</td>\n",
       "      <td>0</td>\n",
       "      <td>0</td>\n",
       "      <td>0</td>\n",
       "      <td>0</td>\n",
       "      <td>0</td>\n",
       "      <td>0</td>\n",
       "      <td>0</td>\n",
       "      <td>0</td>\n",
       "      <td>0</td>\n",
       "      <td>0</td>\n",
       "      <td>0</td>\n",
       "      <td>0</td>\n",
       "      <td>0</td>\n",
       "      <td>0</td>\n",
       "      <td>0</td>\n",
       "      <td>0</td>\n",
       "      <td>0</td>\n",
       "      <td>0</td>\n",
       "      <td>0</td>\n",
       "      <td>0</td>\n",
       "      <td>0</td>\n",
       "      <td>0</td>\n",
       "      <td>0</td>\n",
       "      <td>...</td>\n",
       "      <td>0</td>\n",
       "      <td>0</td>\n",
       "      <td>0</td>\n",
       "      <td>0</td>\n",
       "      <td>0</td>\n",
       "      <td>0</td>\n",
       "      <td>0</td>\n",
       "      <td>0</td>\n",
       "      <td>0</td>\n",
       "      <td>0</td>\n",
       "      <td>0</td>\n",
       "      <td>0</td>\n",
       "      <td>0</td>\n",
       "      <td>0</td>\n",
       "      <td>0</td>\n",
       "      <td>0</td>\n",
       "      <td>0</td>\n",
       "      <td>0</td>\n",
       "      <td>0</td>\n",
       "      <td>0</td>\n",
       "      <td>0</td>\n",
       "      <td>4</td>\n",
       "      <td>0</td>\n",
       "      <td>0</td>\n",
       "      <td>0</td>\n",
       "      <td>0</td>\n",
       "      <td>0</td>\n",
       "      <td>0</td>\n",
       "      <td>0</td>\n",
       "      <td>0</td>\n",
       "      <td>0</td>\n",
       "      <td>0</td>\n",
       "      <td>0</td>\n",
       "      <td>0</td>\n",
       "      <td>0</td>\n",
       "      <td>0</td>\n",
       "      <td>0</td>\n",
       "      <td>0</td>\n",
       "      <td>1</td>\n",
       "      <td>0</td>\n",
       "    </tr>\n",
       "    <tr>\n",
       "      <th>1400532620</th>\n",
       "      <td>0</td>\n",
       "      <td>0</td>\n",
       "      <td>0</td>\n",
       "      <td>0</td>\n",
       "      <td>0</td>\n",
       "      <td>0</td>\n",
       "      <td>0</td>\n",
       "      <td>0</td>\n",
       "      <td>0</td>\n",
       "      <td>0</td>\n",
       "      <td>0</td>\n",
       "      <td>0</td>\n",
       "      <td>0</td>\n",
       "      <td>0</td>\n",
       "      <td>0</td>\n",
       "      <td>5</td>\n",
       "      <td>0</td>\n",
       "      <td>0</td>\n",
       "      <td>0</td>\n",
       "      <td>0</td>\n",
       "      <td>0</td>\n",
       "      <td>0</td>\n",
       "      <td>0</td>\n",
       "      <td>0</td>\n",
       "      <td>0</td>\n",
       "      <td>0</td>\n",
       "      <td>0</td>\n",
       "      <td>0</td>\n",
       "      <td>0</td>\n",
       "      <td>0</td>\n",
       "      <td>0</td>\n",
       "      <td>0</td>\n",
       "      <td>0</td>\n",
       "      <td>0</td>\n",
       "      <td>0</td>\n",
       "      <td>0</td>\n",
       "      <td>0</td>\n",
       "      <td>0</td>\n",
       "      <td>5</td>\n",
       "      <td>0</td>\n",
       "      <td>...</td>\n",
       "      <td>0</td>\n",
       "      <td>0</td>\n",
       "      <td>0</td>\n",
       "      <td>0</td>\n",
       "      <td>0</td>\n",
       "      <td>0</td>\n",
       "      <td>0</td>\n",
       "      <td>0</td>\n",
       "      <td>0</td>\n",
       "      <td>0</td>\n",
       "      <td>0</td>\n",
       "      <td>0</td>\n",
       "      <td>0</td>\n",
       "      <td>0</td>\n",
       "      <td>0</td>\n",
       "      <td>0</td>\n",
       "      <td>0</td>\n",
       "      <td>0</td>\n",
       "      <td>0</td>\n",
       "      <td>0</td>\n",
       "      <td>0</td>\n",
       "      <td>0</td>\n",
       "      <td>0</td>\n",
       "      <td>0</td>\n",
       "      <td>0</td>\n",
       "      <td>0</td>\n",
       "      <td>0</td>\n",
       "      <td>0</td>\n",
       "      <td>0</td>\n",
       "      <td>0</td>\n",
       "      <td>0</td>\n",
       "      <td>0</td>\n",
       "      <td>0</td>\n",
       "      <td>0</td>\n",
       "      <td>0</td>\n",
       "      <td>0</td>\n",
       "      <td>0</td>\n",
       "      <td>0</td>\n",
       "      <td>0</td>\n",
       "      <td>0</td>\n",
       "    </tr>\n",
       "    <tr>\n",
       "      <th>1400532655</th>\n",
       "      <td>0</td>\n",
       "      <td>0</td>\n",
       "      <td>0</td>\n",
       "      <td>0</td>\n",
       "      <td>0</td>\n",
       "      <td>0</td>\n",
       "      <td>0</td>\n",
       "      <td>0</td>\n",
       "      <td>0</td>\n",
       "      <td>0</td>\n",
       "      <td>0</td>\n",
       "      <td>0</td>\n",
       "      <td>0</td>\n",
       "      <td>0</td>\n",
       "      <td>0</td>\n",
       "      <td>0</td>\n",
       "      <td>0</td>\n",
       "      <td>0</td>\n",
       "      <td>0</td>\n",
       "      <td>0</td>\n",
       "      <td>4</td>\n",
       "      <td>0</td>\n",
       "      <td>0</td>\n",
       "      <td>0</td>\n",
       "      <td>0</td>\n",
       "      <td>4</td>\n",
       "      <td>0</td>\n",
       "      <td>0</td>\n",
       "      <td>0</td>\n",
       "      <td>0</td>\n",
       "      <td>0</td>\n",
       "      <td>0</td>\n",
       "      <td>0</td>\n",
       "      <td>0</td>\n",
       "      <td>0</td>\n",
       "      <td>0</td>\n",
       "      <td>0</td>\n",
       "      <td>0</td>\n",
       "      <td>0</td>\n",
       "      <td>0</td>\n",
       "      <td>...</td>\n",
       "      <td>0</td>\n",
       "      <td>0</td>\n",
       "      <td>0</td>\n",
       "      <td>0</td>\n",
       "      <td>0</td>\n",
       "      <td>0</td>\n",
       "      <td>0</td>\n",
       "      <td>0</td>\n",
       "      <td>0</td>\n",
       "      <td>0</td>\n",
       "      <td>0</td>\n",
       "      <td>0</td>\n",
       "      <td>0</td>\n",
       "      <td>0</td>\n",
       "      <td>0</td>\n",
       "      <td>0</td>\n",
       "      <td>0</td>\n",
       "      <td>0</td>\n",
       "      <td>0</td>\n",
       "      <td>0</td>\n",
       "      <td>0</td>\n",
       "      <td>0</td>\n",
       "      <td>0</td>\n",
       "      <td>0</td>\n",
       "      <td>0</td>\n",
       "      <td>0</td>\n",
       "      <td>0</td>\n",
       "      <td>0</td>\n",
       "      <td>0</td>\n",
       "      <td>5</td>\n",
       "      <td>0</td>\n",
       "      <td>0</td>\n",
       "      <td>0</td>\n",
       "      <td>0</td>\n",
       "      <td>0</td>\n",
       "      <td>0</td>\n",
       "      <td>3</td>\n",
       "      <td>0</td>\n",
       "      <td>0</td>\n",
       "      <td>0</td>\n",
       "    </tr>\n",
       "  </tbody>\n",
       "</table>\n",
       "<p>5 rows × 9832 columns</p>\n",
       "</div>"
      ],
      "text/plain": [
       "UserID      A01852072Z7B68UHLI5UG  ...  AZZST8OYL5P4Q\n",
       "ProdID                             ...               \n",
       "1400501466                      0  ...              0\n",
       "1400501520                      0  ...              0\n",
       "1400501776                      0  ...              0\n",
       "1400532620                      0  ...              0\n",
       "1400532655                      0  ...              0\n",
       "\n",
       "[5 rows x 9832 columns]"
      ]
     },
     "execution_count": 49,
     "metadata": {
      "tags": []
     },
     "output_type": "execute_result"
    }
   ],
   "source": [
    "X = ratings_matrix.T\n",
    "X.head()"
   ]
  },
  {
   "cell_type": "code",
   "execution_count": null,
   "metadata": {
    "colab": {
     "base_uri": "https://localhost:8080/"
    },
    "id": "64zI3MaWBCc6",
    "outputId": "cf1df5a4-8010-460f-bfa9-bc215885b385"
   },
   "outputs": [
    {
     "data": {
      "text/plain": [
       "(76, 9832)"
      ]
     },
     "execution_count": 50,
     "metadata": {
      "tags": []
     },
     "output_type": "execute_result"
    }
   ],
   "source": [
    "X.shape"
   ]
  },
  {
   "cell_type": "markdown",
   "metadata": {
    "id": "sa_-DoW3BHg_"
   },
   "source": [
    "Unique products in subset of data\n",
    "\n"
   ]
  },
  {
   "cell_type": "code",
   "execution_count": null,
   "metadata": {
    "id": "d3Nb5k2_BFVq"
   },
   "outputs": [],
   "source": [
    "X1=X"
   ]
  },
  {
   "cell_type": "code",
   "execution_count": null,
   "metadata": {
    "colab": {
     "base_uri": "https://localhost:8080/"
    },
    "id": "Z1JgOCbpBJtM",
    "outputId": "1730edd4-8f41-49c5-b523-c08f758bd2ba"
   },
   "outputs": [
    {
     "data": {
      "text/plain": [
       "(76, 10)"
      ]
     },
     "execution_count": 52,
     "metadata": {
      "tags": []
     },
     "output_type": "execute_result"
    }
   ],
   "source": [
    "#Decomposing the Matrix\n",
    "from sklearn.decomposition import TruncatedSVD\n",
    "SVD = TruncatedSVD(n_components=10)\n",
    "decomposed_matrix = SVD.fit_transform(X)\n",
    "decomposed_matrix.shape"
   ]
  },
  {
   "cell_type": "code",
   "execution_count": null,
   "metadata": {
    "colab": {
     "base_uri": "https://localhost:8080/"
    },
    "id": "YydiDsKvBLoO",
    "outputId": "aa903ed9-5d1b-4ba1-ac19-9814b6d4acec"
   },
   "outputs": [
    {
     "data": {
      "text/plain": [
       "(76, 76)"
      ]
     },
     "execution_count": 53,
     "metadata": {
      "tags": []
     },
     "output_type": "execute_result"
    }
   ],
   "source": [
    "#Correlation Matrix\n",
    "\n",
    "correlation_matrix = np.corrcoef(decomposed_matrix)\n",
    "correlation_matrix.shape"
   ]
  },
  {
   "cell_type": "code",
   "execution_count": null,
   "metadata": {
    "colab": {
     "base_uri": "https://localhost:8080/",
     "height": 35
    },
    "id": "UO9rltUBBNs2",
    "outputId": "69e3f1ba-0b99-46b3-c2ba-cad6069f36d7"
   },
   "outputs": [
    {
     "data": {
      "application/vnd.google.colaboratory.intrinsic+json": {
       "type": "string"
      },
      "text/plain": [
       "'B00000K135'"
      ]
     },
     "execution_count": 54,
     "metadata": {
      "tags": []
     },
     "output_type": "execute_result"
    }
   ],
   "source": [
    "X.index[75]\n"
   ]
  },
  {
   "cell_type": "markdown",
   "metadata": {
    "id": "XMBlJRRdBaDU"
   },
   "source": [
    "Index number of product ID purchased by customer\n"
   ]
  },
  {
   "cell_type": "markdown",
   "metadata": {
    "id": "Y1VxeZGPBVMt"
   },
   "source": []
  },
  {
   "cell_type": "code",
   "execution_count": null,
   "metadata": {
    "colab": {
     "base_uri": "https://localhost:8080/"
    },
    "id": "-q5bvz2JBS0R",
    "outputId": "726de030-71f9-4004-a324-489823152a18"
   },
   "outputs": [
    {
     "data": {
      "text/plain": [
       "75"
      ]
     },
     "execution_count": 57,
     "metadata": {
      "tags": []
     },
     "output_type": "execute_result"
    }
   ],
   "source": [
    "i = \"B00000K135\"\n",
    "\n",
    "product_names = list(X.index)\n",
    "product_ID = product_names.index(i)\n",
    "product_ID"
   ]
  },
  {
   "cell_type": "markdown",
   "metadata": {
    "id": "YIJkly0PBcvb"
   },
   "source": [
    "Correlation for all items with the item purchased by this customer based on items rated by other customers people who bought the same product"
   ]
  },
  {
   "cell_type": "code",
   "execution_count": null,
   "metadata": {
    "colab": {
     "base_uri": "https://localhost:8080/"
    },
    "id": "65oRScueBfRy",
    "outputId": "83c126fa-912f-4765-b4c1-73a9caf4d7c7"
   },
   "outputs": [
    {
     "data": {
      "text/plain": [
       "(76,)"
      ]
     },
     "execution_count": 58,
     "metadata": {
      "tags": []
     },
     "output_type": "execute_result"
    }
   ],
   "source": [
    "correlation_product_ID = correlation_matrix[product_ID]\n",
    "correlation_product_ID.shape"
   ]
  },
  {
   "cell_type": "markdown",
   "metadata": {
    "id": "YE0vPRpVDL_D"
   },
   "source": [
    "Recommending top 25 highly correlated products in sequence"
   ]
  },
  {
   "cell_type": "code",
   "execution_count": null,
   "metadata": {
    "colab": {
     "base_uri": "https://localhost:8080/"
    },
    "id": "5ko5KtbeDQUR",
    "outputId": "3d059cfd-5968-4125-c02c-af877752aaf8"
   },
   "outputs": [
    {
     "data": {
      "text/plain": [
       "['1400599997',\n",
       " '7214047977',\n",
       " '9575871979',\n",
       " '9983891212',\n",
       " '9984984354',\n",
       " 'B00000IGBF',\n",
       " 'B00000J08Q',\n",
       " 'B00000J0D2',\n",
       " 'B00000J0D5',\n",
       " 'B00000J1SC',\n",
       " 'B00000J1V3',\n",
       " 'B00000J434',\n",
       " 'B00000J4EY',\n",
       " 'B00000J4FS',\n",
       " 'B00000JCT8',\n",
       " 'B00000JCTO',\n",
       " 'B00000JFE3']"
      ]
     },
     "execution_count": 59,
     "metadata": {
      "tags": []
     },
     "output_type": "execute_result"
    }
   ],
   "source": [
    "Recommend = list(X.index[correlation_product_ID > 0.65])\n",
    "\n",
    "# Removes the item already bought by the customer\n",
    "Recommend.remove(i) \n",
    "\n",
    "Recommend[0:24]"
   ]
  },
  {
   "cell_type": "markdown",
   "metadata": {
    "id": "5jBCt9hcDTyK"
   },
   "source": [
    "Here are the top 10 products to be displayed by the recommendation system to the above customer based on the purchase history of other customers in the website."
   ]
  }
 ],
 "metadata": {
  "colab": {
   "collapsed_sections": [],
   "name": "RecommenderSystems.ipynb",
   "provenance": []
  },
  "kernelspec": {
   "display_name": "Python 3",
   "language": "python",
   "name": "python3"
  },
  "language_info": {
   "codemirror_mode": {
    "name": "ipython",
    "version": 3
   },
   "file_extension": ".py",
   "mimetype": "text/x-python",
   "name": "python",
   "nbconvert_exporter": "python",
   "pygments_lexer": "ipython3",
   "version": "3.8.3"
  }
 },
 "nbformat": 4,
 "nbformat_minor": 1
}
